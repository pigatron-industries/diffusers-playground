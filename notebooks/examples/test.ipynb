{
 "cells": [
  {
   "cell_type": "code",
   "execution_count": null,
   "metadata": {},
   "outputs": [],
   "source": [
    "!pip install -r ../requirements.txt"
   ]
  },
  {
   "cell_type": "code",
   "execution_count": 1,
   "metadata": {},
   "outputs": [],
   "source": [
    "import path\n",
    "path.setPathLocalNotebook()\n",
    "\n",
    "from diffuserslib import loginHuggingFace, DiffusersPipelines, DiffusersBaseModel\n",
    "\n",
    "# loginHuggingFace('token')\n",
    "\n",
    "pipelines = DiffusersPipelines(device = \"mps\", safety_checker=True, cache_dir=None)\n",
    "pipelines.loadPresetFile(\"../../modelconfig.yml\")\n",
    "# pipelines.createTextToImagePipeline('runwayml/stable-diffusion-v1-5')\n",
    "\n",
    "# pipelines.loadLORA(\"epiNoiseoffset_v2.safetensors\", \"sd_1_5\", weight=1.5)\n",
    "\n",
    "# First-time \"warmup\" pass because of issue with m1 cpu: https://github.com/huggingface/diffusers/issues/372\n",
    "# _, _ = diffusers.textToImage(prompt=\"\", negprompt=\"\", steps=5, scale=7, width=512, height=512)\n",
    "\n"
   ]
  },
  {
   "cell_type": "code",
   "execution_count": null,
   "metadata": {},
   "outputs": [],
   "source": [
    "from IPython.display import display\n",
    "\n",
    "prompt = \"a photo of an astronaut riding a horse on mars, dark, dimly lit\"\n",
    "# model = \"stabilityai/stable-diffusion-2-1-base\"\n",
    "model = \"runwayml/stable-diffusion-v1-5\"\n",
    "image, seed = pipelines.textToImage(prompt=prompt, negprompt=\"\", steps=40, scale=7, width=512, height=512, scheduler=\"EulerDiscreteScheduler\", seed=None, model=model)\n",
    "\n",
    "print(f\"Seed: {seed}\")\n",
    "\n",
    "# for image in images:\n",
    "display(image)\n"
   ]
  },
  {
   "cell_type": "code",
   "execution_count": 2,
   "metadata": {},
   "outputs": [
    {
     "ename": "TypeError",
     "evalue": "DiffusersPipelines.imageToImageControlNet() missing 1 required positional argument: 'strength'",
     "output_type": "error",
     "traceback": [
      "\u001b[0;31m---------------------------------------------------------------------------\u001b[0m",
      "\u001b[0;31mTypeError\u001b[0m                                 Traceback (most recent call last)",
      "Cell \u001b[0;32mIn[2], line 11\u001b[0m\n\u001b[1;32m      9\u001b[0m image \u001b[39m=\u001b[39m Image\u001b[39m.\u001b[39mopen(\u001b[39m\"\u001b[39m\u001b[39mdata/rabbit.png\u001b[39m\u001b[39m\"\u001b[39m)\n\u001b[1;32m     10\u001b[0m control \u001b[39m=\u001b[39m Image\u001b[39m.\u001b[39mopen(\u001b[39m\"\u001b[39m\u001b[39mdata/rabbit.png\u001b[39m\u001b[39m\"\u001b[39m)\n\u001b[0;32m---> 11\u001b[0m image, seed \u001b[39m=\u001b[39m pipelines\u001b[39m.\u001b[39;49mimageToImageControlNet(prompt\u001b[39m=\u001b[39;49mprompt, initimage\u001b[39m=\u001b[39;49mimage, controlimage\u001b[39m=\u001b[39;49mcontrol, \n\u001b[1;32m     12\u001b[0m                                                negprompt\u001b[39m=\u001b[39;49m\u001b[39m\"\u001b[39;49m\u001b[39m\"\u001b[39;49m, steps\u001b[39m=\u001b[39;49m\u001b[39m40\u001b[39;49m, scale\u001b[39m=\u001b[39;49m\u001b[39m7\u001b[39;49m, width\u001b[39m=\u001b[39;49m\u001b[39m512\u001b[39;49m, height\u001b[39m=\u001b[39;49m\u001b[39m512\u001b[39;49m, scheduler\u001b[39m=\u001b[39;49m\u001b[39m\"\u001b[39;49m\u001b[39mEulerDiscreteScheduler\u001b[39;49m\u001b[39m\"\u001b[39;49m, seed\u001b[39m=\u001b[39;49m\u001b[39mNone\u001b[39;49;00m, \n\u001b[1;32m     13\u001b[0m                                                model\u001b[39m=\u001b[39;49mmodel, controlmodel\u001b[39m=\u001b[39;49mcontrolmodel)\n\u001b[1;32m     15\u001b[0m \u001b[39mprint\u001b[39m(\u001b[39mf\u001b[39m\u001b[39m\"\u001b[39m\u001b[39mSeed: \u001b[39m\u001b[39m{\u001b[39;00mseed\u001b[39m}\u001b[39;00m\u001b[39m\"\u001b[39m)\n\u001b[1;32m     17\u001b[0m \u001b[39m# for image in images:\u001b[39;00m\n",
      "\u001b[0;31mTypeError\u001b[0m: DiffusersPipelines.imageToImageControlNet() missing 1 required positional argument: 'strength'"
     ]
    }
   ],
   "source": [
    "from IPython.display import display\n",
    "from PIL import Image\n",
    "\n",
    "prompt = \"a photo of an astronaut riding a horse on mars, dark, dimly lit\"\n",
    "# model = \"stabilityai/stable-diffusion-2-1-base\"\n",
    "model = \"runwayml/stable-diffusion-v1-5\"\n",
    "controlmodel = \"lllyasviel/sd-controlnet-canny\"\n",
    "\n",
    "image = Image.open(\"data/rabbit.png\")\n",
    "control = Image.open(\"data/rabbit.png\")\n",
    "image, seed = pipelines.imageToImageControlNet(prompt=prompt, initimage=image, controlimage=control, \n",
    "                                               negprompt=\"\", strength=0.5, scale=7, width=512, height=512, scheduler=\"EulerDiscreteScheduler\", seed=None, \n",
    "                                               model=model, controlmodel=controlmodel)\n",
    "\n",
    "print(f\"Seed: {seed}\")\n",
    "\n",
    "# for image in images:\n",
    "display(image)"
   ]
  },
  {
   "cell_type": "code",
   "execution_count": null,
   "metadata": {},
   "outputs": [],
   "source": [
    "from diffusers import StableDiffusionPipeline\n",
    "\n",
    "pipe = StableDiffusionPipeline.from_pretrained(\"stabilityai/stable-diffusion-2-1-base\")\n",
    "pipe = pipe.to(\"mps\")\n",
    "\n",
    "# Recommended if your computer has < 64 GB of RAM\n",
    "# pipe.enable_attention_slicing()\n",
    "\n",
    "prompt = \"a photo of an astronaut riding a horse on mars\"\n",
    "\n",
    "# First-time \"warmup\" pass (see explanation above)\n",
    "_ = pipe(prompt, num_inference_steps=1)\n",
    "\n",
    "# Results match those from the CPU device after the warmup pass.\n",
    "image = pipe(prompt).images[0]"
   ]
  }
 ],
 "metadata": {
  "kernelspec": {
   "display_name": "base",
   "language": "python",
   "name": "python3"
  },
  "language_info": {
   "codemirror_mode": {
    "name": "ipython",
    "version": 3
   },
   "file_extension": ".py",
   "mimetype": "text/x-python",
   "name": "python",
   "nbconvert_exporter": "python",
   "pygments_lexer": "ipython3",
   "version": "3.11.3"
  },
  "orig_nbformat": 4,
  "vscode": {
   "interpreter": {
    "hash": "72fa5da807d66e755d9910dad0a1729879db0cdcf07f547d81c7ed591edcf3d8"
   }
  }
 },
 "nbformat": 4,
 "nbformat_minor": 2
}
