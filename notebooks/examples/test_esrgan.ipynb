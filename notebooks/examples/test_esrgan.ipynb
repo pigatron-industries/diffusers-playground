{
 "cells": [
  {
   "cell_type": "code",
   "execution_count": null,
   "metadata": {},
   "outputs": [],
   "source": [
    "!pip install -r ../requirements.txt"
   ]
  },
  {
   "cell_type": "code",
   "execution_count": null,
   "metadata": {},
   "outputs": [],
   "source": [
    "import path, os\n",
    "from PIL import Image\n",
    "from IPython.display import display\n",
    "path.setPathLocalNotebook()\n",
    "\n",
    "from diffuserslib import ImageTools\n",
    "\n",
    "inimage = Image.open(\"data/test.png\")\n",
    "\n",
    "tools = ImageTools()\n",
    "outimage = tools.upscaleEsrgan(inimage, 4, \"remacri\", cpu=True)\n",
    "\n",
    "display(outimage)\n"
   ]
  },
  {
   "cell_type": "code",
   "execution_count": null,
   "metadata": {},
   "outputs": [],
   "source": [
    "!pwd"
   ]
  },
  {
   "cell_type": "code",
   "execution_count": null,
   "metadata": {},
   "outputs": [],
   "source": [
    "import path, os\n",
    "from PIL import Image\n",
    "from IPython.display import display\n",
    "path.setPathLocalNotebook()\n",
    "\n",
    "inimage = Image.open(\"data/rabbit.png\")\n",
    "\n",
    "\n",
    "from basicsr.models import create_model\n",
    "from basicsr.utils.options import parse\n",
    "import torch\n",
    "\n",
    "options_path = '../workspace/src/nafnet/options/test/REDS/NAFNet-width64.yml'\n",
    "opt = parse(options_path, is_train=False)\n",
    "opt['dist'] = False\n",
    "opt['num_gpu'] = torch.cuda.device_count()\n",
    "NAFNet = create_model(opt)\n"
   ]
  }
 ],
 "metadata": {
  "kernelspec": {
   "display_name": "Python 3.9.13 64-bit",
   "language": "python",
   "name": "python3"
  },
  "language_info": {
   "codemirror_mode": {
    "name": "ipython",
    "version": 3
   },
   "file_extension": ".py",
   "mimetype": "text/x-python",
   "name": "python",
   "nbconvert_exporter": "python",
   "pygments_lexer": "ipython3",
   "version": "3.9.13"
  },
  "orig_nbformat": 4,
  "vscode": {
   "interpreter": {
    "hash": "aee8b7b246df8f9039afb4144a1f6fd8d2ca17a180786b69acc140d282b71a49"
   }
  }
 },
 "nbformat": 4,
 "nbformat_minor": 2
}
