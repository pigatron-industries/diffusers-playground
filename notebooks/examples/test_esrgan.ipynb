{
 "cells": [
  {
   "cell_type": "code",
   "execution_count": null,
   "metadata": {},
   "outputs": [],
   "source": [
    "!pip install -r ../requirements.txt"
   ]
  },
  {
   "cell_type": "code",
   "execution_count": null,
   "metadata": {},
   "outputs": [],
   "source": [
    "import path, os\n",
    "from PIL import Image\n",
    "from IPython.display import display\n",
    "path.setPathLocalNotebook()\n",
    "\n",
    "\n",
    "from diffuserslib import ImageTools\n",
    "\n",
    "tools = ImageTools(device = 'cpu')\n",
    "\n",
    "inimage = Image.open(\"data/rabbit.png\").convert(\"RGB\")\n",
    "outimage = tools.upscaleEsrgan(inimage, scale=2, model=\"remacri\", tilewidth=256+64, tileheight=256+64, overlap=64)\n",
    "display(outimage)\n"
   ]
  }
 ],
 "metadata": {
  "kernelspec": {
   "display_name": "Python 3",
   "language": "python",
   "name": "python3"
  },
  "language_info": {
   "codemirror_mode": {
    "name": "ipython",
    "version": 3
   },
   "file_extension": ".py",
   "mimetype": "text/x-python",
   "name": "python",
   "nbconvert_exporter": "python",
   "pygments_lexer": "ipython3",
   "version": "3.11.3"
  },
  "orig_nbformat": 4,
  "vscode": {
   "interpreter": {
    "hash": "aee8b7b246df8f9039afb4144a1f6fd8d2ca17a180786b69acc140d282b71a49"
   }
  }
 },
 "nbformat": 4,
 "nbformat_minor": 2
}
