{
 "cells": [
  {
   "cell_type": "code",
   "execution_count": null,
   "metadata": {},
   "outputs": [],
   "source": [
    "import path\n",
    "path.setPathLocalNotebook()\n",
    "\n",
    "from diffuserslib.functional import *\n",
    "from IPython.display import display\n",
    "\n",
    "size = StaticValueNode(name=\"size\", value=None)\n",
    "image = NewImageNode(size=size, background_colour=(0, 0, 0))\n",
    "voronoi = DrawVoronoiNode(image = image, \n",
    "                          points = uniform_distribution((50, 2)))\n",
    "\n",
    "size.setValue((768, 768))\n",
    "output = voronoi()\n",
    "\n",
    "import pprint\n",
    "pp = pprint.PrettyPrinter(indent=4)\n",
    "pp.pprint(voronoi.getStaticParams())\n",
    "\n",
    "display(output)\n"
   ]
  },
  {
   "cell_type": "code",
   "execution_count": null,
   "metadata": {},
   "outputs": [],
   "source": [
    "import path\n",
    "path.setPathLocalNotebook()\n",
    "\n",
    "from diffuserslib.functional import *\n",
    "from diffuserslib import DiffusersPipelines\n",
    "from IPython.display import display\n",
    "\n",
    "\n",
    "pipelines = DiffusersPipelines(device = \"mps\", safety_checker=True, cache_dir='/opt/sd/cache')\n",
    "pipelines.loadPresetFile(\"../../modelconfig.yml\")\n",
    "\n",
    "diffusion = ImageDiffusionNode(pipelines=pipelines,\n",
    "                               models = [ModelParameters(\"digiplay/Juggernaut_final\")],\n",
    "                               size = (512, 512),\n",
    "                               prompt = \"A polaroid photo of a giant boulder in a field full of sheep\",\n",
    "                               negprompt = \"ugly, cartoon\")\n",
    "\n",
    "\n",
    "output = diffusion()\n",
    "display(output)"
   ]
  },
  {
   "cell_type": "code",
   "execution_count": null,
   "metadata": {},
   "outputs": [],
   "source": [
    "import path\n",
    "path.setPathLocalNotebook()\n",
    "\n",
    "from diffuserslib.functional import *\n",
    "from diffuserslib import DiffusersPipelines\n",
    "from IPython.display import display\n",
    "\n",
    "\n",
    "pipelines = DiffusersPipelines(device = \"mps\", safety_checker=True, cache_dir='/opt/sd/cache')\n",
    "pipelines.loadPresetFile(\"../../modelconfig.yml\")\n",
    "\n",
    "\n",
    "size = StaticValueNode(name=\"size\", type=Tuple[int, int], value=None)\n",
    "image = NewImageNode(size=size, background_colour=(0, 0, 0))\n",
    "voronoi = DrawVoronoiNode(image = image, points = uniform_distribution((50, 2)), draw_options = (True, True, False))\n",
    "\n",
    "diffusion = ImageDiffusionNode(pipelines = pipelines,\n",
    "                               models = [ModelParameters(\"digiplay/Juggernaut_final\")],\n",
    "                               size = size,\n",
    "                               prompt = \"A polaroid photo of a giant boulder in a field full of sheep\",\n",
    "                               negprompt = \"ugly, cartoon\",\n",
    "                               conditioning_inputs = [\n",
    "                                    ConditioningInputNode(image=voronoi, model=\"lllyasviel/control_v11p_sd15_mlsd\", scale = 1.0)\n",
    "                               ])\n",
    "\n",
    "diffusion.setStaticParam(\"size\", \"value\", (768, 768))\n",
    "\n",
    "import pprint\n",
    "pp = pprint.PrettyPrinter(indent=4)\n",
    "pp.pprint(diffusion.getStaticParams())\n",
    "\n",
    "\n",
    "# output = diffusion()\n",
    "# display(output)"
   ]
  }
 ],
 "metadata": {
  "kernelspec": {
   "display_name": "sd",
   "language": "python",
   "name": "python3"
  },
  "language_info": {
   "codemirror_mode": {
    "name": "ipython",
    "version": 3
   },
   "file_extension": ".py",
   "mimetype": "text/x-python",
   "name": "python",
   "nbconvert_exporter": "python",
   "pygments_lexer": "ipython3",
   "version": "3.11.3"
  }
 },
 "nbformat": 4,
 "nbformat_minor": 2
}
