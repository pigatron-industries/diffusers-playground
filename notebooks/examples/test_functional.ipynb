{
 "cells": [
  {
   "cell_type": "code",
   "execution_count": null,
   "metadata": {},
   "outputs": [],
   "source": [
    "import path\n",
    "path.setPathLocalNotebook()\n",
    "\n",
    "from diffuserslib import NewImageNode, DrawVoronoiNode, StaticValueNode, uniform_distribution\n",
    "\n",
    "from IPython.display import display\n",
    "\n",
    "size = StaticValueNode(name=\"size\", value=None)\n",
    "image = NewImageNode(size=size, background_colour=(0, 0, 0))\n",
    "voronoi = DrawVoronoiNode(image = image, \n",
    "                          points = uniform_distribution((50, 2)))\n",
    "\n",
    "size.setValue((768, 768))\n",
    "output = voronoi()\n",
    "\n",
    "display(output)\n"
   ]
  }
 ],
 "metadata": {
  "kernelspec": {
   "display_name": "sd",
   "language": "python",
   "name": "python3"
  },
  "language_info": {
   "codemirror_mode": {
    "name": "ipython",
    "version": 3
   },
   "file_extension": ".py",
   "mimetype": "text/x-python",
   "name": "python",
   "nbconvert_exporter": "python",
   "pygments_lexer": "ipython3",
   "version": "3.11.3"
  }
 },
 "nbformat": 4,
 "nbformat_minor": 2
}
