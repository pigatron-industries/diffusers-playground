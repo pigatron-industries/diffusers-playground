{
 "cells": [
  {
   "cell_type": "code",
   "execution_count": null,
   "metadata": {},
   "outputs": [],
   "source": [
    "!pip install controlnet-aux"
   ]
  },
  {
   "cell_type": "code",
   "execution_count": null,
   "metadata": {},
   "outputs": [],
   "source": [
    "import path\n",
    "path.setPathLocalNotebook()\n",
    "\n",
    "from diffuserslib import ImageProcessorPipeline, DrawCheckerboardProcessor, FillBackgroundProcessor\n",
    "from PIL import Image, ImageDraw\n",
    "from IPython.display import display\n",
    "\n",
    "geometry = ImageProcessorPipeline(size=(512, 768))\n",
    "geometry.addTask(DrawCheckerboardProcessor(\n",
    "    size = (256, 384)\n",
    "))\n",
    "geometry.addTask(FillBackgroundProcessor(background = \"white\"))\n",
    "image = geometry()\n",
    "display(image)"
   ]
  },
  {
   "cell_type": "code",
   "execution_count": null,
   "metadata": {},
   "outputs": [],
   "source": [
    "import path\n",
    "path.setPathLocalNotebook()\n",
    "\n",
    "from diffuserslib import shapeGeometryPipeline, RandomChoiceArgument\n",
    "from PIL import Image\n",
    "from IPython.display import display\n",
    "\n",
    "\n",
    "geom = shapeGeometryPipeline(size=(512, 768), background=\"lightgrey\", shapes=10, foreground=RandomChoiceArgument([\"black\", \"darkgrey\"]), symmetry=\"none\")\n",
    "image = geom()\n",
    "display(image)"
   ]
  },
  {
   "cell_type": "code",
   "execution_count": null,
   "metadata": {},
   "outputs": [],
   "source": [
    "import path\n",
    "path.setPathLocalNotebook()\n",
    "\n",
    "from diffuserslib import spiralGeometryPipeline\n",
    "from PIL import Image\n",
    "from IPython.display import display\n",
    "\n",
    "\n",
    "geom = spiralGeometryPipeline(background=\"black\", fill=\"black\", outline=\"white\", shapes=3, maxsize = 96, steps=16)\n",
    "image = geom()\n",
    "display(image)"
   ]
  },
  {
   "cell_type": "code",
   "execution_count": null,
   "metadata": {},
   "outputs": [],
   "source": [
    "import path\n",
    "path.setPathLocalNotebook()\n",
    "\n",
    "from diffuserslib import checkerboardGeometryPipeline, SaturationProcessor, GaussianBlurProcessor, GaussianNoiseProcessor\n",
    "from PIL import Image\n",
    "from IPython.display import display\n",
    "\n",
    "\n",
    "geom = checkerboardGeometryPipeline(size=(512, 768), background=\"lightgreen\", foreground=\"magenta\", blocksize=(512//3, 768//3), start = \"white\")\n",
    "geom.addTask(SaturationProcessor(saturation=-0.5))\n",
    "geom.addTask(GaussianNoiseProcessor(sigma=10))\n",
    "geom.addTask(GaussianBlurProcessor(radius=2))\n",
    "image = geom()\n",
    "display(image)"
   ]
  },
  {
   "cell_type": "code",
   "execution_count": null,
   "metadata": {},
   "outputs": [],
   "source": [
    "import path\n",
    "path.setPathLocalNotebook()\n",
    "\n",
    "from diffuserslib import ImageProcessorPipeline, SimpleTransformProcessor, InitImageProcessor\n",
    "from PIL import Image\n",
    "from IPython.display import display\n",
    "\n",
    "image = Image.open(\"data/test.png\")\n",
    "\n",
    "geometry = ImageProcessorPipeline()\n",
    "geometry.addTask(InitImageProcessor(image))\n",
    "geometry.addTask(SimpleTransformProcessor(type=\"rotate90\"))\n",
    "\n",
    "image = geometry()\n",
    "display(image)\n"
   ]
  },
  {
   "cell_type": "code",
   "execution_count": null,
   "metadata": {},
   "outputs": [],
   "source": [
    "import path\n",
    "path.setPathLocalNotebook()\n",
    "\n",
    "from diffuserslib import ImageProcessorPipeline, CannyEdgeProcessor, InitImageProcessor\n",
    "from PIL import Image\n",
    "from IPython.display import display\n",
    "\n",
    "image = Image.open(\"data/rabbit.png\")\n",
    "\n",
    "geometry = ImageProcessorPipeline()\n",
    "geometry.addTask(InitImageProcessor(image))\n",
    "geometry.addTask(CannyEdgeProcessor())\n",
    "\n",
    "image = geometry()\n",
    "display(image)"
   ]
  },
  {
   "cell_type": "code",
   "execution_count": null,
   "metadata": {},
   "outputs": [],
   "source": [
    "import path\n",
    "path.setPathLocalNotebook()\n",
    "\n",
    "from diffuserslib import ImageProcessorPipeline, CannyEdgeProcessor, InitImageProcessor\n",
    "from PIL import Image\n",
    "from IPython.display import display\n",
    "\n",
    "image = Image.open(\"data/rabbit.png\")\n",
    "\n",
    "geometry = ImageProcessorPipeline()\n",
    "geometry.addTask(InitImageProcessor(image))\n",
    "geometry.addTask(CannyEdgeProcessor())\n",
    "\n",
    "image = geometry()\n",
    "display(image)"
   ]
  },
  {
   "cell_type": "code",
   "execution_count": null,
   "metadata": {},
   "outputs": [],
   "source": [
    "import path\n",
    "path.setPathLocalNotebook()\n",
    "\n",
    "from diffuserslib import ( ImageProcessorPipeline, DepthEstimationProcessor, NormalEstimationProcessor, SegmentationProcessor, \n",
    "                         EdgeDetectionProcessor, StraightLineDetectionProcessor, PoseDetectionProcessor, InitImageProcessor )\n",
    "from PIL import Image\n",
    "from IPython.display import display\n",
    "\n",
    "image = Image.open(\"data/pose.png\")\n",
    "\n",
    "geometry = ImageProcessorPipeline()\n",
    "geometry.addTask(InitImageProcessor(image))\n",
    "# geometry.addTask(DepthEstimationProcessor())\n",
    "# geometry.addTask(NormalEstimationProcessor())\n",
    "# geometry.addTask(SegmentationProcessor())\n",
    "# geometry.addTask(EdgeDetectionProcessor())\n",
    "# geometry.addTask(StraightLineDetectionProcessor())\n",
    "geometry.addTask(PoseDetectionProcessor())\n",
    "\n",
    "image = geometry()\n",
    "display(image)"
   ]
  },
  {
   "cell_type": "code",
   "execution_count": null,
   "metadata": {},
   "outputs": [],
   "source": [
    "import path\n",
    "path.setPathLocalNotebook()\n",
    "\n",
    "from diffuserslib import ( ImageProcessorPipeline, DrawGeometricSpiralProcessor, RandomChoiceArgument, FillBackgroundProcessor )\n",
    "from PIL import Image\n",
    "from IPython.display import display\n",
    "\n",
    "\n",
    "pipeline = ImageProcessorPipeline(size=RandomChoiceArgument([(512, 768), (768, 512)]))\n",
    "pipeline.addTask(DrawGeometricSpiralProcessor(startx=32, starty=32, endx=-32, endy=-32, iterations = 14, direction = RandomChoiceArgument([\"up\", \"down\", \"left\", \"right\"]), turn=RandomChoiceArgument([\"clockwise\", \"anticlockwise\"]),\n",
    "                                              draw=RandomChoiceArgument([(True, True), (True, False), (False, True)])))\n",
    "pipeline.addTask(FillBackgroundProcessor(background = \"black\"))\n",
    "\n",
    "\n",
    "image = pipeline()\n",
    "display(image)"
   ]
  },
  {
   "cell_type": "code",
   "execution_count": null,
   "metadata": {},
   "outputs": [],
   "source": [
    "import path\n",
    "path.setPathLocalNotebook()\n",
    "\n",
    "from diffuserslib import ( RandomChoiceArgument, RandomImage, transformResize )\n",
    "from PIL import Image\n",
    "from IPython.display import display\n",
    "\n",
    "pipeline = transformResize(image=RandomImage.fromDirectory('/Users/rob/GoogleDrive/stable-diffusion/initimages/oscilloscope'), \n",
    "                           transform=RandomChoiceArgument([\"fliphorizontal\", \"flipvertical\", \"rotate90\", \"rotate180\", \"rotate270\", \"none\"]),\n",
    "                           resizetype=RandomChoiceArgument([\"resize\", \"extend\"]), size=RandomChoiceArgument([(512, 768), (768, 512)]),\n",
    "                           halign=RandomChoiceArgument([\"left\", \"right\", \"centre\"]), valign=RandomChoiceArgument([\"top\", \"bottom\", \"centre\"]), fill=\"black\")\n",
    "\n",
    "image = pipeline()\n",
    "display(image)"
   ]
  }
 ],
 "metadata": {
  "kernelspec": {
   "display_name": "Python 3",
   "language": "python",
   "name": "python3"
  },
  "language_info": {
   "codemirror_mode": {
    "name": "ipython",
    "version": 3
   },
   "file_extension": ".py",
   "mimetype": "text/x-python",
   "name": "python",
   "nbconvert_exporter": "python",
   "pygments_lexer": "ipython3",
   "version": "3.9.13"
  },
  "orig_nbformat": 4,
  "vscode": {
   "interpreter": {
    "hash": "aee8b7b246df8f9039afb4144a1f6fd8d2ca17a180786b69acc140d282b71a49"
   }
  }
 },
 "nbformat": 4,
 "nbformat_minor": 2
}
