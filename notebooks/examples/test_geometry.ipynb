{
 "cells": [
  {
   "cell_type": "code",
   "execution_count": null,
   "metadata": {},
   "outputs": [],
   "source": [
    "import path\n",
    "path.setPathLocalNotebook()\n",
    "\n",
    "from diffuserslib import ProcessingPipelineBuilder\n",
    "from IPython.display import display\n",
    "\n",
    "pipeline = ProcessingPipelineBuilder.fromBlank(size=(512, 768)) \\\n",
    "            .drawCheckerboard()\n",
    "\n",
    "image = pipeline()\n",
    "display(image)"
   ]
  },
  {
   "cell_type": "code",
   "execution_count": 8,
   "metadata": {},
   "outputs": [
    {
     "data": {
      "image/png": "[encoded data removed]",
      "text/plain": [
       "<PIL.Image.Image image mode=RGBA size=512x768>"
      ]
     },
     "metadata": {},
     "output_type": "display_data"
    }
   ],
   "source": [
    "import path\n",
    "path.setPathLocalNotebook()\n",
    "\n",
    "from diffuserslib import ProcessingPipelineBuilder, RandomChoiceArgument\n",
    "from PIL import Image\n",
    "from IPython.display import display\n",
    "\n",
    "pipeline = ProcessingPipelineBuilder.fromBlank(size=(512, 768)) \\\n",
    "            .drawShapeGeometry(shapes=3, foreground=RandomChoiceArgument([\"black\", \"darkgrey\"])) \\\n",
    "            .symmetrize(symmetry=RandomChoiceArgument([\"horizontal\", \"vertical\", \"rotation\", \"none\"])) \\\n",
    "            .fillBackground(background = \"white\")\n",
    "\n",
    "image = pipeline()\n",
    "display(image)"
   ]
  },
  {
   "cell_type": "code",
   "execution_count": null,
   "metadata": {},
   "outputs": [],
   "source": [
    "import path\n",
    "path.setPathLocalNotebook()\n",
    "\n",
    "from diffuserslib import ProcessingPipelineBuilder\n",
    "from PIL import Image\n",
    "from IPython.display import display\n",
    "\n",
    "\n",
    "pipeline = ProcessingPipelineBuilder.fromBlank(size=(512, 768)) \\\n",
    "            .drawShapeGeometry(shapes=3, foreground=\"black\", outline=\"white\", maxsize = 96) \\\n",
    "            .spiralize(steps = 16) \\\n",
    "            .fillBackground(background = \"black\")\n",
    "\n",
    "image = pipeline()\n",
    "display(image)"
   ]
  },
  {
   "cell_type": "code",
   "execution_count": null,
   "metadata": {},
   "outputs": [],
   "source": [
    "import path\n",
    "path.setPathLocalNotebook()\n",
    "\n",
    "from diffuserslib import ProcessingPipelineBuilder, SaturationProcessor, GaussianBlurProcessor, GaussianNoiseProcessor\n",
    "from PIL import Image\n",
    "from IPython.display import display\n",
    "\n",
    "\n",
    "pipeline = ProcessingPipelineBuilder.fromBlank(size=(512, 768)) \\\n",
    "            .drawCheckerboard(background=\"lightgreen\", foreground=\"magenta\", blocksize=(512//3, 768//3), start = \"white\")\n",
    "pipeline.addTask(SaturationProcessor(saturation=-0.5))\n",
    "pipeline.addTask(GaussianNoiseProcessor(sigma=10))\n",
    "pipeline.addTask(GaussianBlurProcessor(radius=2))\n",
    "image = pipeline()\n",
    "\n",
    "display(image)"
   ]
  },
  {
   "cell_type": "code",
   "execution_count": null,
   "metadata": {},
   "outputs": [],
   "source": [
    "import path\n",
    "path.setPathLocalNotebook()\n",
    "\n",
    "from diffuserslib import ProcessingPipelineBuilder, SimpleTransformProcessor, InitImageProcessor\n",
    "from PIL import Image\n",
    "from IPython.display import display\n",
    "\n",
    "image = Image.open(\"data/test.png\")\n",
    "\n",
    "pipeline = ProcessingPipelineBuilder.fromImage(image) \\\n",
    "            .simpleTransform(transform=\"flipvertical\")\n",
    "\n",
    "image = pipeline()\n",
    "display(image)\n"
   ]
  },
  {
   "cell_type": "code",
   "execution_count": null,
   "metadata": {},
   "outputs": [],
   "source": [
    "import path\n",
    "path.setPathLocalNotebook()\n",
    "\n",
    "from diffuserslib import ImageProcessorPipeline, CannyEdgeProcessor, InitImageProcessor\n",
    "from PIL import Image\n",
    "from IPython.display import display\n",
    "\n",
    "image = Image.open(\"data/rabbit.png\")\n",
    "\n",
    "geometry = ImageProcessorPipeline()\n",
    "geometry.addTask(InitImageProcessor(image))\n",
    "geometry.addTask(CannyEdgeProcessor())\n",
    "\n",
    "image = geometry()\n",
    "display(image)"
   ]
  },
  {
   "cell_type": "code",
   "execution_count": null,
   "metadata": {},
   "outputs": [],
   "source": [
    "import path\n",
    "path.setPathLocalNotebook()\n",
    "\n",
    "from diffuserslib import ( ImageProcessorPipeline, DepthEstimationProcessor, NormalEstimationProcessor, SegmentationProcessor, \n",
    "                         EdgeDetectionProcessor, StraightLineDetectionProcessor, PoseDetectionProcessor, InitImageProcessor )\n",
    "from PIL import Image\n",
    "from IPython.display import display\n",
    "\n",
    "image = Image.open(\"data/pose.png\")\n",
    "\n",
    "geometry = ImageProcessorPipeline()\n",
    "geometry.addTask(InitImageProcessor(image))\n",
    "# geometry.addTask(DepthEstimationProcessor())\n",
    "# geometry.addTask(NormalEstimationProcessor())\n",
    "# geometry.addTask(SegmentationProcessor())\n",
    "# geometry.addTask(EdgeDetectionProcessor())\n",
    "# geometry.addTask(StraightLineDetectionProcessor())\n",
    "geometry.addTask(PoseDetectionProcessor())\n",
    "\n",
    "image = geometry()\n",
    "display(image)"
   ]
  },
  {
   "cell_type": "code",
   "execution_count": null,
   "metadata": {},
   "outputs": [],
   "source": [
    "import path\n",
    "path.setPathLocalNotebook()\n",
    "\n",
    "from diffuserslib import ( ProcessingPipelineBuilder, ImageProcessorPipeline, DrawGeometricSpiralProcessor, RandomChoiceArgument, FillBackgroundProcessor )\n",
    "from PIL import Image\n",
    "from IPython.display import display\n",
    "\n",
    "pipeline = (\n",
    "    ProcessingPipelineBuilder.fromBlank()\n",
    "            # .fillBackground(background = \"black\")\n",
    "            .drawGeometricSpiral(rect=RandomChoiceArgument([(0, 0, 1, 0.5), (0, 0, 0.5, 1)]))\n",
    "            .symmetrize(symmetry=RandomChoiceArgument([\"rotation\"]))\n",
    "            .fillBackground(background = \"black\")\n",
    ")\n",
    "\n",
    "image = pipeline()\n",
    "display(image)"
   ]
  },
  {
   "cell_type": "code",
   "execution_count": null,
   "metadata": {},
   "outputs": [],
   "source": [
    "import path\n",
    "path.setPathLocalNotebook()\n",
    "\n",
    "from diffuserslib import ( ProcessingPipelineBuilder, ImageProcessorPipeline, DrawGeometricSpiralProcessor, RandomChoiceArgument, FillBackgroundProcessor )\n",
    "from PIL import Image\n",
    "from IPython.display import display\n",
    "\n",
    "pipeline = (\n",
    "    ProcessingPipelineBuilder.fromBlank(size=(512, 768))\n",
    "                             .drawGeometricSpiral(rect=(0, 0, 1, 0.5), draw=(False, True))\n",
    "                             .symmetrize(symmetry=RandomChoiceArgument([\"rotation\", \"horizontal\"]))\n",
    "                             .fillBackground(background = \"black\")\n",
    ")\n",
    "\n",
    "image = pipeline()\n",
    "display(image)"
   ]
  },
  {
   "cell_type": "code",
   "execution_count": null,
   "metadata": {},
   "outputs": [],
   "source": [
    "import path\n",
    "path.setPathLocalNotebook()\n",
    "\n",
    "from diffuserslib import ( RandomChoiceArgument, RandomImage, ProcessingPipelineBuilder )\n",
    "from PIL import Image\n",
    "from IPython.display import display\n",
    "\n",
    "pipeline = ProcessingPipelineBuilder.fromImage(RandomImage.fromDirectory('/Users/rob/GoogleDrive/stable-diffusion/initimages/oscilloscope')) \\\n",
    "            .simpleTransform(transform = RandomChoiceArgument([\"fliphorizontal\", \"flipvertical\", \"rotate90\", \"rotate180\", \"rotate270\", \"none\"])) \\\n",
    "            .resize(resizetype=RandomChoiceArgument([\"stretch\", \"extend\"]), \n",
    "                    size=RandomChoiceArgument([(512, 768), (768, 512)]),\n",
    "                    halign=RandomChoiceArgument([\"left\", \"right\", \"centre\"]), \n",
    "                    valign=RandomChoiceArgument([\"top\", \"bottom\", \"centre\"]), fill=\"black\"\n",
    "            )\n",
    "\n",
    "image = pipeline()\n",
    "display(image)"
   ]
  },
  {
   "cell_type": "code",
   "execution_count": null,
   "metadata": {},
   "outputs": [],
   "source": [
    "import path\n",
    "path.setPathLocalNotebook()\n",
    "\n",
    "from diffuserslib import ( PlaceholderArgument, RandomChoiceArgument, RandomImage, ProcessingPipelineBuilder )\n",
    "from PIL import Image\n",
    "from IPython.display import display\n",
    "\n",
    "pipeline = ProcessingPipelineBuilder.fromImage(PlaceholderArgument(\"image\")) \\\n",
    "            .simpleTransform(transform = RandomChoiceArgument([\"fliphorizontal\", \"flipvertical\", \"rotate90\", \"rotate180\", \"rotate270\", \"none\"])) \\\n",
    "            .resize(resizetype=RandomChoiceArgument([\"stretch\", \"extend\", \"fit\"]), \n",
    "                    size=PlaceholderArgument(\"size\"),\n",
    "                    halign=RandomChoiceArgument([\"left\", \"right\", \"centre\"]), \n",
    "                    valign=RandomChoiceArgument([\"top\", \"bottom\", \"centre\"]), fill=\"black\"\n",
    "            )\n",
    "\n",
    "pipeline.setPlaceholder(\"image\", RandomImage.fromDirectory('/Users/rob/GoogleDrive/stable-diffusion/initimages/oscilloscope'))\n",
    "pipeline.setPlaceholder(\"size\", (768, 256))\n",
    "\n",
    "image = pipeline()\n",
    "display(image)"
   ]
  }
 ],
 "metadata": {
  "kernelspec": {
   "display_name": "Python 3",
   "language": "python",
   "name": "python3"
  },
  "language_info": {
   "codemirror_mode": {
    "name": "ipython",
    "version": 3
   },
   "file_extension": ".py",
   "mimetype": "text/x-python",
   "name": "python",
   "nbconvert_exporter": "python",
   "pygments_lexer": "ipython3",
   "version": "3.11.3"
  },
  "orig_nbformat": 4,
  "vscode": {
   "interpreter": {
    "hash": "aee8b7b246df8f9039afb4144a1f6fd8d2ca17a180786b69acc140d282b71a49"
   }
  }
 },
 "nbformat": 4,
 "nbformat_minor": 2
}
