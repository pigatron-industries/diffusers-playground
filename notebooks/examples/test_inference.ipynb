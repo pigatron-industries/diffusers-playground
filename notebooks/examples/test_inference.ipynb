{
 "cells": [
  {
   "cell_type": "code",
   "execution_count": null,
   "metadata": {},
   "outputs": [],
   "source": [
    "!pip install -r ../../requirements.txt"
   ]
  },
  {
   "cell_type": "code",
   "execution_count": 1,
   "metadata": {},
   "outputs": [
    {
     "name": "stdout",
     "output_type": "stream",
     "text": [
      "{'lllyasviel/control_v11p_sd15_canny': DiffusersModel(modelid='lllyasviel/control_v11p_sd15_canny', base='sd_1_5', modeltype='controlnet', pipelinetypes={}, revision=None, stylephrase=None, vae=None, autocast=True, location='hf', modelpath='lllyasviel/control_v11p_sd15_canny', data={'id': 'lllyasviel/control_v11p_sd15_canny'}), 'lllyasviel/control_v11f1p_sd15_depth': DiffusersModel(modelid='lllyasviel/control_v11f1p_sd15_depth', base='sd_1_5', modeltype='controlnet', pipelinetypes={}, revision=None, stylephrase=None, vae=None, autocast=True, location='hf', modelpath='lllyasviel/control_v11f1p_sd15_depth', data={'id': 'lllyasviel/control_v11f1p_sd15_depth'}), 'lllyasviel/control_v11p_sd15_inpaint': DiffusersModel(modelid='lllyasviel/control_v11p_sd15_inpaint', base='sd_1_5', modeltype='controlnet', pipelinetypes={}, revision=None, stylephrase=None, vae=None, autocast=True, location='hf', modelpath='lllyasviel/control_v11p_sd15_inpaint', data={'id': 'lllyasviel/control_v11p_sd15_inpaint'}), 'lllyasviel/control_v11p_sd15_lineart': DiffusersModel(modelid='lllyasviel/control_v11p_sd15_lineart', base='sd_1_5', modeltype='controlnet', pipelinetypes={}, revision=None, stylephrase=None, vae=None, autocast=True, location='hf', modelpath='lllyasviel/control_v11p_sd15_lineart', data={'id': 'lllyasviel/control_v11p_sd15_lineart'}), 'lllyasviel/control_v11p_sd15_mlsd': DiffusersModel(modelid='lllyasviel/control_v11p_sd15_mlsd', base='sd_1_5', modeltype='controlnet', pipelinetypes={}, revision=None, stylephrase=None, vae=None, autocast=True, location='hf', modelpath='lllyasviel/control_v11p_sd15_mlsd', data={'id': 'lllyasviel/control_v11p_sd15_mlsd'}), 'lllyasviel/control_v11p_sd15_normalbae': DiffusersModel(modelid='lllyasviel/control_v11p_sd15_normalbae', base='sd_1_5', modeltype='controlnet', pipelinetypes={}, revision=None, stylephrase=None, vae=None, autocast=True, location='hf', modelpath='lllyasviel/control_v11p_sd15_normalbae', data={'id': 'lllyasviel/control_v11p_sd15_normalbae'}), 'lllyasviel/control_v11p_sd15_openpose': DiffusersModel(modelid='lllyasviel/control_v11p_sd15_openpose', base='sd_1_5', modeltype='controlnet', pipelinetypes={}, revision=None, stylephrase=None, vae=None, autocast=True, location='hf', modelpath='lllyasviel/control_v11p_sd15_openpose', data={'id': 'lllyasviel/control_v11p_sd15_openpose'}), 'lllyasviel/control_v11p_sd15_scribble': DiffusersModel(modelid='lllyasviel/control_v11p_sd15_scribble', base='sd_1_5', modeltype='controlnet', pipelinetypes={}, revision=None, stylephrase=None, vae=None, autocast=True, location='hf', modelpath='lllyasviel/control_v11p_sd15_scribble', data={'id': 'lllyasviel/control_v11p_sd15_scribble'}), 'lllyasviel/control_v11p_sd15_seg': DiffusersModel(modelid='lllyasviel/control_v11p_sd15_seg', base='sd_1_5', modeltype='controlnet', pipelinetypes={}, revision=None, stylephrase=None, vae=None, autocast=True, location='hf', modelpath='lllyasviel/control_v11p_sd15_seg', data={'id': 'lllyasviel/control_v11p_sd15_seg'}), 'lllyasviel/control_v11p_sd15_softedge': DiffusersModel(modelid='lllyasviel/control_v11p_sd15_softedge', base='sd_1_5', modeltype='controlnet', pipelinetypes={}, revision=None, stylephrase=None, vae=None, autocast=True, location='hf', modelpath='lllyasviel/control_v11p_sd15_softedge', data={'id': 'lllyasviel/control_v11p_sd15_softedge'}), 'lllyasviel/control_v11e_sd15_shuffle': DiffusersModel(modelid='lllyasviel/control_v11e_sd15_shuffle', base='sd_1_5', modeltype='controlnet', pipelinetypes={}, revision=None, stylephrase=None, vae=None, autocast=True, location='hf', modelpath='lllyasviel/control_v11e_sd15_shuffle', data={'id': 'lllyasviel/control_v11e_sd15_shuffle'}), 'lllyasviel/control_v11f1e_sd15_tile': DiffusersModel(modelid='lllyasviel/control_v11f1e_sd15_tile', base='sd_1_5', modeltype='controlnet', pipelinetypes={}, revision=None, stylephrase=None, vae=None, autocast=True, location='hf', modelpath='lllyasviel/control_v11f1e_sd15_tile', data={'id': 'lllyasviel/control_v11f1e_sd15_tile'}), 'ioclab/control_v1p_sd15_brightness': DiffusersModel(modelid='ioclab/control_v1p_sd15_brightness', base='sd_1_5', modeltype='controlnet', pipelinetypes={}, revision=None, stylephrase=None, vae=None, autocast=True, location='hf', modelpath='ioclab/control_v1p_sd15_brightness', data={'id': 'ioclab/control_v1p_sd15_brightness'}), 'monster-labs/control_v1p_sd15_qrcode_monster': DiffusersModel(modelid='monster-labs/control_v1p_sd15_qrcode_monster', base='sd_1_5', modeltype='controlnet', pipelinetypes={}, revision=None, stylephrase=None, vae=None, autocast=True, location='hf', modelpath='monster-labs/control_v1p_sd15_qrcode_monster', data={'id': 'monster-labs/control_v1p_sd15_qrcode_monster'}), 'TencentARC/t2iadapter_canny_sd15v2': DiffusersModel(modelid='TencentARC/t2iadapter_canny_sd15v2', base='sd_1_5', modeltype='t2iadapter', pipelinetypes={}, revision=None, stylephrase=None, vae=None, autocast=True, location='hf', modelpath='TencentARC/t2iadapter_canny_sd15v2', data={'id': 'TencentARC/t2iadapter_canny_sd15v2', 'colourspace': 'L'}), 'thibaud/controlnet-sd21-canny-diffusers': DiffusersModel(modelid='thibaud/controlnet-sd21-canny-diffusers', base='sd_2_1', modeltype='controlnet', pipelinetypes={}, revision=None, stylephrase=None, vae=None, autocast=True, location='hf', modelpath='thibaud/controlnet-sd21-canny-diffusers', data={'id': 'thibaud/controlnet-sd21-canny-diffusers'}), 'thibaud/controlnet-sd21-depth-diffusers': DiffusersModel(modelid='thibaud/controlnet-sd21-depth-diffusers', base='sd_2_1', modeltype='controlnet', pipelinetypes={}, revision=None, stylephrase=None, vae=None, autocast=True, location='hf', modelpath='thibaud/controlnet-sd21-depth-diffusers', data={'id': 'thibaud/controlnet-sd21-depth-diffusers'}), 'thibaud/controlnet-sd21-hed-diffusers': DiffusersModel(modelid='thibaud/controlnet-sd21-hed-diffusers', base='sd_2_1', modeltype='controlnet', pipelinetypes={}, revision=None, stylephrase=None, vae=None, autocast=True, location='hf', modelpath='thibaud/controlnet-sd21-hed-diffusers', data={'id': 'thibaud/controlnet-sd21-hed-diffusers'}), 'thibaud/controlnet-sd21-openpose-diffusers': DiffusersModel(modelid='thibaud/controlnet-sd21-openpose-diffusers', base='sd_2_1', modeltype='controlnet', pipelinetypes={}, revision=None, stylephrase=None, vae=None, autocast=True, location='hf', modelpath='thibaud/controlnet-sd21-openpose-diffusers', data={'id': 'thibaud/controlnet-sd21-openpose-diffusers'}), 'thibaud/controlnet-sd21-scribble-diffusers': DiffusersModel(modelid='thibaud/controlnet-sd21-scribble-diffusers', base='sd_2_1', modeltype='controlnet', pipelinetypes={}, revision=None, stylephrase=None, vae=None, autocast=True, location='hf', modelpath='thibaud/controlnet-sd21-scribble-diffusers', data={'id': 'thibaud/controlnet-sd21-scribble-diffusers'}), 'diffusers/controlnet-canny-sdxl-1.0-small': DiffusersModel(modelid='diffusers/controlnet-canny-sdxl-1.0-small', base='sdxl_1_0', modeltype='controlnet', pipelinetypes={}, revision=None, stylephrase=None, vae=None, autocast=True, location='hf', modelpath='diffusers/controlnet-canny-sdxl-1.0-small', data={'id': 'diffusers/controlnet-canny-sdxl-1.0-small'}), 'diffusers/controlnet-depth-sdxl-1.0-small': DiffusersModel(modelid='diffusers/controlnet-depth-sdxl-1.0-small', base='sdxl_1_0', modeltype='controlnet', pipelinetypes={}, revision=None, stylephrase=None, vae=None, autocast=True, location='hf', modelpath='diffusers/controlnet-depth-sdxl-1.0-small', data={'id': 'diffusers/controlnet-depth-sdxl-1.0-small'}), 'thibaud/controlnet-openpose-sdxl-1.0': DiffusersModel(modelid='thibaud/controlnet-openpose-sdxl-1.0', base='sdxl_1_0', modeltype='controlnet', pipelinetypes={}, revision=None, stylephrase=None, vae=None, autocast=True, location='hf', modelpath='thibaud/controlnet-openpose-sdxl-1.0', data={'id': 'thibaud/controlnet-openpose-sdxl-1.0'}), 'TencentARC/t2i-adapter-canny-sdxl-1.0': DiffusersModel(modelid='TencentARC/t2i-adapter-canny-sdxl-1.0', base='sdxl_1_0', modeltype='t2iadapter', pipelinetypes={}, revision=None, stylephrase=None, vae=None, autocast=True, location='hf', modelpath='TencentARC/t2i-adapter-canny-sdxl-1.0', data={'id': 'TencentARC/t2i-adapter-canny-sdxl-1.0', 'colourspace': 'L'}), 'h94/IP-Adapter/models/ip-adapter_sd15.bin': DiffusersModel(modelid='h94/IP-Adapter/models/ip-adapter_sd15.bin', base='sd_1_5', modeltype='ipadapter', pipelinetypes={}, revision=None, stylephrase=None, vae=None, autocast=True, location='hf', modelpath='h94/IP-Adapter/models/ip-adapter_sd15.bin', data={'id': 'h94/IP-Adapter/models/ip-adapter_sd15.bin'}), 'h94/IP-Adapter/models/ip-adapter_sd15_light.bin': DiffusersModel(modelid='h94/IP-Adapter/models/ip-adapter_sd15_light.bin', base='sd_1_5', modeltype='ipadapter', pipelinetypes={}, revision=None, stylephrase=None, vae=None, autocast=True, location='hf', modelpath='h94/IP-Adapter/models/ip-adapter_sd15_light.bin', data={'id': 'h94/IP-Adapter/models/ip-adapter_sd15_light.bin'}), 'h94/IP-Adapter/models/ip-adapter-plus_sd15.bin': DiffusersModel(modelid='h94/IP-Adapter/models/ip-adapter-plus_sd15.bin', base='sd_1_5', modeltype='ipadapter', pipelinetypes={}, revision=None, stylephrase=None, vae=None, autocast=True, location='hf', modelpath='h94/IP-Adapter/models/ip-adapter-plus_sd15.bin', data={'id': 'h94/IP-Adapter/models/ip-adapter-plus_sd15.bin'}), 'h94/IP-Adapter/models/ip-adapter-plus-face_sd15.bin': DiffusersModel(modelid='h94/IP-Adapter/models/ip-adapter-plus-face_sd15.bin', base='sd_1_5', modeltype='ipadapter', pipelinetypes={}, revision=None, stylephrase=None, vae=None, autocast=True, location='hf', modelpath='h94/IP-Adapter/models/ip-adapter-plus-face_sd15.bin', data={'id': 'h94/IP-Adapter/models/ip-adapter-plus-face_sd15.bin'}), 'h94/IP-Adapter/models/ip-adapter_sdxl.bin': DiffusersModel(modelid='h94/IP-Adapter/models/ip-adapter_sdxl.bin', base='sdxl_1_0', modeltype='ipadapter', pipelinetypes={}, revision=None, stylephrase=None, vae=None, autocast=True, location='hf', modelpath='h94/IP-Adapter/models/ip-adapter_sdxl.bin', data={'id': 'h94/IP-Adapter/models/ip-adapter_sdxl.bin'}), 'h94/IP-Adapter/models/ip-adapter_sdxl_vit-h.bin': DiffusersModel(modelid='h94/IP-Adapter/models/ip-adapter_sdxl_vit-h.bin', base='sdxl_1_0', modeltype='ipadapter', pipelinetypes={}, revision=None, stylephrase=None, vae=None, autocast=True, location='hf', modelpath='h94/IP-Adapter/models/ip-adapter_sdxl_vit-h.bin', data={'id': 'h94/IP-Adapter/models/ip-adapter_sdxl_vit-h.bin'}), 'h94/IP-Adapter/models/ip-adapter-plus_sdxl_vit-h.bin': DiffusersModel(modelid='h94/IP-Adapter/models/ip-adapter-plus_sdxl_vit-h.bin', base='sdxl_1_0', modeltype='ipadapter', pipelinetypes={}, revision=None, stylephrase=None, vae=None, autocast=True, location='hf', modelpath='h94/IP-Adapter/models/ip-adapter-plus_sdxl_vit-h.bin', data={'id': 'h94/IP-Adapter/models/ip-adapter-plus_sdxl_vit-h.bin'}), 'h94/IP-Adapter/models/ip-adapter-plus-face_sdxl_vit-h.bin': DiffusersModel(modelid='h94/IP-Adapter/models/ip-adapter-plus-face_sdxl_vit-h.bin', base='sdxl_1_0', modeltype='ipadapter', pipelinetypes={}, revision=None, stylephrase=None, vae=None, autocast=True, location='hf', modelpath='h94/IP-Adapter/models/ip-adapter-plus-face_sdxl_vit-h.bin', data={'id': 'h94/IP-Adapter/models/ip-adapter-plus-face_sdxl_vit-h.bin'})}\n"
     ]
    }
   ],
   "source": [
    "import path\n",
    "path.setPathLocalNotebook()\n",
    "\n",
    "from diffuserslib import loginHuggingFace, DiffusersPipelines, DiffusersBaseModel, GenerationParameters, ModelParameters\n",
    "\n",
    "# loginHuggingFace('token')\n",
    "\n",
    "pipelines = DiffusersPipelines(device = \"mps\", safety_checker=True, cache_dir=None)\n",
    "pipelines.loadPresetFile(\"../../modelconfig.yml\")\n",
    "\n",
    "print(pipelines.presets.getModelsByType(\"controlimage\"))\n",
    "# pipelines.createTextToImagePipeline('kandinsky-community/kandinsky-2-1-prior')\n",
    "\n",
    "# pipelines.loadLORA(\"epiNoiseoffset_v2.safetensors\", \"sd_1_5\", weight=1.5)\n",
    "\n",
    "# First-time \"warmup\" pass because of issue with m1 cpu: https://github.com/huggingface/diffusers/issues/372\n",
    "# _, _ = diffusers.textToImage(prompt=\"\", negprompt=\"\", steps=5, scale=7, width=512, height=512)\n",
    "\n"
   ]
  },
  {
   "cell_type": "code",
   "execution_count": null,
   "metadata": {},
   "outputs": [],
   "source": [
    "from IPython.display import display\n",
    "\n",
    "prompt = \"a photo of an astronaut riding a horse on mars, dark, dimly lit\"\n",
    "model = \"runwayml/stable-diffusion-v1-5\"\n",
    "# model = \"kandinsky-community/kandinsky-2-1\"\n",
    "\n",
    "params = GenerationParameters(prompt=prompt, negprompt=\"\", steps=40, cfgscale=7, width=512, height=512, scheduler=\"EulerDiscreteScheduler\", seed=None, models=[ModelParameters(model)])\n",
    "image, seed = pipelines.generate(params)\n",
    "\n",
    "print(f\"Seed: {seed}\")\n",
    "\n",
    "# for image in images:\n",
    "display(image)\n"
   ]
  },
  {
   "cell_type": "code",
   "execution_count": null,
   "metadata": {},
   "outputs": [],
   "source": [
    "from IPython.display import display\n",
    "from PIL import Image\n",
    "\n",
    "prompt = \"a photo of an astronaut riding a horse on mars, dark, dimly lit\"\n",
    "# model = \"stabilityai/stable-diffusion-2-1-base\"\n",
    "model = \"runwayml/stable-diffusion-v1-5\"\n",
    "controlmodel = \"lllyasviel/sd-controlnet-canny\"\n",
    "\n",
    "image = Image.open(\"data/rabbit.png\")\n",
    "control = Image.open(\"data/rabbit.png\")\n",
    "image, seed = pipelines.imageToImageControlNet(prompt=prompt, initimage=image, controlimage=control, \n",
    "                                               negprompt=\"\", strength=0.5, scale=7, width=512, height=512, scheduler=\"EulerDiscreteScheduler\", seed=None, \n",
    "                                               model=model, controlmodel=controlmodel)\n",
    "\n",
    "print(f\"Seed: {seed}\")\n",
    "\n",
    "# for image in images:\n",
    "display(image)"
   ]
  },
  {
   "cell_type": "code",
   "execution_count": null,
   "metadata": {},
   "outputs": [],
   "source": [
    "from diffusers import StableDiffusionPipeline\n",
    "\n",
    "pipe = StableDiffusionPipeline.from_pretrained(\"stabilityai/stable-diffusion-2-1-base\")\n",
    "pipe = pipe.to(\"mps\")\n",
    "\n",
    "# Recommended if your computer has < 64 GB of RAM\n",
    "# pipe.enable_attention_slicing()\n",
    "\n",
    "prompt = \"a photo of an astronaut riding a horse on mars\"\n",
    "\n",
    "# First-time \"warmup\" pass (see explanation above)\n",
    "_ = pipe(prompt, num_inference_steps=1)\n",
    "\n",
    "# Results match those from the CPU device after the warmup pass.\n",
    "image = pipe(prompt).images[0]"
   ]
  }
 ],
 "metadata": {
  "kernelspec": {
   "display_name": "sd",
   "language": "python",
   "name": "python3"
  },
  "language_info": {
   "codemirror_mode": {
    "name": "ipython",
    "version": 3
   },
   "file_extension": ".py",
   "mimetype": "text/x-python",
   "name": "python",
   "nbconvert_exporter": "python",
   "pygments_lexer": "ipython3",
   "version": "3.11.3"
  },
  "orig_nbformat": 4,
  "vscode": {
   "interpreter": {
    "hash": "5068c5e1dba06c9da9a8af8d761321dea437456188a092a476c2f6fcdb7acc4d"
   }
  }
 },
 "nbformat": 4,
 "nbformat_minor": 2
}
