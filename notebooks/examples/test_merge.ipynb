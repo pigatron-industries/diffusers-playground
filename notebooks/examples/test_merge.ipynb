{
 "cells": [
  {
   "cell_type": "code",
   "execution_count": null,
   "metadata": {},
   "outputs": [],
   "source": [
    "import path\n",
    "path.setPathLocalNotebook()\n",
    "\n",
    "from diffuserslib import chdirDiffuserScripts, mergeModels\n",
    "\n",
    "folder = \"/Users/rob/workspace/sdcheckpoints\";\n",
    "mergedFilename = mergeModels(folder, \"f222.ckpt\", \"theAllysMixIII_v10.ckpt\", 1.0, True)\n",
    "dumpFolder = mergedFilename[:-5]\n",
    "\n",
    "chdirDiffuserScripts()\n",
    "!python convert_original_stable_diffusion_to_diffusers.py --checkpoint_path $mergedFilename --dump_path $dumpFolder --extract_ema\n"
   ]
  },
  {
   "cell_type": "code",
   "execution_count": null,
   "metadata": {},
   "outputs": [],
   "source": [
    "import path\n",
    "path.setPathLocalNotebook()\n",
    "\n",
    "from diffuserslib import chdirDiffuserScripts\n",
    "\n",
    "folder = \"/Users/rob/workspace/sdcheckpoints\";\n",
    "ckpt_filename = \"theAllysMixIII_v10.ckpt\"\n",
    "ckptFolder = f\"{folder}/{ckpt_filename}\"\n",
    "dumpFolder = ckptFolder[:-5]\n",
    "\n",
    "chdirDiffuserScripts()\n",
    "!python convert_original_stable_diffusion_to_diffusers.py --checkpoint_path $ckptFolder --dump_path $dumpFolder --extract_ema"
   ]
  },
  {
   "cell_type": "code",
   "execution_count": null,
   "metadata": {},
   "outputs": [],
   "source": [
    "import path\n",
    "path.setPathLocalNotebook()\n",
    "\n",
    "from diffuserslib import downloadModel, convertToDiffusers\n",
    "\n",
    "downloadModel(\"https://test/test.ckpt\")\n",
    "convertToDiffusers('test.ckpt')"
   ]
  },
  {
   "cell_type": "code",
   "execution_count": null,
   "metadata": {},
   "outputs": [],
   "source": [
    "import path\n",
    "path.setPathLocalNotebook()\n",
    "\n",
    "from diffuserslib import convertSafetensorsToCkpt\n",
    "\n",
    "folder = \"/Users/rob/workspace/sdcheckpoints\";\n",
    "model = \"artEros\"\n",
    "convertSafetensorsToCkpt(model, folder)"
   ]
  },
  {
   "cell_type": "code",
   "execution_count": null,
   "metadata": {},
   "outputs": [],
   "source": [
    "import path\n",
    "path.setPathLocalNotebook()\n",
    "\n",
    "from diffuserslib import DiffusersPipelines\n",
    "\n",
    "pipelines = DiffusersPipelines(device = \"mps\", safety_checker=True, cache_dir=None)\n",
    "pipelines.loadPresetFile(\"../../modelconfig.yml\")\n",
    "\n",
    "pipelines.createPipeline(\"txt2img\", 'runwayml/stable-diffusion-v1-5')\n",
    "\n",
    "pipelines.mergeModel('runwayml/stable-diffusion-v1-5')\n"
   ]
  }
 ],
 "metadata": {
  "kernelspec": {
   "display_name": "Python 3",
   "language": "python",
   "name": "python3"
  },
  "language_info": {
   "codemirror_mode": {
    "name": "ipython",
    "version": 3
   },
   "file_extension": ".py",
   "mimetype": "text/x-python",
   "name": "python",
   "nbconvert_exporter": "python",
   "pygments_lexer": "ipython3",
   "version": "3.11.3"
  },
  "orig_nbformat": 4,
  "vscode": {
   "interpreter": {
    "hash": "aee8b7b246df8f9039afb4144a1f6fd8d2ca17a180786b69acc140d282b71a49"
   }
  }
 },
 "nbformat": 4,
 "nbformat_minor": 2
}
