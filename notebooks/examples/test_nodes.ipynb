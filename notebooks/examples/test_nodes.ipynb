{
 "cells": [
  {
   "cell_type": "code",
   "execution_count": null,
   "metadata": {},
   "outputs": [],
   "source": [
    "import path\n",
    "path.setPathLocalNotebook()\n",
    "\n",
    "from diffuserslib.functional import *\n",
    "from IPython.display import display\n",
    "\n",
    "\n",
    "new_image = NewImageNode(size=(512, 768))\n",
    "checkerboard = DrawCheckerboardNode(image=new_image, blocksize=(512//4, 768//4))\n",
    "\n",
    "checkerboard = checkerboard()\n",
    "display(checkerboard)\n",
    "\n"
   ]
  }
 ],
 "metadata": {
  "kernelspec": {
   "display_name": "sd",
   "language": "python",
   "name": "python3"
  },
  "language_info": {
   "codemirror_mode": {
    "name": "ipython",
    "version": 3
   },
   "file_extension": ".py",
   "mimetype": "text/x-python",
   "name": "python",
   "nbconvert_exporter": "python",
   "pygments_lexer": "ipython3",
   "version": "3.11.3"
  }
 },
 "nbformat": 4,
 "nbformat_minor": 2
}
