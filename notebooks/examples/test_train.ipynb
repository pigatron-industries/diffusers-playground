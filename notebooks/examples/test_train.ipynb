{
 "cells": [
  {
   "cell_type": "code",
   "execution_count": 1,
   "metadata": {},
   "outputs": [
    {
     "name": "stdout",
     "output_type": "stream",
     "text": [
      "TrainingParameters(base='sd_1_5', model='runwayml/stable-diffusion-v1-5', trainDataDir='/Users/robellis/workspace/diffusers/training/test-1024x1024', outputDir='/Users/robellis/workspace/diffusers/embeds/sd_1_5/test', outputPrefix='object', placeholderToken='<test>', initializerToken='girl', learnableProperty='object', seed=1, resolution=512, centreCrop=False, repeats=100, numVectors=1, mixedPrecision='no', safetensors=True, numValidationImages=1, validationSize=(512, 768), validationSteps=100, validationModel='stabilityai/stable-diffusion-xl-base-1.0', validationPrompt='beautiful * girl, painting, hyper realism, pop surrealism, beksinski, charlie bowater, tom bagshaw', validationNegativePrompt='ugly, low quality, cartoon', validationSeed=1, validationInferenceSteps=50, batchSize=1, saveSteps=100, maxSteps=1000, numEpochs=100, gradientAccumulationSteps=4, gradientCheckpointing=False, enableXformers=False, learningRate=0.0005, scaleLearningRate=True, learningRateSchedule='constant', learningRateWarmupSteps=0, learningRateNumCycles=1, adamBeta1=0.9, adamBeta2=0.999, adamWeightDecay=0.01, adamEpsilon=1e-08)\n"
     ]
    }
   ],
   "source": [
    "import path\n",
    "path.setPathLocalNotebook()\n",
    "\n",
    "from diffuserslib import TrainingParameters, StableDiffusionEmbeddingTrainer, StableDiffusionXLEmbeddingTrainer\n",
    "\n",
    "params = TrainingParameters(\n",
    "    # base = \"sd_1_5\",\n",
    "    base = \"sdxl_1_0\",\n",
    "    trainDataDir = \"/Users/x/wdmycloud/projects/ml_training/images/people/frivvy-1024x1024\",\n",
    "    outputDirPrefix=\"/Users/x/workspace/diffusers/embeds\",\n",
    "    outputPrefix = \"person\",\n",
    "    learnableProperty =\"object\",\n",
    "    placeholderToken = \"<frivvy-512>\",\n",
    "    initializerToken = \"girl\",\n",
    "    numVectors = 1,\n",
    "    resolution = (512, 512),\n",
    "    # resolution = (768, 768),\n",
    "    # resolution = (512,768),\n",
    "    # resolution = (768, 1152),\n",
    "    mixedPrecision = 'no',\n",
    "    batchSize = 1,\n",
    "    gradientAccumulationSteps = 4,\n",
    "    maxSteps = 500,\n",
    "    saveSteps = 50,\n",
    "    learningRate = 5.0e-04,\n",
    "    scaleLearningRate = True,\n",
    "    learningRateSchedule = \"constant\",\n",
    "    learningRateWarmupSteps = 0,\n",
    "    \n",
    "    numValidationImages = 4,\n",
    "    # validationSize = (512, 512),\n",
    "    validationSize = (768, 768),\n",
    "    # validationSize = (512, 768),\n",
    "    # validationSize = (768, 1152),\n",
    "    validationSteps = 50,\n",
    "    # validationModel = 'stabilityai/stable-diffusion-xl-base-1.0',\n",
    "    validationPrompt = \"beautiful * girl, painting, hyper realism\",\n",
    "    validationNegativePrompt = \"ugly, low quality, cartoon\",\n",
    "    validationInferenceSteps = 50,\n",
    "    validationSeed = 1,\n",
    "    seed = 1\n",
    ")\n",
    "\n",
    "if (params.base == \"sdxl_1_0\"):\n",
    "    trainer = StableDiffusionXLEmbeddingTrainer(params)\n",
    "else:\n",
    "    trainer = StableDiffusionEmbeddingTrainer(params)\n",
    "trainer.train()\n"
   ]
  }
 ],
 "metadata": {
  "kernelspec": {
   "display_name": "sd",
   "language": "python",
   "name": "python3"
  },
  "language_info": {
   "codemirror_mode": {
    "name": "ipython",
    "version": 3
   },
   "file_extension": ".py",
   "mimetype": "text/x-python",
   "name": "python",
   "nbconvert_exporter": "python",
   "pygments_lexer": "ipython3",
   "version": "3.11.3"
  },
  "orig_nbformat": 4
 },
 "nbformat": 4,
 "nbformat_minor": 2
}
