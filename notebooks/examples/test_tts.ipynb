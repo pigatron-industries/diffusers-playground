{
 "cells": [
  {
   "cell_type": "code",
   "execution_count": null,
   "metadata": {},
   "outputs": [],
   "source": [
    "\n",
    "from TTS.api import TTS\n",
    "\n",
    "\n",
    "tts = TTS(\"tts_models/en/multi-dataset/tortoise-v2\")\n",
    "\n",
    "# cloning `lj` voice from `TTS/tts/utils/assets/tortoise/voices/lj`\n",
    "# with custom inference settings overriding defaults.\n",
    "tts.tts_to_file(text=\"Hello, my name is Manmay , how are you?\",\n",
    "                file_path=\"output.wav\",\n",
    "                # voice_dir=\"path/to/tortoise/voices/dir/\",\n",
    "                # speaker=\"lj\",\n",
    "                num_autoregressive_samples=1,\n",
    "                diffusion_iterations=10)"
   ]
  },
  {
   "cell_type": "code",
   "execution_count": 9,
   "metadata": {},
   "outputs": [
    {
     "name": "stderr",
     "output_type": "stream",
     "text": [
      "The attention mask and the pad token id were not set. As a consequence, you may observe unexpected behavior. Please pass your input's `attention_mask` to obtain reliable results.\n",
      "Setting `pad_token_id` to `eos_token_id`:10000 for open-end generation.\n"
     ]
    }
   ],
   "source": [
    "\n",
    "\n",
    "from transformers import AutoProcessor, BarkModel\n",
    "from scipy.io.wavfile import write as write_wav\n",
    "\n",
    "processor = AutoProcessor.from_pretrained(\"suno/bark\")\n",
    "\n",
    "model = BarkModel.from_pretrained(\"suno/bark\")\n",
    "\n",
    "voice_preset = \"v2/en_speaker_6\"\n",
    "\n",
    "inputs = processor(\"Hello, my dog is cute\", \n",
    "                   voice_preset=voice_preset\n",
    "                   )\n",
    "\n",
    "audio_array = model.generate(**inputs)\n",
    "\n",
    "audio_array = audio_array.cpu().numpy().squeeze()\n",
    "\n",
    "sample_rate = model.generation_config.sample_rate\n",
    "write_wav(\"bark_generation.wav\", sample_rate, audio_array)\n"
   ]
  },
  {
   "cell_type": "code",
   "execution_count": null,
   "metadata": {},
   "outputs": [],
   "source": [
    "import bark\n",
    "\n",
    "bark.preload_models()\n"
   ]
  }
 ],
 "metadata": {
  "kernelspec": {
   "display_name": "sd",
   "language": "python",
   "name": "python3"
  },
  "language_info": {
   "codemirror_mode": {
    "name": "ipython",
    "version": 3
   },
   "file_extension": ".py",
   "mimetype": "text/x-python",
   "name": "python",
   "nbconvert_exporter": "python",
   "pygments_lexer": "ipython3",
   "version": "3.11.3"
  }
 },
 "nbformat": 4,
 "nbformat_minor": 2
}
