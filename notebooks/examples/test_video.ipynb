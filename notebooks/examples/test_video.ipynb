{
 "cells": [
  {
   "cell_type": "code",
   "execution_count": null,
   "metadata": {},
   "outputs": [],
   "source": [
    "import path\n",
    "path.setPathLocalNotebook()\n",
    "\n",
    "from diffuserslib import loginHuggingFace, DiffusersPipelines, DiffusersBaseModel, GenerationParameters, ModelParameters\n",
    "\n",
    "pipelines = DiffusersPipelines(device = \"mps\", safety_checker=True, cache_dir=None)\n",
    "pipelines.loadPresetFile(\"../../modelconfig.yml\")\n",
    "\n",
    "params = GenerationParameters(\n",
    "    generationtype = \"animatediff\",\n",
    "    prompt = \"a photo of an astronaut riding a horse on mars\", \n",
    "    negprompt = \"\", \n",
    "    steps = 40, \n",
    "    cfgscale = 7, \n",
    "    width = 512, \n",
    "    height = 512, \n",
    "    frames = 16,\n",
    "    scheduler = \"EulerDiscreteScheduler\", \n",
    "    seed = None, \n",
    "    models = [ModelParameters(name = \"runwayml/stable-diffusion-v1-5\")])\n",
    "frames, seed = pipelines.generate(params)\n",
    "\n",
    "print(f\"Seed: {seed}\")\n",
    "\n",
    "# for image in images:\n",
    "for frame in frames:\n",
    "    display(frame)"
   ]
  },
  {
   "cell_type": "code",
   "execution_count": null,
   "metadata": {},
   "outputs": [],
   "source": [
    "import path\n",
    "path.setPathLocalNotebook()\n",
    "\n",
    "from diffuserslib import loginHuggingFace, DiffusersPipelines, ControlImageParameters, GenerationParameters, ModelParameters\n",
    "from PIL import Image\n",
    "\n",
    "pipelines = DiffusersPipelines(device = \"mps\", safety_checker=True, cache_dir=None)\n",
    "pipelines.loadPresetFile(\"../../modelconfig.yml\")\n",
    "\n",
    "image = Image.open(\"data/rabbit.png\")\n",
    "\n",
    "params = GenerationParameters(\n",
    "    generationtype = \"video\",\n",
    "    seed = None, \n",
    "    controlimages = [ControlImageParameters(image = image)],\n",
    "    models = [ModelParameters(name = \"stabilityai/stable-video-diffusion-img2vid\")])\n",
    "frames, seed = pipelines.generate(params)\n",
    "\n",
    "print(f\"Seed: {seed}\")\n",
    "\n",
    "# for image in images:\n",
    "for frame in frames:\n",
    "    display(frame)"
   ]
  }
 ],
 "metadata": {
  "kernelspec": {
   "display_name": "sd",
   "language": "python",
   "name": "python3"
  },
  "language_info": {
   "codemirror_mode": {
    "name": "ipython",
    "version": 3
   },
   "file_extension": ".py",
   "mimetype": "text/x-python",
   "name": "python",
   "nbconvert_exporter": "python",
   "pygments_lexer": "ipython3",
   "version": "3.11.3"
  }
 },
 "nbformat": 4,
 "nbformat_minor": 2
}
