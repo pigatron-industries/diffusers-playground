{
 "cells": [
  {
   "cell_type": "code",
   "execution_count": null,
   "metadata": {},
   "outputs": [],
   "source": [
    "!pip install -r ../requirements.txt"
   ]
  },
  {
   "cell_type": "code",
   "execution_count": 2,
   "metadata": {},
   "outputs": [
    {
     "name": "stdout",
     "output_type": "stream",
     "text": [
      "Creating text to image pipeline from model runwayml/stable-diffusion-v1-5\n"
     ]
    },
    {
     "data": {
      "application/json": {
       "ascii": false,
       "bar_format": null,
       "colour": null,
       "elapsed": 0.011353254318237305,
       "initial": 0,
       "n": 0,
       "ncols": null,
       "nrows": null,
       "postfix": null,
       "prefix": "Fetching 15 files",
       "rate": null,
       "total": 15,
       "unit": "it",
       "unit_divisor": 1000,
       "unit_scale": false
      },
      "application/vnd.jupyter.widget-view+json": {
       "model_id": "b40dc2e1c98545e7a4d0734e037d8c13",
       "version_major": 2,
       "version_minor": 0
      },
      "text/plain": [
       "Fetching 15 files:   0%|          | 0/15 [00:00<?, ?it/s]"
      ]
     },
     "metadata": {},
     "output_type": "display_data"
    }
   ],
   "source": [
    "import path\n",
    "path.setPathLocalNotebook()\n",
    "\n",
    "from diffuserslib import loginHuggingFace, getHuggingFacePresetsList, DiffusersPipelines, DiffusersBaseModel\n",
    "\n",
    "# loginHuggingFace('token')\n",
    "\n",
    "pipelines = DiffusersPipelines(device = \"mps\", safety_checker=True)\n",
    "# pipelines.addPresets(getHuggingFacePresetsList())\n",
    "pipelines.createTextToImagePipeline('runwayml/stable-diffusion-v1-5')\n",
    "\n",
    "# First-time \"warmup\" pass because of issue with m1 cpu: https://github.com/huggingface/diffusers/issues/372\n",
    "# _, _ = diffusers.textToImage(prompt=\"\", negprompt=\"\", steps=5, scale=7, width=512, height=512)\n",
    "\n"
   ]
  },
  {
   "cell_type": "code",
   "execution_count": 5,
   "metadata": {},
   "outputs": [
    {
     "data": {
      "text/html": [
       "<pre style=\"white-space:pre;overflow-x:auto;line-height:normal;font-family:Menlo,'DejaVu Sans Mono',consolas,'Courier New',monospace\"><span style=\"color: #ff0000; text-decoration-color: #ff0000\">╭──────────────────────────────────────────────────────────────────────────────────────────────────╮</span>\n",
       "<span style=\"color: #ff0000; text-decoration-color: #ff0000\">│</span> <span style=\"color: #bfbf7f; text-decoration-color: #bfbf7f\"> /var/folders/r9/psxf64797xl29x7hwdpwzrzd16v7nr/T/ipykernel_39620/</span><span style=\"color: #808000; text-decoration-color: #808000; font-weight: bold\">1159099811.py</span><span style=\"font-weight: bold\">:</span><span style=\"color: #0000ff; text-decoration-color: #0000ff; font-weight: bold\">10</span>               <span style=\"color: #ff0000; text-decoration-color: #ff0000\">│</span>\n",
       "<span style=\"color: #ff0000; text-decoration-color: #ff0000\">│</span>     <span style=\"color: #800080; text-decoration-color: #800080; font-weight: bold\">display</span><span style=\"font-weight: bold\">(</span>image<span style=\"font-weight: bold\">)</span>                                                                               <span style=\"color: #ff0000; text-decoration-color: #ff0000\">│</span>\n",
       "<span style=\"color: #ff0000; text-decoration-color: #ff0000\">│</span>    <span style=\"color: #ff0000; text-decoration-color: #ff0000; font-weight: bold\">▲</span>                                                                                             <span style=\"color: #ff0000; text-decoration-color: #ff0000\">│</span>\n",
       "<span style=\"color: #ff0000; text-decoration-color: #ff0000\">╰──────────────────────────────────────────────────────────────────────────────────────────────────╯</span>\n",
       "<span style=\"color: #ff0000; text-decoration-color: #ff0000; font-weight: bold\">IndentationError: </span>unexpected indent\n",
       "</pre>\n"
      ],
      "text/plain": [
       "\u001b[91m╭──────────────────────────────────────────────────────────────────────────────────────────────────╮\u001b[0m\n",
       "\u001b[91m│\u001b[0m \u001b[2;33m /var/folders/r9/psxf64797xl29x7hwdpwzrzd16v7nr/T/ipykernel_39620/\u001b[0m\u001b[1;33m1159099811.py\u001b[0m\u001b[1m:\u001b[0m\u001b[1;94m10\u001b[0m               \u001b[91m│\u001b[0m\n",
       "\u001b[91m│\u001b[0m     \u001b[1;35mdisplay\u001b[0m\u001b[1m(\u001b[0mimage\u001b[1m)\u001b[0m                                                                               \u001b[91m│\u001b[0m\n",
       "\u001b[91m│\u001b[0m    \u001b[1;91m▲\u001b[0m                                                                                             \u001b[91m│\u001b[0m\n",
       "\u001b[91m╰──────────────────────────────────────────────────────────────────────────────────────────────────╯\u001b[0m\n",
       "\u001b[1;91mIndentationError: \u001b[0munexpected indent\n"
      ]
     },
     "metadata": {},
     "output_type": "display_data"
    }
   ],
   "source": [
    "from IPython.display import display\n",
    "\n",
    "prompt = \"a photo of an astronaut riding a horse on mars\"\n",
    "\n",
    "image, seed = pipelines.textToImage(prompt=prompt, negprompt=\"\", steps=30, scale=7, width=512, height=512, scheduler=\"EulerDiscreteScheduler\", seed=None)\n",
    "\n",
    "print(f\"Seed: {seed}\")\n",
    "\n",
    "# for image in images:\n",
    "display(image)\n"
   ]
  },
  {
   "cell_type": "code",
   "execution_count": null,
   "metadata": {},
   "outputs": [],
   "source": [
    "import re\n",
    "\n",
    "\n",
    "def findBetween(text, start, end, includetags=False):\n",
    "    regex = f\"\\{start}.*?\\{end}\"\n",
    "    token = re.search(regex, text)\n",
    "    if token is not None:\n",
    "        if includetags:\n",
    "            return token.group()\n",
    "        else:\n",
    "            return token.group()[1:-1]\n",
    "    else:\n",
    "        return None\n",
    "\n",
    "\n",
    "\n",
    "\n",
    "print(findBetween('<poppy>_embed_object_poppy2_1000.bin', '<', '>', True))\n",
    "\n"
   ]
  }
 ],
 "metadata": {
  "kernelspec": {
   "display_name": "base",
   "language": "python",
   "name": "python3"
  },
  "language_info": {
   "codemirror_mode": {
    "name": "ipython",
    "version": 3
   },
   "file_extension": ".py",
   "mimetype": "text/x-python",
   "name": "python",
   "nbconvert_exporter": "python",
   "pygments_lexer": "ipython3",
   "version": "3.9.12"
  },
  "orig_nbformat": 4,
  "vscode": {
   "interpreter": {
    "hash": "72fa5da807d66e755d9910dad0a1729879db0cdcf07f547d81c7ed591edcf3d8"
   }
  }
 },
 "nbformat": 4,
 "nbformat_minor": 2
}
