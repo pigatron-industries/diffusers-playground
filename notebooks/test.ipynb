{
 "cells": [
  {
   "cell_type": "code",
   "execution_count": null,
   "metadata": {},
   "outputs": [],
   "source": [
    "!pip install -r ../requirements.txt"
   ]
  },
  {
   "cell_type": "code",
   "execution_count": null,
   "metadata": {},
   "outputs": [],
   "source": [
    "import path\n",
    "path.setPathLocalNotebook()\n",
    "\n",
    "from diffuserslib import loginHuggingFace, DiffusersPipelines, DiffusersBaseModel\n",
    "\n",
    "# loginHuggingFace('token')\n",
    "\n",
    "pipelines = DiffusersPipelines(device = \"mps\", safety_checker=True)\n",
    "pipelines.loadPresetFile(\"../modelconfig.yml\")\n",
    "# pipelines.createTextToImagePipeline('runwayml/stable-diffusion-v1-5')\n",
    "\n",
    "# pipelines.loadLORA(\"epiNoiseoffset_v2.safetensors\", \"sd_1_5\", weight=1.5)\n",
    "\n",
    "# First-time \"warmup\" pass because of issue with m1 cpu: https://github.com/huggingface/diffusers/issues/372\n",
    "# _, _ = diffusers.textToImage(prompt=\"\", negprompt=\"\", steps=5, scale=7, width=512, height=512)\n",
    "\n"
   ]
  },
  {
   "cell_type": "code",
   "execution_count": null,
   "metadata": {},
   "outputs": [],
   "source": [
    "from IPython.display import display\n",
    "\n",
    "prompt = \"a photo of an astronaut riding a horse on mars, dark, dimly lit\"\n",
    "model = \"stabilityai/stable-diffusion-2-1-base\"\n",
    "# model = \"runwayml/stable-diffusion-v1-5\"\n",
    "image, seed = pipelines.textToImage(prompt=prompt, negprompt=\"\", steps=40, scale=7, width=512, height=512, scheduler=\"EulerDiscreteScheduler\", seed=None, model=model)\n",
    "\n",
    "print(f\"Seed: {seed}\")\n",
    "\n",
    "# for image in images:\n",
    "display(image)\n"
   ]
  },
  {
   "cell_type": "code",
   "execution_count": null,
   "metadata": {},
   "outputs": [],
   "source": [
    "from diffusers import StableDiffusionPipeline\n",
    "\n",
    "pipe = StableDiffusionPipeline.from_pretrained(\"stabilityai/stable-diffusion-2-1-base\")\n",
    "pipe = pipe.to(\"mps\")\n",
    "\n",
    "# Recommended if your computer has < 64 GB of RAM\n",
    "# pipe.enable_attention_slicing()\n",
    "\n",
    "prompt = \"a photo of an astronaut riding a horse on mars\"\n",
    "\n",
    "# First-time \"warmup\" pass (see explanation above)\n",
    "_ = pipe(prompt, num_inference_steps=1)\n",
    "\n",
    "# Results match those from the CPU device after the warmup pass.\n",
    "image = pipe(prompt).images[0]"
   ]
  }
 ],
 "metadata": {
  "kernelspec": {
   "display_name": "base",
   "language": "python",
   "name": "python3"
  },
  "language_info": {
   "codemirror_mode": {
    "name": "ipython",
    "version": 3
   },
   "file_extension": ".py",
   "mimetype": "text/x-python",
   "name": "python",
   "nbconvert_exporter": "python",
   "pygments_lexer": "ipython3",
   "version": "3.9.12"
  },
  "orig_nbformat": 4,
  "vscode": {
   "interpreter": {
    "hash": "72fa5da807d66e755d9910dad0a1729879db0cdcf07f547d81c7ed591edcf3d8"
   }
  }
 },
 "nbformat": 4,
 "nbformat_minor": 2
}
