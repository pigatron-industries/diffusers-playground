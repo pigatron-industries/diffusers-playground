{
 "cells": [
  {
   "cell_type": "code",
   "execution_count": 1,
   "metadata": {},
   "outputs": [],
   "source": [
    "import path, os\n",
    "from IPython.display import display\n",
    "path.setPathLocalNotebook()\n",
    "from unittest.mock import Mock\n",
    "\n",
    "from diffuserslib import DiffusersPipelines, DiffusersPipeline, DiffusersModel\n",
    "\n",
    "pipelines = DiffusersPipelines(device = \"mps\", safety_checker=False)\n",
    "# pipelines.addPresets(getHuggingFacePresetsList())\n",
    "# pipelines.createImageToImagePipeline('runwayml/stable-diffusion-v1-5')\n",
    "\n",
    "\n",
    "def dummyPipeline(prompt, **kwargs):\n",
    "    print(kwargs)\n",
    "    ret = Mock()\n",
    "    ret.images = [kwargs['image']]\n",
    "    return ret\n",
    "\n",
    "pipelines.pipelineImageToImage = DiffusersPipeline(DiffusersModel(\"dummy\", \"dummy\"), dummyPipeline)\n",
    "# pipelines.pipelineImageToImage = Mock()"
   ]
  },
  {
   "cell_type": "code",
   "execution_count": 2,
   "metadata": {},
   "outputs": [
    {
     "name": "stdout",
     "output_type": "stream",
     "text": [
      "{'image': <PIL.Image.Image image mode=RGB size=512x512 at 0x15CA67730>, 'negative_prompt': '', 'strength': 0.1, 'guidance_scale': 9, 'generator': <torch._C.Generator object at 0x15ca337d0>}\n",
      "{'image': <PIL.Image.Image image mode=RGB size=512x512 at 0x15CA676D0>, 'negative_prompt': '', 'strength': 0.1, 'guidance_scale': 9, 'generator': <torch._C.Generator object at 0x15ca33730>}\n",
      "{'image': <PIL.Image.Image image mode=RGB size=512x512 at 0x15CA67760>, 'negative_prompt': '', 'strength': 0.1, 'guidance_scale': 9, 'generator': <torch._C.Generator object at 0x15ca33830>}\n",
      "{'image': <PIL.Image.Image image mode=RGB size=512x512 at 0x15CA67730>, 'negative_prompt': '', 'strength': 0.1, 'guidance_scale': 9, 'generator': <torch._C.Generator object at 0x15ca33910>}\n",
      "{'image': <PIL.Image.Image image mode=RGB size=512x512 at 0x15CA676D0>, 'negative_prompt': '', 'strength': 0.1, 'guidance_scale': 9, 'generator': <torch._C.Generator object at 0x15ca337d0>}\n"
     ]
    }
   ],
   "source": [
    "from diffuserslib import Scene, Sequence, SceneRenderer, RotateTransform, ImageToImageTransform, LinearInterpolation\n",
    "from PIL import Image\n",
    "\n",
    "\n",
    "initimage = Image.open(\"./data/rabbit.png\")\n",
    "sequence = Sequence(name=\"01_dog\", length=5, transforms=[\n",
    "                RotateTransform(length=5, interpolation=LinearInterpolation(), xcentre=0, ycentre=0, angle=90, zoom=0.5), \n",
    "                ImageToImageTransform(pipelines=pipelines, length=5, prompt=\"a dog\")\n",
    "            ])\n",
    "\n",
    "renderer = SceneRenderer(\"./output\", pipelines)\n",
    "renderer.renderSequenceFrames(sequence, initimage)\n",
    "\n",
    "\n",
    "\n"
   ]
  },
  {
   "cell_type": "code",
   "execution_count": 3,
   "metadata": {},
   "outputs": [],
   "source": [
    "renderer.renderVideo()"
   ]
  },
  {
   "cell_type": "code",
   "execution_count": 2,
   "metadata": {},
   "outputs": [],
   "source": [
    "from diffuserslib import Scene\n",
    "\n",
    "scene = Scene.from_file(\"./data/script.yml\", pipelines)\n",
    "\n",
    "print(scene)"
   ]
  }
 ],
 "metadata": {
  "kernelspec": {
   "display_name": "base",
   "language": "python",
   "name": "python3"
  },
  "language_info": {
   "codemirror_mode": {
    "name": "ipython",
    "version": 3
   },
   "file_extension": ".py",
   "mimetype": "text/x-python",
   "name": "python",
   "nbconvert_exporter": "python",
   "pygments_lexer": "ipython3",
   "version": "3.9.12"
  },
  "orig_nbformat": 4,
  "vscode": {
   "interpreter": {
    "hash": "72fa5da807d66e755d9910dad0a1729879db0cdcf07f547d81c7ed591edcf3d8"
   }
  }
 },
 "nbformat": 4,
 "nbformat_minor": 2
}
