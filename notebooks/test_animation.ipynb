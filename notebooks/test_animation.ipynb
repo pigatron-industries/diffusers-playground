{
 "cells": [
  {
   "cell_type": "code",
   "execution_count": 1,
   "metadata": {},
   "outputs": [],
   "source": [
    "import path, os\n",
    "from IPython.display import display\n",
    "path.setPathLocalNotebook()\n",
    "from unittest.mock import Mock\n",
    "\n",
    "from diffuserslib import DiffusersPipelines, DiffusersPipeline, DiffusersModel\n",
    "\n",
    "pipelines = DiffusersPipelines(device = \"mps\", safety_checker=False)\n",
    "# pipelines.addPresets(getHuggingFacePresetsList())\n",
    "# pipelines.createImageToImagePipeline('runwayml/stable-diffusion-v1-5')\n",
    "\n",
    "\n",
    "def dummyPipeline(prompt, **kwargs):\n",
    "    print(kwargs)\n",
    "    ret = Mock()\n",
    "    ret.images = [kwargs['image']]\n",
    "    return ret\n",
    "\n",
    "pipelines.pipelineImageToImage = DiffusersPipeline(DiffusersModel(\"dummy\", \"dummy\"), dummyPipeline)\n",
    "# pipelines.pipelineImageToImage = Mock()"
   ]
  },
  {
   "cell_type": "code",
   "execution_count": null,
   "metadata": {},
   "outputs": [],
   "source": [
    "from diffuserslib import Scene, SceneRenderer\n",
    "\n",
    "scene = Scene.from_file(\"./data/script.yml\", pipelines)\n",
    "\n",
    "\n",
    "renderer = SceneRenderer(pipelines)\n",
    "renderer.renderSceneFrames(scene)\n",
    "# renderer.renderVideo()"
   ]
  },
  {
   "cell_type": "code",
   "execution_count": null,
   "metadata": {},
   "outputs": [],
   "source": [
    "from diffuserslib import Scene, Sequence, SceneRenderer, RotateTransform, ImageToImageTransform, LinearInterpolation\n",
    "from PIL import Image\n",
    "\n",
    "\n",
    "initimage = Image.open(\"./data/rabbit.png\")\n",
    "sequence = Sequence(name=\"01_dog\", length=5, transforms=[\n",
    "                RotateTransform(length=5, interpolation=LinearInterpolation(), xcentre=0, ycentre=0, angle=90, zoom=0.5), \n",
    "                ImageToImageTransform(pipelines=pipelines, length=5, prompt=\"a dog\")\n",
    "            ])\n",
    "\n",
    "renderer = SceneRenderer(\"./output\", pipelines)\n",
    "renderer.renderSequenceFrames(sequence, initimage)\n",
    "\n",
    "\n",
    "\n"
   ]
  },
  {
   "cell_type": "code",
   "execution_count": 3,
   "metadata": {},
   "outputs": [],
   "source": [
    "renderer.renderVideo()"
   ]
  }
 ],
 "metadata": {
  "kernelspec": {
   "display_name": "Python 3",
   "language": "python",
   "name": "python3"
  },
  "language_info": {
   "codemirror_mode": {
    "name": "ipython",
    "version": 3
   },
   "file_extension": ".py",
   "mimetype": "text/x-python",
   "name": "python",
   "nbconvert_exporter": "python",
   "pygments_lexer": "ipython3",
   "version": "3.9.13"
  },
  "orig_nbformat": 4,
  "vscode": {
   "interpreter": {
    "hash": "aee8b7b246df8f9039afb4144a1f6fd8d2ca17a180786b69acc140d282b71a49"
   }
  }
 },
 "nbformat": 4,
 "nbformat_minor": 2
}
