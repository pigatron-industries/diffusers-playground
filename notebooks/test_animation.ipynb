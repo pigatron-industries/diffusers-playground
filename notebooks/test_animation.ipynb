{
 "cells": [
  {
   "cell_type": "code",
   "execution_count": 1,
   "metadata": {},
   "outputs": [],
   "source": [
    "import path, os\n",
    "from IPython.display import display\n",
    "path.setPathLocalNotebook()\n",
    "from unittest.mock import Mock\n",
    "\n",
    "from diffuserslib import DiffusersPipelines, DiffusersPipeline, DiffusersModel\n",
    "\n",
    "pipelines = DiffusersPipelines(device = \"mps\", safety_checker=False)\n",
    "# pipelines.addPresets(getHuggingFacePresetsList())\n",
    "# pipelines.createImageToImagePipeline('runwayml/stable-diffusion-v1-5')\n",
    "\n",
    "\n",
    "def dummyPipeline(prompt, **kwargs):\n",
    "    print(kwargs)\n",
    "    ret = Mock()\n",
    "    ret.images = [kwargs['image']]\n",
    "    return ret\n",
    "\n",
    "pipelines.pipelineImageToImage = DiffusersPipeline(DiffusersModel(\"dummy\", \"dummy\"), dummyPipeline)\n",
    "# pipelines.pipelineImageToImage = Mock()"
   ]
  },
  {
   "cell_type": "code",
   "execution_count": 2,
   "metadata": {},
   "outputs": [
    {
     "name": "stdout",
     "output_type": "stream",
     "text": [
      "Rendering frame 0 / 5\n",
      "{'image': <PIL.Image.Image image mode=RGB size=512x512 at 0x15A3E4070>, 'negative_prompt': 'ugly', 'strength': 0.1, 'guidance_scale': 9, 'generator': <torch._C.Generator object at 0x15a3da730>}\n",
      "Rendering frame 1 / 5\n",
      "{'image': <PIL.Image.Image image mode=RGB size=512x512 at 0x15A3E40D0>, 'negative_prompt': 'ugly', 'strength': 0.1, 'guidance_scale': 9, 'generator': <torch._C.Generator object at 0x15a3da8b0>}\n",
      "Rendering frame 2 / 5\n",
      "{'image': <PIL.Image.Image image mode=RGB size=512x512 at 0x15A3E4100>, 'negative_prompt': 'ugly', 'strength': 0.1, 'guidance_scale': 9, 'generator': <torch._C.Generator object at 0x15a3da7b0>}\n",
      "Rendering frame 3 / 5\n",
      "{'image': <PIL.Image.Image image mode=RGB size=512x512 at 0x15A3E4130>, 'negative_prompt': 'ugly', 'strength': 0.1, 'guidance_scale': 9, 'generator': <torch._C.Generator object at 0x15a3da990>}\n",
      "Rendering frame 4 / 5\n",
      "{'image': <PIL.Image.Image image mode=RGB size=512x512 at 0x15A3E4040>, 'negative_prompt': 'ugly', 'strength': 0.1, 'guidance_scale': 9, 'generator': <torch._C.Generator object at 0x15a3da910>}\n",
      "Rendering frame 5 / 5\n",
      "{'image': <PIL.Image.Image image mode=RGB size=512x512 at 0x15A3E4130>, 'negative_prompt': 'ugly', 'strength': 0.1, 'guidance_scale': 9, 'generator': <torch._C.Generator object at 0x15a3da950>}\n"
     ]
    }
   ],
   "source": [
    "from diffuserslib import Scene, SceneRenderer\n",
    "\n",
    "scene = Scene.from_file(\"./data/script.yml\", pipelines)\n",
    "\n",
    "\n",
    "renderer = SceneRenderer(pipelines)\n",
    "renderer.renderSceneFrames(scene, sequenceIndexes=[2], resumeFrame=0)\n",
    "# renderer.renderVideo()"
   ]
  },
  {
   "cell_type": "code",
   "execution_count": null,
   "metadata": {},
   "outputs": [],
   "source": [
    "from diffuserslib import Scene, Sequence, SceneRenderer, RotateTransform, ImageToImageTransform, LinearInterpolation\n",
    "from PIL import Image\n",
    "\n",
    "\n",
    "initimage = Image.open(\"./data/rabbit.png\")\n",
    "sequence = Sequence(name=\"01_dog\", length=5, transforms=[\n",
    "                RotateTransform(length=5, interpolation=LinearInterpolation(), xcentre=0, ycentre=0, angle=90, zoom=0.5), \n",
    "                ImageToImageTransform(pipelines=pipelines, length=5, prompt=\"a dog\")\n",
    "            ])\n",
    "\n",
    "renderer = SceneRenderer(\"./output\", pipelines)\n",
    "renderer.renderSequenceFrames(sequence, initimage)\n",
    "\n",
    "\n",
    "\n"
   ]
  },
  {
   "cell_type": "code",
   "execution_count": 2,
   "metadata": {},
   "outputs": [],
   "source": [
    "from diffuserslib import SceneRenderer\n",
    "renderer = SceneRenderer(None)\n",
    "renderer.renderVideo('/Users/rob/GoogleDrive/stable-diffusion/projects/test/output')"
   ]
  }
 ],
 "metadata": {
  "kernelspec": {
   "display_name": "base",
   "language": "python",
   "name": "python3"
  },
  "language_info": {
   "codemirror_mode": {
    "name": "ipython",
    "version": 3
   },
   "file_extension": ".py",
   "mimetype": "text/x-python",
   "name": "python",
   "nbconvert_exporter": "python",
   "pygments_lexer": "ipython3",
   "version": "3.9.12"
  },
  "orig_nbformat": 4,
  "vscode": {
   "interpreter": {
    "hash": "72fa5da807d66e755d9910dad0a1729879db0cdcf07f547d81c7ed591edcf3d8"
   }
  }
 },
 "nbformat": 4,
 "nbformat_minor": 2
}
