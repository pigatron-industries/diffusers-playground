{
 "cells": [
  {
   "cell_type": "code",
   "execution_count": 1,
   "metadata": {},
   "outputs": [],
   "source": [
    "import path, os\n",
    "from IPython.display import display\n",
    "path.setPathLocalNotebook()\n",
    "from unittest.mock import Mock\n",
    "\n",
    "from diffuserslib import DiffusersPipelines, DiffusersPipeline, DiffusersModel\n",
    "\n",
    "pipelines = DiffusersPipelines(device = \"mps\", safety_checker=False)\n",
    "# pipelines.addPresets(getHuggingFacePresetsList())\n",
    "# pipelines.createImageToImagePipeline('runwayml/stable-diffusion-v1-5')\n",
    "\n",
    "\n",
    "def dummyPipeline(prompt, **kwargs):\n",
    "    print(kwargs)\n",
    "    ret = Mock()\n",
    "    ret.images = [kwargs['image']]\n",
    "    return ret\n",
    "\n",
    "pipelines.pipelineImageToImage = DiffusersPipeline(DiffusersModel(\"dummy\", \"dummy\"), dummyPipeline)\n",
    "# pipelines.pipelineImageToImage = Mock()"
   ]
  },
  {
   "cell_type": "code",
   "execution_count": 2,
   "metadata": {},
   "outputs": [
    {
     "name": "stdout",
     "output_type": "stream",
     "text": [
      "{'image': <PIL.Image.Image image mode=RGB size=512x512 at 0x151D2B2E0>, 'negative_prompt': '', 'strength': 0.1, 'guidance_scale': 9, 'generator': <torch._C.Generator object at 0x151cf5690>}\n",
      "{'image': <PIL.Image.Image image mode=RGB size=512x512 at 0x151D2B310>, 'negative_prompt': '', 'strength': 0.1, 'guidance_scale': 9, 'generator': <torch._C.Generator object at 0x151cf55f0>}\n",
      "{'image': <PIL.Image.Image image mode=RGB size=512x512 at 0x151D2B340>, 'negative_prompt': '', 'strength': 0.1, 'guidance_scale': 9, 'generator': <torch._C.Generator object at 0x151cf5730>}\n",
      "{'image': <PIL.Image.Image image mode=RGB size=512x512 at 0x151D2B310>, 'negative_prompt': '', 'strength': 0.1, 'guidance_scale': 9, 'generator': <torch._C.Generator object at 0x151cf5830>}\n",
      "{'image': <PIL.Image.Image image mode=RGB size=512x512 at 0x151D2B280>, 'negative_prompt': '', 'strength': 0.1, 'guidance_scale': 9, 'generator': <torch._C.Generator object at 0x151cf57d0>}\n"
     ]
    }
   ],
   "source": [
    "from diffuserslib import Scene, DiffusionParams, TransformParams, SceneRenderer\n",
    "from PIL import Image\n",
    "\n",
    "\n",
    "initimage = Image.open(\"./data/rabbit.png\")\n",
    "\n",
    "scene = Scene(name=\"01_dog\", initimage=initimage, length=5, \n",
    "            diffusion=DiffusionParams(type=\"img2img\", prompt=\"a dog\"), \n",
    "            transform=TransformParams(type=\"Rotate\", timing=\"Linear\", xcentre=0, ycentre=0, angle=90, zoom=0.5))\n",
    "\n",
    "renderer = SceneRenderer(\"./output\", pipelines)\n",
    "renderer.renderFrames(scene)\n",
    "\n",
    "\n",
    "\n"
   ]
  },
  {
   "cell_type": "code",
   "execution_count": 3,
   "metadata": {},
   "outputs": [],
   "source": [
    "renderer.renderVideo()"
   ]
  }
 ],
 "metadata": {
  "kernelspec": {
   "display_name": "Python 3",
   "language": "python",
   "name": "python3"
  },
  "language_info": {
   "codemirror_mode": {
    "name": "ipython",
    "version": 3
   },
   "file_extension": ".py",
   "mimetype": "text/x-python",
   "name": "python",
   "nbconvert_exporter": "python",
   "pygments_lexer": "ipython3",
   "version": "3.9.13"
  },
  "orig_nbformat": 4,
  "vscode": {
   "interpreter": {
    "hash": "aee8b7b246df8f9039afb4144a1f6fd8d2ca17a180786b69acc140d282b71a49"
   }
  }
 },
 "nbformat": 4,
 "nbformat_minor": 2
}
