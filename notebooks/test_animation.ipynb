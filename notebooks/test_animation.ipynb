{
 "cells": [
  {
   "cell_type": "code",
   "execution_count": 1,
   "metadata": {},
   "outputs": [],
   "source": [
    "import path, os\n",
    "from IPython.display import display\n",
    "path.setPathLocalNotebook()\n",
    "from unittest.mock import Mock\n",
    "\n",
    "from diffuserslib import DiffusersPipelines, DiffusersPipeline, DiffusersModel\n",
    "\n",
    "pipelines = DiffusersPipelines(device = \"mps\", safety_checker=False)\n",
    "# pipelines.addPresets(getHuggingFacePresetsList())\n",
    "# pipelines.createImageToImagePipeline('runwayml/stable-diffusion-v1-5')\n",
    "\n",
    "\n",
    "def dummyPipeline(prompt, **kwargs):\n",
    "    print(kwargs)\n",
    "    ret = Mock()\n",
    "    ret.images = [kwargs['image']]\n",
    "    return ret\n",
    "\n",
    "pipelines.pipelineImageToImage = DiffusersPipeline(DiffusersModel(\"dummy\", \"dummy\"), dummyPipeline)\n",
    "# pipelines.pipelineImageToImage = Mock()"
   ]
  },
  {
   "cell_type": "code",
   "execution_count": 2,
   "metadata": {},
   "outputs": [
    {
     "name": "stdout",
     "output_type": "stream",
     "text": [
      "{'xcentre': 0, 'ycentre': 0, 'angle': 90, 'zoom': 0.5, 'pipelines': <diffuserslib.inference.DiffusersPipelines.DiffusersPipelines object at 0x11037ef70>}\n",
      "{'prompt': 'a dog', 'pipelines': <diffuserslib.inference.DiffusersPipelines.DiffusersPipelines object at 0x11037ef70>}\n",
      "{'image': <PIL.Image.Image image mode=RGB size=512x512 at 0x172B14A00>, 'negative_prompt': '', 'strength': 0.1, 'guidance_scale': 9, 'generator': <torch._C.Generator object at 0x172b0d550>}\n",
      "{'image': <PIL.Image.Image image mode=RGB size=512x512 at 0x172B14940>, 'negative_prompt': '', 'strength': 0.1, 'guidance_scale': 9, 'generator': <torch._C.Generator object at 0x172b0d710>}\n",
      "{'image': <PIL.Image.Image image mode=RGB size=512x512 at 0x172B14A30>, 'negative_prompt': '', 'strength': 0.1, 'guidance_scale': 9, 'generator': <torch._C.Generator object at 0x172b0d710>}\n",
      "{'image': <PIL.Image.Image image mode=RGB size=512x512 at 0x172B14A60>, 'negative_prompt': '', 'strength': 0.1, 'guidance_scale': 9, 'generator': <torch._C.Generator object at 0x172b0d5d0>}\n",
      "{'image': <PIL.Image.Image image mode=RGB size=512x512 at 0x172B149A0>, 'negative_prompt': '', 'strength': 0.1, 'guidance_scale': 9, 'generator': <torch._C.Generator object at 0x172b0d5b0>}\n"
     ]
    }
   ],
   "source": [
    "from diffuserslib import Scene, TransformParams, SceneRenderer\n",
    "from PIL import Image\n",
    "\n",
    "\n",
    "initimage = Image.open(\"./data/rabbit.png\")\n",
    "\n",
    "scene = Scene(name=\"01_dog\", initimage=initimage, length=5, transforms=[\n",
    "                TransformParams(type=\"Rotate\", timing=\"Linear\", xcentre=0, ycentre=0, angle=90, zoom=0.5), \n",
    "                TransformParams(type=\"ImageToImage\", prompt=\"a dog\")\n",
    "            ])\n",
    "\n",
    "renderer = SceneRenderer(\"./output\", pipelines)\n",
    "renderer.renderFrames(scene)\n",
    "\n",
    "\n",
    "\n"
   ]
  },
  {
   "cell_type": "code",
   "execution_count": 3,
   "metadata": {},
   "outputs": [],
   "source": [
    "renderer.renderVideo()"
   ]
  }
 ],
 "metadata": {
  "kernelspec": {
   "display_name": "base",
   "language": "python",
   "name": "python3"
  },
  "language_info": {
   "codemirror_mode": {
    "name": "ipython",
    "version": 3
   },
   "file_extension": ".py",
   "mimetype": "text/x-python",
   "name": "python",
   "nbconvert_exporter": "python",
   "pygments_lexer": "ipython3",
   "version": "3.9.12"
  },
  "orig_nbformat": 4,
  "vscode": {
   "interpreter": {
    "hash": "72fa5da807d66e755d9910dad0a1729879db0cdcf07f547d81c7ed591edcf3d8"
   }
  }
 },
 "nbformat": 4,
 "nbformat_minor": 2
}
