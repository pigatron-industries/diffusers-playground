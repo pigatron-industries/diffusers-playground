{
 "cells": [
  {
   "cell_type": "code",
   "execution_count": 1,
   "metadata": {},
   "outputs": [
    {
     "name": "stderr",
     "output_type": "stream",
     "text": [
      "/Users/roberte/miniconda3/lib/python3.9/site-packages/tqdm/auto.py:22: TqdmWarning: IProgress not found. Please update jupyter and ipywidgets. See https://ipywidgets.readthedocs.io/en/stable/user_install.html\n",
      "  from .autonotebook import tqdm as notebook_tqdm\n"
     ]
    },
    {
     "name": "stdout",
     "output_type": "stream",
     "text": [
      "[{'steps': 10, 'seed': 13948, 'scheduler': 'one', 'prompt': 'a cat'}, {'steps': 10, 'seed': 13948, 'scheduler': 'two', 'prompt': 'a cat'}, {'steps': 20, 'seed': 13948, 'scheduler': 'one', 'prompt': 'a cat'}, {'steps': 20, 'seed': 13948, 'scheduler': 'two', 'prompt': 'a cat'}, {'steps': 30, 'seed': 13948, 'scheduler': 'one', 'prompt': 'a cat'}, {'steps': 30, 'seed': 13948, 'scheduler': 'two', 'prompt': 'a cat'}, {'steps': 40, 'seed': 13948, 'scheduler': 'one', 'prompt': 'a cat'}, {'steps': 40, 'seed': 13948, 'scheduler': 'two', 'prompt': 'a cat'}, {'steps': 50, 'seed': 13948, 'scheduler': 'one', 'prompt': 'a cat'}, {'steps': 50, 'seed': 13948, 'scheduler': 'two', 'prompt': 'a cat'}, {'steps': 60, 'seed': 13948, 'scheduler': 'one', 'prompt': 'a cat'}, {'steps': 60, 'seed': 13948, 'scheduler': 'two', 'prompt': 'a cat'}, {'steps': 70, 'seed': 13948, 'scheduler': 'one', 'prompt': 'a cat'}, {'steps': 70, 'seed': 13948, 'scheduler': 'two', 'prompt': 'a cat'}]\n"
     ]
    }
   ],
   "source": [
    "import os\n",
    "import sys\n",
    "module_path = os.path.abspath(os.path.join('..'))\n",
    "if module_path not in sys.path:\n",
    "    sys.path.append(module_path)\n",
    "\n",
    "from diffuserslib import *\n",
    "\n",
    "args = {}\n",
    "args['prompt'] = 'a cat'\n",
    "args['steps'] = NumberRangeBatchArgument(10, 80, 10)\n",
    "args['seed'] = RandomNumberArgument(0, 1000000, 1)\n",
    "args['scheduler'] = StringListBatchArgument(['one', 'two'])\n",
    "\n",
    "argbatches = createBatchArguments(args)\n",
    "\n",
    "print(argbatches)\n",
    "\n",
    "\n"
   ]
  }
 ],
 "metadata": {
  "kernelspec": {
   "display_name": "Python 3.9.12 ('base')",
   "language": "python",
   "name": "python3"
  },
  "language_info": {
   "codemirror_mode": {
    "name": "ipython",
    "version": 3
   },
   "file_extension": ".py",
   "mimetype": "text/x-python",
   "name": "python",
   "nbconvert_exporter": "python",
   "pygments_lexer": "ipython3",
   "version": "3.9.12"
  },
  "orig_nbformat": 4,
  "vscode": {
   "interpreter": {
    "hash": "72fa5da807d66e755d9910dad0a1729879db0cdcf07f547d81c7ed591edcf3d8"
   }
  }
 },
 "nbformat": 4,
 "nbformat_minor": 2
}
