{
 "cells": [
  {
   "cell_type": "code",
   "execution_count": null,
   "metadata": {},
   "outputs": [],
   "source": [
    "import os\n",
    "import sys\n",
    "module_path = os.path.abspath(os.path.join('..'))\n",
    "if module_path not in sys.path:\n",
    "    sys.path.append(module_path)\n",
    "\n",
    "from diffuserslib import createBatchArguments, NumberRangeBatchArgument\n",
    "\n",
    "args = {}\n",
    "args['prompt'] = 'a cat'\n",
    "args['steps'] = NumberRangeBatchArgument(10, 80, 10)\n",
    "args['scale'] = NumberRangeBatchArgument(5, 11, 2)\n",
    "\n",
    "argbatches = createBatchArguments(args)\n",
    "\n",
    "print(argbatches)\n",
    "\n",
    "\n"
   ]
  }
 ],
 "metadata": {
  "kernelspec": {
   "display_name": "Python 3.9.12 ('base')",
   "language": "python",
   "name": "python3"
  },
  "language_info": {
   "codemirror_mode": {
    "name": "ipython",
    "version": 3
   },
   "file_extension": ".py",
   "mimetype": "text/x-python",
   "name": "python",
   "nbconvert_exporter": "python",
   "pygments_lexer": "ipython3",
   "version": "3.9.12"
  },
  "orig_nbformat": 4,
  "vscode": {
   "interpreter": {
    "hash": "72fa5da807d66e755d9910dad0a1729879db0cdcf07f547d81c7ed591edcf3d8"
   }
  }
 },
 "nbformat": 4,
 "nbformat_minor": 2
}
