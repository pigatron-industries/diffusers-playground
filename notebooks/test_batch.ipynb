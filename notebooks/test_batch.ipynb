{
 "cells": [
  {
   "cell_type": "code",
   "execution_count": 1,
   "metadata": {},
   "outputs": [],
   "source": [
    "import os\n",
    "import sys\n",
    "module_path = os.path.abspath(os.path.join('..'))\n",
    "if module_path not in sys.path:\n",
    "    sys.path.append(module_path)\n",
    "\n",
    "from diffuserslib import *\n",
    "\n",
    "# loginHuggingFace('token')\n",
    "\n",
    "# diffusers = DiffusersPipelines(device = \"mps\", safety_checker=False)\n",
    "# diffusers.createTextToImagePipeline()\n",
    "\n",
    "# First-time \"warmup\" pass because of issue with m1 cpu: https://github.com/huggingface/diffusers/issues/372\n",
    "# _, _ = diffusers.textToImage(prompt=\"\", negprompt=\"\", steps=1, scale=7, width=512, height=512)"
   ]
  },
  {
   "cell_type": "code",
   "execution_count": null,
   "metadata": {},
   "outputs": [],
   "source": [
    "def dummyPipeline(**args):\n",
    "    print(args)\n",
    "    return None, args[\"seed\"]\n",
    "\n",
    "dict = {}\n",
    "dict[\"colour\"] = [\"red\", \"blue\"]\n",
    "\n",
    "args = {}\n",
    "args['prompt'] = RandomPromptProcessor(dict, 'a _colour_ cat and a _colour_ dog')\n",
    "args['negprompt'] = 'a dog'\n",
    "args['width'] = 512\n",
    "args['height'] = 512\n",
    "args['steps'] = 10  #NumberRangeBatchArgument(1, 5, 1)\n",
    "args['scale'] = 9\n",
    "args['scheduler'] = 'EulerDiscreteScheduler'\n",
    "args['seed'] = RandomNumberArgument(0, 1000000)\n",
    "\n",
    "\n",
    "batch = BatchRunner(dummyPipeline, args, 16, './output')\n",
    "\n",
    "\n",
    "batch.run()\n",
    "\n",
    "\n"
   ]
  },
  {
   "cell_type": "code",
   "execution_count": null,
   "metadata": {},
   "outputs": [],
   "source": [
    "from IPython.display import display\n",
    "import ipywidgets as widgets\n",
    "import functools\n",
    "\n",
    "def test(btn):\n",
    "    print(\"test\")\n",
    "    print(btn)\n",
    "\n",
    "saveBtn = widgets.Button(description=\"Save\")\n",
    "saveBtn.on_click(test)\n",
    "display(saveBtn)"
   ]
  }
 ],
 "metadata": {
  "kernelspec": {
   "display_name": "Python 3.9.13 64-bit",
   "language": "python",
   "name": "python3"
  },
  "language_info": {
   "codemirror_mode": {
    "name": "ipython",
    "version": 3
   },
   "file_extension": ".py",
   "mimetype": "text/x-python",
   "name": "python",
   "nbconvert_exporter": "python",
   "pygments_lexer": "ipython3",
   "version": "3.9.13"
  },
  "orig_nbformat": 4,
  "vscode": {
   "interpreter": {
    "hash": "aee8b7b246df8f9039afb4144a1f6fd8d2ca17a180786b69acc140d282b71a49"
   }
  }
 },
 "nbformat": 4,
 "nbformat_minor": 2
}
