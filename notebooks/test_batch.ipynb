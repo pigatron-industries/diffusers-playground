{
 "cells": [
  {
   "cell_type": "code",
   "execution_count": 1,
   "metadata": {},
   "outputs": [
    {
     "name": "stderr",
     "output_type": "stream",
     "text": [
      "/usr/local/lib/python3.9/site-packages/tqdm/auto.py:22: TqdmWarning: IProgress not found. Please update jupyter and ipywidgets. See https://ipywidgets.readthedocs.io/en/stable/user_install.html\n",
      "  from .autonotebook import tqdm as notebook_tqdm\n"
     ]
    },
    {
     "name": "stdout",
     "output_type": "stream",
     "text": [
      "[{'steps': 10, 'scheduler': 'one', 'prompt': 'a cat', 'seed': 358743}, {'steps': 10, 'scheduler': 'two', 'prompt': 'a cat', 'seed': 486520}, {'steps': 20, 'scheduler': 'one', 'prompt': 'a cat', 'seed': 611114}, {'steps': 20, 'scheduler': 'two', 'prompt': 'a cat', 'seed': 100677}, {'steps': 30, 'scheduler': 'one', 'prompt': 'a cat', 'seed': 876487}, {'steps': 30, 'scheduler': 'two', 'prompt': 'a cat', 'seed': 773796}, {'steps': 40, 'scheduler': 'one', 'prompt': 'a cat', 'seed': 79006}, {'steps': 40, 'scheduler': 'two', 'prompt': 'a cat', 'seed': 145655}, {'steps': 50, 'scheduler': 'one', 'prompt': 'a cat', 'seed': 84277}, {'steps': 50, 'scheduler': 'two', 'prompt': 'a cat', 'seed': 760522}, {'steps': 60, 'scheduler': 'one', 'prompt': 'a cat', 'seed': 622029}, {'steps': 60, 'scheduler': 'two', 'prompt': 'a cat', 'seed': 966372}, {'steps': 70, 'scheduler': 'one', 'prompt': 'a cat', 'seed': 843925}, {'steps': 70, 'scheduler': 'two', 'prompt': 'a cat', 'seed': 394800}]\n"
     ]
    }
   ],
   "source": [
    "import os\n",
    "import sys\n",
    "module_path = os.path.abspath(os.path.join('..'))\n",
    "if module_path not in sys.path:\n",
    "    sys.path.append(module_path)\n",
    "\n",
    "from diffuserslib import *\n",
    "\n",
    "args = {}\n",
    "args['prompt'] = 'a cat'\n",
    "args['steps'] = NumberRangeBatchArgument(10, 80, 10)\n",
    "args['seed'] = RandomNumberArgument(0, 1000000)\n",
    "args['scheduler'] = StringListBatchArgument(['one', 'two'])\n",
    "\n",
    "argbatches = createBatchArguments(args)\n",
    "\n",
    "print(argbatches)\n",
    "\n",
    "\n"
   ]
  }
 ],
 "metadata": {
  "kernelspec": {
   "display_name": "Python 3.9.12 ('base')",
   "language": "python",
   "name": "python3"
  },
  "language_info": {
   "codemirror_mode": {
    "name": "ipython",
    "version": 3
   },
   "file_extension": ".py",
   "mimetype": "text/x-python",
   "name": "python",
   "nbconvert_exporter": "python",
   "pygments_lexer": "ipython3",
   "version": "3.9.12"
  },
  "orig_nbformat": 4,
  "vscode": {
   "interpreter": {
    "hash": "72fa5da807d66e755d9910dad0a1729879db0cdcf07f547d81c7ed591edcf3d8"
   }
  }
 },
 "nbformat": 4,
 "nbformat_minor": 2
}
