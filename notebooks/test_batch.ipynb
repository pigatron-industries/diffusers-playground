{
 "cells": [
  {
   "cell_type": "code",
   "execution_count": 2,
   "metadata": {},
   "outputs": [],
   "source": [
    "import os\n",
    "import sys\n",
    "module_path = os.path.abspath(os.path.join('..'))\n",
    "if module_path not in sys.path:\n",
    "    sys.path.append(module_path)\n",
    "\n",
    "from diffuserslib import *\n",
    "\n",
    "# loginHuggingFace('token')\n",
    "\n",
    "# diffusers = DiffusersPipelines(device = \"mps\", safety_checker=False)\n",
    "# diffusers.createTextToImagePipeline()\n",
    "\n",
    "# First-time \"warmup\" pass because of issue with m1 cpu: https://github.com/huggingface/diffusers/issues/372\n",
    "# _, _ = diffusers.textToImage(prompt=\"\", negprompt=\"\", steps=1, scale=7, width=512, height=512)"
   ]
  },
  {
   "cell_type": "code",
   "execution_count": 12,
   "metadata": {},
   "outputs": [
    {
     "name": "stdout",
     "output_type": "stream",
     "text": [
      "Created batch of size 16\n",
      "Running for arguments: {'prompt': 'a blue cat', 'negprompt': 'a dog', 'width': 512, 'height': 512, 'steps': 10, 'scale': 9, 'scheduler': 'EulerDiscreteScheduler', 'seed': 342497}\n",
      "{'prompt': 'a blue cat', 'negprompt': 'a dog', 'width': 512, 'height': 512, 'steps': 10, 'scale': 9, 'scheduler': 'EulerDiscreteScheduler', 'seed': 342497}\n"
     ]
    },
    {
     "data": {
      "text/plain": [
       "None"
      ]
     },
     "metadata": {},
     "output_type": "display_data"
    },
    {
     "data": {
      "application/vnd.jupyter.widget-view+json": {
       "model_id": "8ff93032a0a34ab0812218fd7d7fdf23",
       "version_major": 2,
       "version_minor": 0
      },
      "text/plain": [
       "Button(description='Save', style=ButtonStyle())"
      ]
     },
     "metadata": {},
     "output_type": "display_data"
    },
    {
     "data": {
      "application/vnd.jupyter.widget-view+json": {
       "model_id": "45f1e9b968f449b4ba4b5622378834a1",
       "version_major": 2,
       "version_minor": 0
      },
      "text/plain": [
       "Output()"
      ]
     },
     "metadata": {},
     "output_type": "display_data"
    },
    {
     "name": "stdout",
     "output_type": "stream",
     "text": [
      "Running for arguments: {'prompt': 'a blue cat', 'negprompt': 'a dog', 'width': 512, 'height': 512, 'steps': 10, 'scale': 9, 'scheduler': 'EulerDiscreteScheduler', 'seed': 264468}\n",
      "{'prompt': 'a blue cat', 'negprompt': 'a dog', 'width': 512, 'height': 512, 'steps': 10, 'scale': 9, 'scheduler': 'EulerDiscreteScheduler', 'seed': 264468}\n"
     ]
    },
    {
     "data": {
      "text/plain": [
       "None"
      ]
     },
     "metadata": {},
     "output_type": "display_data"
    },
    {
     "data": {
      "application/vnd.jupyter.widget-view+json": {
       "model_id": "985516333ad74c05b294998f8d0b2ff2",
       "version_major": 2,
       "version_minor": 0
      },
      "text/plain": [
       "Button(description='Save', style=ButtonStyle())"
      ]
     },
     "metadata": {},
     "output_type": "display_data"
    },
    {
     "data": {
      "application/vnd.jupyter.widget-view+json": {
       "model_id": "29fe62b282f044269cfb7acc11dbff91",
       "version_major": 2,
       "version_minor": 0
      },
      "text/plain": [
       "Output()"
      ]
     },
     "metadata": {},
     "output_type": "display_data"
    },
    {
     "name": "stdout",
     "output_type": "stream",
     "text": [
      "Running for arguments: {'prompt': 'a blue cat', 'negprompt': 'a dog', 'width': 512, 'height': 512, 'steps': 10, 'scale': 9, 'scheduler': 'EulerDiscreteScheduler', 'seed': 219534}\n",
      "{'prompt': 'a blue cat', 'negprompt': 'a dog', 'width': 512, 'height': 512, 'steps': 10, 'scale': 9, 'scheduler': 'EulerDiscreteScheduler', 'seed': 219534}\n"
     ]
    },
    {
     "data": {
      "text/plain": [
       "None"
      ]
     },
     "metadata": {},
     "output_type": "display_data"
    },
    {
     "data": {
      "application/vnd.jupyter.widget-view+json": {
       "model_id": "62084be1a67243fd986f2236f385182d",
       "version_major": 2,
       "version_minor": 0
      },
      "text/plain": [
       "Button(description='Save', style=ButtonStyle())"
      ]
     },
     "metadata": {},
     "output_type": "display_data"
    },
    {
     "data": {
      "application/vnd.jupyter.widget-view+json": {
       "model_id": "e9cf19bb18134600ab978029d4476c8f",
       "version_major": 2,
       "version_minor": 0
      },
      "text/plain": [
       "Output()"
      ]
     },
     "metadata": {},
     "output_type": "display_data"
    },
    {
     "name": "stdout",
     "output_type": "stream",
     "text": [
      "Running for arguments: {'prompt': 'a red cat', 'negprompt': 'a dog', 'width': 512, 'height': 512, 'steps': 10, 'scale': 9, 'scheduler': 'EulerDiscreteScheduler', 'seed': 186483}\n",
      "{'prompt': 'a red cat', 'negprompt': 'a dog', 'width': 512, 'height': 512, 'steps': 10, 'scale': 9, 'scheduler': 'EulerDiscreteScheduler', 'seed': 186483}\n"
     ]
    },
    {
     "data": {
      "text/plain": [
       "None"
      ]
     },
     "metadata": {},
     "output_type": "display_data"
    },
    {
     "data": {
      "application/vnd.jupyter.widget-view+json": {
       "model_id": "12a5d4f7a1144b0a89d73321a698bfc9",
       "version_major": 2,
       "version_minor": 0
      },
      "text/plain": [
       "Button(description='Save', style=ButtonStyle())"
      ]
     },
     "metadata": {},
     "output_type": "display_data"
    },
    {
     "data": {
      "application/vnd.jupyter.widget-view+json": {
       "model_id": "283f70735053414bb1fad85a871a57d2",
       "version_major": 2,
       "version_minor": 0
      },
      "text/plain": [
       "Output()"
      ]
     },
     "metadata": {},
     "output_type": "display_data"
    },
    {
     "name": "stdout",
     "output_type": "stream",
     "text": [
      "Running for arguments: {'prompt': 'a red cat', 'negprompt': 'a dog', 'width': 512, 'height': 512, 'steps': 10, 'scale': 9, 'scheduler': 'EulerDiscreteScheduler', 'seed': 372157}\n",
      "{'prompt': 'a red cat', 'negprompt': 'a dog', 'width': 512, 'height': 512, 'steps': 10, 'scale': 9, 'scheduler': 'EulerDiscreteScheduler', 'seed': 372157}\n"
     ]
    },
    {
     "data": {
      "text/plain": [
       "None"
      ]
     },
     "metadata": {},
     "output_type": "display_data"
    },
    {
     "data": {
      "application/vnd.jupyter.widget-view+json": {
       "model_id": "0a2ee21222d343968ed1db94b847d565",
       "version_major": 2,
       "version_minor": 0
      },
      "text/plain": [
       "Button(description='Save', style=ButtonStyle())"
      ]
     },
     "metadata": {},
     "output_type": "display_data"
    },
    {
     "data": {
      "application/vnd.jupyter.widget-view+json": {
       "model_id": "42f90654b81142b48e140eb0c5b37bdc",
       "version_major": 2,
       "version_minor": 0
      },
      "text/plain": [
       "Output()"
      ]
     },
     "metadata": {},
     "output_type": "display_data"
    },
    {
     "name": "stdout",
     "output_type": "stream",
     "text": [
      "Running for arguments: {'prompt': 'a blue cat', 'negprompt': 'a dog', 'width': 512, 'height': 512, 'steps': 10, 'scale': 9, 'scheduler': 'EulerDiscreteScheduler', 'seed': 242363}\n",
      "{'prompt': 'a blue cat', 'negprompt': 'a dog', 'width': 512, 'height': 512, 'steps': 10, 'scale': 9, 'scheduler': 'EulerDiscreteScheduler', 'seed': 242363}\n"
     ]
    },
    {
     "data": {
      "text/plain": [
       "None"
      ]
     },
     "metadata": {},
     "output_type": "display_data"
    },
    {
     "data": {
      "application/vnd.jupyter.widget-view+json": {
       "model_id": "422fb18442b845fab9e1a421cd64229b",
       "version_major": 2,
       "version_minor": 0
      },
      "text/plain": [
       "Button(description='Save', style=ButtonStyle())"
      ]
     },
     "metadata": {},
     "output_type": "display_data"
    },
    {
     "data": {
      "application/vnd.jupyter.widget-view+json": {
       "model_id": "e3e9f89d4426432ca4a370c2ec36105c",
       "version_major": 2,
       "version_minor": 0
      },
      "text/plain": [
       "Output()"
      ]
     },
     "metadata": {},
     "output_type": "display_data"
    },
    {
     "name": "stdout",
     "output_type": "stream",
     "text": [
      "Running for arguments: {'prompt': 'a red cat', 'negprompt': 'a dog', 'width': 512, 'height': 512, 'steps': 10, 'scale': 9, 'scheduler': 'EulerDiscreteScheduler', 'seed': 575740}\n",
      "{'prompt': 'a red cat', 'negprompt': 'a dog', 'width': 512, 'height': 512, 'steps': 10, 'scale': 9, 'scheduler': 'EulerDiscreteScheduler', 'seed': 575740}\n"
     ]
    },
    {
     "data": {
      "text/plain": [
       "None"
      ]
     },
     "metadata": {},
     "output_type": "display_data"
    },
    {
     "data": {
      "application/vnd.jupyter.widget-view+json": {
       "model_id": "15cf097af2e148f88f87a439534863a0",
       "version_major": 2,
       "version_minor": 0
      },
      "text/plain": [
       "Button(description='Save', style=ButtonStyle())"
      ]
     },
     "metadata": {},
     "output_type": "display_data"
    },
    {
     "data": {
      "application/vnd.jupyter.widget-view+json": {
       "model_id": "0f0892be088e40da8c5661b66ebdab2a",
       "version_major": 2,
       "version_minor": 0
      },
      "text/plain": [
       "Output()"
      ]
     },
     "metadata": {},
     "output_type": "display_data"
    },
    {
     "name": "stdout",
     "output_type": "stream",
     "text": [
      "Running for arguments: {'prompt': 'a blue cat', 'negprompt': 'a dog', 'width': 512, 'height': 512, 'steps': 10, 'scale': 9, 'scheduler': 'EulerDiscreteScheduler', 'seed': 63673}\n",
      "{'prompt': 'a blue cat', 'negprompt': 'a dog', 'width': 512, 'height': 512, 'steps': 10, 'scale': 9, 'scheduler': 'EulerDiscreteScheduler', 'seed': 63673}\n"
     ]
    },
    {
     "data": {
      "text/plain": [
       "None"
      ]
     },
     "metadata": {},
     "output_type": "display_data"
    },
    {
     "data": {
      "application/vnd.jupyter.widget-view+json": {
       "model_id": "30c39ee9b42a48c9a67e7ae004c02d0e",
       "version_major": 2,
       "version_minor": 0
      },
      "text/plain": [
       "Button(description='Save', style=ButtonStyle())"
      ]
     },
     "metadata": {},
     "output_type": "display_data"
    },
    {
     "data": {
      "application/vnd.jupyter.widget-view+json": {
       "model_id": "438a06e8ce974b0c850af5505e550695",
       "version_major": 2,
       "version_minor": 0
      },
      "text/plain": [
       "Output()"
      ]
     },
     "metadata": {},
     "output_type": "display_data"
    },
    {
     "name": "stdout",
     "output_type": "stream",
     "text": [
      "Running for arguments: {'prompt': 'a blue cat', 'negprompt': 'a dog', 'width': 512, 'height': 512, 'steps': 10, 'scale': 9, 'scheduler': 'EulerDiscreteScheduler', 'seed': 163268}\n",
      "{'prompt': 'a blue cat', 'negprompt': 'a dog', 'width': 512, 'height': 512, 'steps': 10, 'scale': 9, 'scheduler': 'EulerDiscreteScheduler', 'seed': 163268}\n"
     ]
    },
    {
     "data": {
      "text/plain": [
       "None"
      ]
     },
     "metadata": {},
     "output_type": "display_data"
    },
    {
     "data": {
      "application/vnd.jupyter.widget-view+json": {
       "model_id": "48dc9de613e942a28ae8d48356fed434",
       "version_major": 2,
       "version_minor": 0
      },
      "text/plain": [
       "Button(description='Save', style=ButtonStyle())"
      ]
     },
     "metadata": {},
     "output_type": "display_data"
    },
    {
     "data": {
      "application/vnd.jupyter.widget-view+json": {
       "model_id": "cbdd3a879d6842368a7b72537e46f356",
       "version_major": 2,
       "version_minor": 0
      },
      "text/plain": [
       "Output()"
      ]
     },
     "metadata": {},
     "output_type": "display_data"
    },
    {
     "name": "stdout",
     "output_type": "stream",
     "text": [
      "Running for arguments: {'prompt': 'a blue cat', 'negprompt': 'a dog', 'width': 512, 'height': 512, 'steps': 10, 'scale': 9, 'scheduler': 'EulerDiscreteScheduler', 'seed': 842149}\n",
      "{'prompt': 'a blue cat', 'negprompt': 'a dog', 'width': 512, 'height': 512, 'steps': 10, 'scale': 9, 'scheduler': 'EulerDiscreteScheduler', 'seed': 842149}\n"
     ]
    },
    {
     "data": {
      "text/plain": [
       "None"
      ]
     },
     "metadata": {},
     "output_type": "display_data"
    },
    {
     "data": {
      "application/vnd.jupyter.widget-view+json": {
       "model_id": "4b105a92bf7743bd9c2575e5ddf4ea0d",
       "version_major": 2,
       "version_minor": 0
      },
      "text/plain": [
       "Button(description='Save', style=ButtonStyle())"
      ]
     },
     "metadata": {},
     "output_type": "display_data"
    },
    {
     "data": {
      "application/vnd.jupyter.widget-view+json": {
       "model_id": "c86056409a8c4d6f96a7ce0267b0c798",
       "version_major": 2,
       "version_minor": 0
      },
      "text/plain": [
       "Output()"
      ]
     },
     "metadata": {},
     "output_type": "display_data"
    },
    {
     "name": "stdout",
     "output_type": "stream",
     "text": [
      "Running for arguments: {'prompt': 'a red cat', 'negprompt': 'a dog', 'width': 512, 'height': 512, 'steps': 10, 'scale': 9, 'scheduler': 'EulerDiscreteScheduler', 'seed': 337466}\n",
      "{'prompt': 'a red cat', 'negprompt': 'a dog', 'width': 512, 'height': 512, 'steps': 10, 'scale': 9, 'scheduler': 'EulerDiscreteScheduler', 'seed': 337466}\n"
     ]
    },
    {
     "data": {
      "text/plain": [
       "None"
      ]
     },
     "metadata": {},
     "output_type": "display_data"
    },
    {
     "data": {
      "application/vnd.jupyter.widget-view+json": {
       "model_id": "2b68045b3ec042de9f546b6d8f1c1d4c",
       "version_major": 2,
       "version_minor": 0
      },
      "text/plain": [
       "Button(description='Save', style=ButtonStyle())"
      ]
     },
     "metadata": {},
     "output_type": "display_data"
    },
    {
     "data": {
      "application/vnd.jupyter.widget-view+json": {
       "model_id": "7486d16f3d51484697c86e705469df9a",
       "version_major": 2,
       "version_minor": 0
      },
      "text/plain": [
       "Output()"
      ]
     },
     "metadata": {},
     "output_type": "display_data"
    },
    {
     "name": "stdout",
     "output_type": "stream",
     "text": [
      "Running for arguments: {'prompt': 'a red cat', 'negprompt': 'a dog', 'width': 512, 'height': 512, 'steps': 10, 'scale': 9, 'scheduler': 'EulerDiscreteScheduler', 'seed': 57847}\n",
      "{'prompt': 'a red cat', 'negprompt': 'a dog', 'width': 512, 'height': 512, 'steps': 10, 'scale': 9, 'scheduler': 'EulerDiscreteScheduler', 'seed': 57847}\n"
     ]
    },
    {
     "data": {
      "text/plain": [
       "None"
      ]
     },
     "metadata": {},
     "output_type": "display_data"
    },
    {
     "data": {
      "application/vnd.jupyter.widget-view+json": {
       "model_id": "fa06d29495254287bf99d370df94e39a",
       "version_major": 2,
       "version_minor": 0
      },
      "text/plain": [
       "Button(description='Save', style=ButtonStyle())"
      ]
     },
     "metadata": {},
     "output_type": "display_data"
    },
    {
     "data": {
      "application/vnd.jupyter.widget-view+json": {
       "model_id": "6b6781c3a5bb46faa1b5d31db15134ae",
       "version_major": 2,
       "version_minor": 0
      },
      "text/plain": [
       "Output()"
      ]
     },
     "metadata": {},
     "output_type": "display_data"
    },
    {
     "name": "stdout",
     "output_type": "stream",
     "text": [
      "Running for arguments: {'prompt': 'a blue cat', 'negprompt': 'a dog', 'width': 512, 'height': 512, 'steps': 10, 'scale': 9, 'scheduler': 'EulerDiscreteScheduler', 'seed': 787736}\n",
      "{'prompt': 'a blue cat', 'negprompt': 'a dog', 'width': 512, 'height': 512, 'steps': 10, 'scale': 9, 'scheduler': 'EulerDiscreteScheduler', 'seed': 787736}\n"
     ]
    },
    {
     "data": {
      "text/plain": [
       "None"
      ]
     },
     "metadata": {},
     "output_type": "display_data"
    },
    {
     "data": {
      "application/vnd.jupyter.widget-view+json": {
       "model_id": "0fb65c363e8a4510af31614e04624021",
       "version_major": 2,
       "version_minor": 0
      },
      "text/plain": [
       "Button(description='Save', style=ButtonStyle())"
      ]
     },
     "metadata": {},
     "output_type": "display_data"
    },
    {
     "data": {
      "application/vnd.jupyter.widget-view+json": {
       "model_id": "863cde348b024877810112a965a257a0",
       "version_major": 2,
       "version_minor": 0
      },
      "text/plain": [
       "Output()"
      ]
     },
     "metadata": {},
     "output_type": "display_data"
    },
    {
     "name": "stdout",
     "output_type": "stream",
     "text": [
      "Running for arguments: {'prompt': 'a red cat', 'negprompt': 'a dog', 'width': 512, 'height': 512, 'steps': 10, 'scale': 9, 'scheduler': 'EulerDiscreteScheduler', 'seed': 344437}\n",
      "{'prompt': 'a red cat', 'negprompt': 'a dog', 'width': 512, 'height': 512, 'steps': 10, 'scale': 9, 'scheduler': 'EulerDiscreteScheduler', 'seed': 344437}\n"
     ]
    },
    {
     "data": {
      "text/plain": [
       "None"
      ]
     },
     "metadata": {},
     "output_type": "display_data"
    },
    {
     "data": {
      "application/vnd.jupyter.widget-view+json": {
       "model_id": "cc7846fa16fb4befa359cea5aa6145af",
       "version_major": 2,
       "version_minor": 0
      },
      "text/plain": [
       "Button(description='Save', style=ButtonStyle())"
      ]
     },
     "metadata": {},
     "output_type": "display_data"
    },
    {
     "data": {
      "application/vnd.jupyter.widget-view+json": {
       "model_id": "e3a1ddd6c9f74ff391be8daf87a16fbc",
       "version_major": 2,
       "version_minor": 0
      },
      "text/plain": [
       "Output()"
      ]
     },
     "metadata": {},
     "output_type": "display_data"
    },
    {
     "name": "stdout",
     "output_type": "stream",
     "text": [
      "Running for arguments: {'prompt': 'a blue cat', 'negprompt': 'a dog', 'width': 512, 'height': 512, 'steps': 10, 'scale': 9, 'scheduler': 'EulerDiscreteScheduler', 'seed': 221784}\n",
      "{'prompt': 'a blue cat', 'negprompt': 'a dog', 'width': 512, 'height': 512, 'steps': 10, 'scale': 9, 'scheduler': 'EulerDiscreteScheduler', 'seed': 221784}\n"
     ]
    },
    {
     "data": {
      "text/plain": [
       "None"
      ]
     },
     "metadata": {},
     "output_type": "display_data"
    },
    {
     "data": {
      "application/vnd.jupyter.widget-view+json": {
       "model_id": "be8eb94e1c5349588bf4b68d2597a390",
       "version_major": 2,
       "version_minor": 0
      },
      "text/plain": [
       "Button(description='Save', style=ButtonStyle())"
      ]
     },
     "metadata": {},
     "output_type": "display_data"
    },
    {
     "data": {
      "application/vnd.jupyter.widget-view+json": {
       "model_id": "d057338d8a9a42f4a829de6b6e4608e5",
       "version_major": 2,
       "version_minor": 0
      },
      "text/plain": [
       "Output()"
      ]
     },
     "metadata": {},
     "output_type": "display_data"
    },
    {
     "name": "stdout",
     "output_type": "stream",
     "text": [
      "Running for arguments: {'prompt': 'a blue cat', 'negprompt': 'a dog', 'width': 512, 'height': 512, 'steps': 10, 'scale': 9, 'scheduler': 'EulerDiscreteScheduler', 'seed': 363812}\n",
      "{'prompt': 'a blue cat', 'negprompt': 'a dog', 'width': 512, 'height': 512, 'steps': 10, 'scale': 9, 'scheduler': 'EulerDiscreteScheduler', 'seed': 363812}\n"
     ]
    },
    {
     "data": {
      "text/plain": [
       "None"
      ]
     },
     "metadata": {},
     "output_type": "display_data"
    },
    {
     "data": {
      "application/vnd.jupyter.widget-view+json": {
       "model_id": "4fe909dd9f994cd38b18b66c91ea052c",
       "version_major": 2,
       "version_minor": 0
      },
      "text/plain": [
       "Button(description='Save', style=ButtonStyle())"
      ]
     },
     "metadata": {},
     "output_type": "display_data"
    },
    {
     "data": {
      "application/vnd.jupyter.widget-view+json": {
       "model_id": "112b40ee47284e97be15ebe04b9e5f34",
       "version_major": 2,
       "version_minor": 0
      },
      "text/plain": [
       "Output()"
      ]
     },
     "metadata": {},
     "output_type": "display_data"
    }
   ],
   "source": [
    "def dummyPipeline(**args):\n",
    "    print(args)\n",
    "    return None, args[\"seed\"]\n",
    "\n",
    "dict = {}\n",
    "dict[\"colour\"] = [\"red\", \"blue\"]\n",
    "\n",
    "args = {}\n",
    "args['prompt'] = RandomPromptProcessor(dict, 'a _colour_ cat')\n",
    "args['negprompt'] = 'a dog'\n",
    "args['width'] = 512\n",
    "args['height'] = 512\n",
    "args['steps'] = 10  #NumberRangeBatchArgument(1, 5, 1)\n",
    "args['scale'] = 9\n",
    "args['scheduler'] = 'EulerDiscreteScheduler'\n",
    "args['seed'] = RandomNumberArgument(0, 1000000)\n",
    "\n",
    "\n",
    "batch = DiffusersBatch(dummyPipeline, args, 16, './output')\n",
    "\n",
    "\n",
    "batch.run()\n",
    "\n",
    "\n"
   ]
  },
  {
   "cell_type": "code",
   "execution_count": 7,
   "metadata": {},
   "outputs": [
    {
     "data": {
      "application/vnd.jupyter.widget-view+json": {
       "model_id": "855272464bc847978fa079393cb79dd2",
       "version_major": 2,
       "version_minor": 0
      },
      "text/plain": [
       "Button(description='Save', style=ButtonStyle())"
      ]
     },
     "metadata": {},
     "output_type": "display_data"
    },
    {
     "name": "stdout",
     "output_type": "stream",
     "text": [
      "test\n",
      "Button(description='Save', style=ButtonStyle())\n"
     ]
    }
   ],
   "source": [
    "from IPython.display import display\n",
    "import ipywidgets as widgets\n",
    "import functools\n",
    "\n",
    "def test(btn):\n",
    "    print(\"test\")\n",
    "    print(btn)\n",
    "\n",
    "saveBtn = widgets.Button(description=\"Save\")\n",
    "saveBtn.on_click(test)\n",
    "display(saveBtn)"
   ]
  }
 ],
 "metadata": {
  "kernelspec": {
   "display_name": "Python 3.9.13 64-bit",
   "language": "python",
   "name": "python3"
  },
  "language_info": {
   "codemirror_mode": {
    "name": "ipython",
    "version": 3
   },
   "file_extension": ".py",
   "mimetype": "text/x-python",
   "name": "python",
   "nbconvert_exporter": "python",
   "pygments_lexer": "ipython3",
   "version": "3.9.13"
  },
  "orig_nbformat": 4,
  "vscode": {
   "interpreter": {
    "hash": "aee8b7b246df8f9039afb4144a1f6fd8d2ca17a180786b69acc140d282b71a49"
   }
  }
 },
 "nbformat": 4,
 "nbformat_minor": 2
}
