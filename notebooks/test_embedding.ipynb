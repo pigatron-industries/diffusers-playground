{
 "cells": [
  {
   "cell_type": "code",
   "execution_count": 2,
   "metadata": {},
   "outputs": [
    {
     "name": "stdout",
     "output_type": "stream",
     "text": [
      "Token will not been saved to git credential helper. Pass `add_to_git_credential=True` if you want to set the git credential as well.\n",
      "Token is valid.\n",
      "Your token has been saved to /Users/rob/.huggingface/token\n",
      "Login successful\n"
     ]
    }
   ],
   "source": [
    "import os\n",
    "import sys\n",
    "module_path = os.path.abspath(os.path.join('..'))\n",
    "if module_path not in sys.path:\n",
    "    sys.path.append(module_path)\n",
    "\n",
    "from diffuserslib import loginHuggingFace, DiffusersPipelines, getHuggingFacePresetsList\n",
    "\n",
    "loginHuggingFace('token')\n",
    "\n",
    "pipelines = DiffusersPipelines(device = \"mps\", safety_checker=False)\n",
    "pipelines.addPresets(getHuggingFacePresetsList())\n",
    "# pipelines.createTextToImagePipeline(\"stabilityai/stable-diffusion-2-1\")"
   ]
  },
  {
   "cell_type": "code",
   "execution_count": 3,
   "metadata": {},
   "outputs": [
    {
     "name": "stdout",
     "output_type": "stream",
     "text": [
      "loading text embeddings from path /Users/rob/GoogleDrive/stable-diffusion/embeds/sd_2_1_768\n",
      "loading embedding from file .DS_Store\n",
      "loading embedding from file <kipaki>-100.pt\n",
      "loaded embedding token <kipaki>\n",
      "torch.Size([1024])\n",
      "tensor([ 0.0113,  0.0119, -0.0026,  ...,  0.0838,  0.0359, -0.0281],\n",
      "       grad_fn=<SelectBackward0>)\n"
     ]
    }
   ],
   "source": [
    "pipelines.loadTextEmbeddings(\"/Users/rob/GoogleDrive/stable-diffusion/embeds\", model=\"stabilityai/stable-diffusion-2-1\")\n"
   ]
  }
 ],
 "metadata": {
  "kernelspec": {
   "display_name": "Python 3.9.13 64-bit",
   "language": "python",
   "name": "python3"
  },
  "language_info": {
   "codemirror_mode": {
    "name": "ipython",
    "version": 3
   },
   "file_extension": ".py",
   "mimetype": "text/x-python",
   "name": "python",
   "nbconvert_exporter": "python",
   "pygments_lexer": "ipython3",
   "version": "3.9.13"
  },
  "orig_nbformat": 4,
  "vscode": {
   "interpreter": {
    "hash": "aee8b7b246df8f9039afb4144a1f6fd8d2ca17a180786b69acc140d282b71a49"
   }
  }
 },
 "nbformat": 4,
 "nbformat_minor": 2
}
