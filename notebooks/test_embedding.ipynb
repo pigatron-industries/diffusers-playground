{
 "cells": [
  {
   "cell_type": "code",
   "execution_count": 1,
   "metadata": {},
   "outputs": [],
   "source": [
    "import os\n",
    "import sys\n",
    "module_path = os.path.abspath(os.path.join('..'))\n",
    "if module_path not in sys.path:\n",
    "    sys.path.append(module_path)\n",
    "\n",
    "from diffuserslib import loginHuggingFace, DiffusersPipelines, getHuggingFacePresetsList\n",
    "\n",
    "# loginHuggingFace('token')\n",
    "\n",
    "pipelines = DiffusersPipelines(device = \"mps\", safety_checker=False)\n",
    "pipelines.addPresets(getHuggingFacePresetsList())\n",
    "# pipelines.createTextToImagePipeline(\"stabilityai/stable-diffusion-2-1\")"
   ]
  },
  {
   "cell_type": "code",
   "execution_count": null,
   "metadata": {},
   "outputs": [],
   "source": [
    "# pipelines.loadTextEmbeddings(\"/Users/rob/GoogleDrive/stable-diffusion/embeds\")\n",
    "pipelines.loadTextEmbedding(\"/Users/rob/GoogleDrive/stable-diffusion/embeds/sd_1_5/redgiant/learned_embeds-steps-500.bin\", \"sd_1_5\")\n"
   ]
  },
  {
   "cell_type": "code",
   "execution_count": 5,
   "metadata": {},
   "outputs": [
    {
     "name": "stdout",
     "output_type": "stream",
     "text": [
      " <test>0 <test>2 hello\n"
     ]
    }
   ],
   "source": [
    "import path\n",
    "path.setPathLocalNotebook()\n",
    "from diffuserslib import TextEmbeddings, TextEmbedding\n",
    "\n",
    "embeddings = TextEmbeddings('base')\n",
    "embeddings.embeddings['<test>'] = TextEmbedding([[1], [2], [3]], '<test>')\n",
    "\n",
    "prompt = embeddings.process_prompt('<test[0][2]> hello')\n",
    "print(prompt)"
   ]
  }
 ],
 "metadata": {
  "kernelspec": {
   "display_name": "Python 3",
   "language": "python",
   "name": "python3"
  },
  "language_info": {
   "codemirror_mode": {
    "name": "ipython",
    "version": 3
   },
   "file_extension": ".py",
   "mimetype": "text/x-python",
   "name": "python",
   "nbconvert_exporter": "python",
   "pygments_lexer": "ipython3",
   "version": "3.9.13"
  },
  "orig_nbformat": 4,
  "vscode": {
   "interpreter": {
    "hash": "aee8b7b246df8f9039afb4144a1f6fd8d2ca17a180786b69acc140d282b71a49"
   }
  }
 },
 "nbformat": 4,
 "nbformat_minor": 2
}
