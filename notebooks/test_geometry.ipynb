{
 "cells": [
  {
   "cell_type": "code",
   "execution_count": 2,
   "metadata": {},
   "outputs": [
    {
     "name": "stdout",
     "output_type": "stream",
     "text": [
      "\u001b[33mDEPRECATION: Configuring installation scheme with distutils config files is deprecated and will no longer work in the near future. If you are using a Homebrew or Linuxbrew Python, please see discussion at https://github.com/Homebrew/homebrew-core/issues/76621\u001b[0m\u001b[33m\n",
      "\u001b[0mCollecting controlnet-aux\n",
      "  Downloading controlnet_aux-0.0.1-py3-none-any.whl (26 kB)\n",
      "Requirement already satisfied: Pillow in /usr/local/lib/python3.9/site-packages (from controlnet-aux) (9.4.0)\n",
      "Requirement already satisfied: filelock in /usr/local/lib/python3.9/site-packages (from controlnet-aux) (3.8.0)\n",
      "Collecting einops\n",
      "  Downloading einops-0.6.0-py3-none-any.whl (41 kB)\n",
      "\u001b[2K     \u001b[90m━━━━━━━━━━━━━━━━━━━━━━━━━━━━━━━━━━━━━━━━\u001b[0m \u001b[32m41.6/41.6 kB\u001b[0m \u001b[31m2.3 MB/s\u001b[0m eta \u001b[36m0:00:00\u001b[0m\n",
      "\u001b[?25hRequirement already satisfied: scipy in /usr/local/lib/python3.9/site-packages (from controlnet-aux) (1.10.0)\n",
      "Requirement already satisfied: opencv-python in /usr/local/lib/python3.9/site-packages (from controlnet-aux) (4.6.0.66)\n",
      "Requirement already satisfied: huggingface-hub in /usr/local/lib/python3.9/site-packages (from controlnet-aux) (0.11.0)\n",
      "Requirement already satisfied: importlib-metadata in /usr/local/lib/python3.9/site-packages (from controlnet-aux) (6.0.0)\n",
      "Requirement already satisfied: torch in /usr/local/lib/python3.9/site-packages (from controlnet-aux) (1.13.1)\n",
      "Requirement already satisfied: numpy in /usr/local/lib/python3.9/site-packages (from controlnet-aux) (1.23.3)\n",
      "Requirement already satisfied: typing-extensions>=3.7.4.3 in /usr/local/lib/python3.9/site-packages (from huggingface-hub->controlnet-aux) (4.0.1)\n",
      "Requirement already satisfied: pyyaml>=5.1 in /usr/local/lib/python3.9/site-packages (from huggingface-hub->controlnet-aux) (6.0)\n",
      "Requirement already satisfied: tqdm in /usr/local/lib/python3.9/site-packages (from huggingface-hub->controlnet-aux) (4.64.1)\n",
      "Requirement already satisfied: packaging>=20.9 in /usr/local/lib/python3.9/site-packages (from huggingface-hub->controlnet-aux) (21.3)\n",
      "Requirement already satisfied: requests in /usr/local/lib/python3.9/site-packages (from huggingface-hub->controlnet-aux) (2.25.1)\n",
      "Requirement already satisfied: zipp>=0.5 in /usr/local/lib/python3.9/site-packages (from importlib-metadata->controlnet-aux) (3.6.0)\n",
      "Requirement already satisfied: pyparsing!=3.0.5,>=2.0.2 in /usr/local/lib/python3.9/site-packages (from packaging>=20.9->huggingface-hub->controlnet-aux) (3.0.9)\n",
      "Requirement already satisfied: chardet<5,>=3.0.2 in /usr/local/lib/python3.9/site-packages (from requests->huggingface-hub->controlnet-aux) (4.0.0)\n",
      "Requirement already satisfied: idna<3,>=2.5 in /usr/local/lib/python3.9/site-packages (from requests->huggingface-hub->controlnet-aux) (2.10)\n",
      "Requirement already satisfied: urllib3<1.27,>=1.21.1 in /usr/local/lib/python3.9/site-packages (from requests->huggingface-hub->controlnet-aux) (1.26.2)\n",
      "Requirement already satisfied: certifi>=2017.4.17 in /usr/local/lib/python3.9/site-packages (from requests->huggingface-hub->controlnet-aux) (2022.12.7)\n",
      "Installing collected packages: einops, controlnet-aux\n",
      "\u001b[33m  DEPRECATION: Configuring installation scheme with distutils config files is deprecated and will no longer work in the near future. If you are using a Homebrew or Linuxbrew Python, please see discussion at https://github.com/Homebrew/homebrew-core/issues/76621\u001b[0m\u001b[33m\n",
      "\u001b[0m\u001b[33m  DEPRECATION: Configuring installation scheme with distutils config files is deprecated and will no longer work in the near future. If you are using a Homebrew or Linuxbrew Python, please see discussion at https://github.com/Homebrew/homebrew-core/issues/76621\u001b[0m\u001b[33m\n",
      "\u001b[0m\u001b[33mDEPRECATION: Configuring installation scheme with distutils config files is deprecated and will no longer work in the near future. If you are using a Homebrew or Linuxbrew Python, please see discussion at https://github.com/Homebrew/homebrew-core/issues/76621\u001b[0m\u001b[33m\n",
      "\u001b[0mSuccessfully installed controlnet-aux-0.0.1 einops-0.6.0\n",
      "\u001b[33mWARNING: There was an error checking the latest version of pip.\u001b[0m\u001b[33m\n",
      "\u001b[0m"
     ]
    }
   ],
   "source": [
    "!pip install controlnet-aux"
   ]
  },
  {
   "cell_type": "code",
   "execution_count": null,
   "metadata": {},
   "outputs": [],
   "source": [
    "import path\n",
    "path.setPathLocalNotebook()\n",
    "\n",
    "from diffuserslib import ImageProcessorPipeline, DrawCheckerboardProcessor, FillBackgroundProcessor\n",
    "from PIL import Image, ImageDraw\n",
    "from IPython.display import display\n",
    "\n",
    "geometry = ImageProcessorPipeline(size=(512, 768))\n",
    "geometry.addTask(DrawCheckerboardProcessor(\n",
    "    size = (256, 384)\n",
    "))\n",
    "geometry.addTask(FillBackgroundProcessor(background = \"white\"))\n",
    "image = geometry()\n",
    "display(image)"
   ]
  },
  {
   "cell_type": "code",
   "execution_count": null,
   "metadata": {},
   "outputs": [],
   "source": [
    "import path\n",
    "path.setPathLocalNotebook()\n",
    "\n",
    "from diffuserslib import shapeGeometryPipeline, RandomChoiceArgument\n",
    "from PIL import Image\n",
    "from IPython.display import display\n",
    "\n",
    "\n",
    "geom = shapeGeometryPipeline(size=(512, 768), background=\"lightgrey\", shapes=10, foreground=RandomChoiceArgument([\"black\", \"darkgrey\"]), symmetry=\"none\")\n",
    "image = geom()\n",
    "display(image)"
   ]
  },
  {
   "cell_type": "code",
   "execution_count": null,
   "metadata": {},
   "outputs": [],
   "source": [
    "import path\n",
    "path.setPathLocalNotebook()\n",
    "\n",
    "from diffuserslib import spiralGeometryPipeline\n",
    "from PIL import Image\n",
    "from IPython.display import display\n",
    "\n",
    "\n",
    "geom = spiralGeometryPipeline(background=\"black\", fill=\"black\", outline=\"white\", shapes=3, maxsize = 96, steps=16)\n",
    "image = geom()\n",
    "display(image)"
   ]
  },
  {
   "cell_type": "code",
   "execution_count": null,
   "metadata": {},
   "outputs": [],
   "source": [
    "import path\n",
    "path.setPathLocalNotebook()\n",
    "\n",
    "from diffuserslib import checkerboardGeometryPipeline, SaturationProcessor, GaussianBlurProcessor, GaussianNoiseProcessor\n",
    "from PIL import Image\n",
    "from IPython.display import display\n",
    "\n",
    "\n",
    "geom = checkerboardGeometryPipeline(size=(512, 768), background=\"lightgreen\", foreground=\"magenta\", blocksize=(512//3, 768//3), start = \"white\")\n",
    "geom.addTask(SaturationProcessor(saturation=-0.5))\n",
    "geom.addTask(GaussianNoiseProcessor(sigma=10))\n",
    "geom.addTask(GaussianBlurProcessor(radius=2))\n",
    "image = geom()\n",
    "display(image)"
   ]
  },
  {
   "cell_type": "code",
   "execution_count": null,
   "metadata": {},
   "outputs": [],
   "source": [
    "import path\n",
    "path.setPathLocalNotebook()\n",
    "\n",
    "from diffuserslib import ImageProcessorPipeline, SimpleTransformProcessor, InitImageProcessor\n",
    "from PIL import Image\n",
    "from IPython.display import display\n",
    "\n",
    "image = Image.open(\"data/test.png\")\n",
    "\n",
    "geometry = ImageProcessorPipeline()\n",
    "geometry.addTask(InitImageProcessor(image))\n",
    "geometry.addTask(SimpleTransformProcessor(type=\"rotate90\"))\n",
    "\n",
    "image = geometry()\n",
    "display(image)\n"
   ]
  },
  {
   "cell_type": "code",
   "execution_count": null,
   "metadata": {},
   "outputs": [],
   "source": [
    "import path\n",
    "path.setPathLocalNotebook()\n",
    "\n",
    "from diffuserslib import ImageProcessorPipeline, CannyEdgeProcessor, InitImageProcessor\n",
    "from PIL import Image\n",
    "from IPython.display import display\n",
    "\n",
    "image = Image.open(\"data/rabbit.png\")\n",
    "\n",
    "geometry = ImageProcessorPipeline()\n",
    "geometry.addTask(InitImageProcessor(image))\n",
    "geometry.addTask(CannyEdgeProcessor())\n",
    "\n",
    "image = geometry()\n",
    "display(image)"
   ]
  },
  {
   "cell_type": "code",
   "execution_count": null,
   "metadata": {},
   "outputs": [],
   "source": [
    "import path\n",
    "path.setPathLocalNotebook()\n",
    "\n",
    "from diffuserslib import ImageProcessorPipeline, CannyEdgeProcessor, InitImageProcessor\n",
    "from PIL import Image\n",
    "from IPython.display import display\n",
    "\n",
    "image = Image.open(\"data/rabbit.png\")\n",
    "\n",
    "geometry = ImageProcessorPipeline()\n",
    "geometry.addTask(InitImageProcessor(image))\n",
    "geometry.addTask(CannyEdgeProcessor())\n",
    "\n",
    "image = geometry()\n",
    "display(image)"
   ]
  },
  {
   "cell_type": "code",
   "execution_count": 2,
   "metadata": {},
   "outputs": [
    {
     "name": "stdout",
     "output_type": "stream",
     "text": [
      "\u001b[33mDEPRECATION: Configuring installation scheme with distutils config files is deprecated and will no longer work in the near future. If you are using a Homebrew or Linuxbrew Python, please see discussion at https://github.com/Homebrew/homebrew-core/issues/76621\u001b[0m\u001b[33m\n",
      "\u001b[0mCollecting diffusers==0.14.0\n",
      "  Using cached diffusers-0.14.0-py3-none-any.whl (737 kB)\n",
      "Requirement already satisfied: Pillow in /usr/local/lib/python3.9/site-packages (from diffusers==0.14.0) (9.4.0)\n",
      "Requirement already satisfied: filelock in /usr/local/lib/python3.9/site-packages (from diffusers==0.14.0) (3.8.0)\n",
      "Requirement already satisfied: requests in /usr/local/lib/python3.9/site-packages (from diffusers==0.14.0) (2.25.1)\n",
      "Requirement already satisfied: numpy in /usr/local/lib/python3.9/site-packages (from diffusers==0.14.0) (1.23.3)\n",
      "Requirement already satisfied: regex!=2019.12.17 in /usr/local/lib/python3.9/site-packages (from diffusers==0.14.0) (2022.9.13)\n",
      "Requirement already satisfied: huggingface-hub>=0.10.0 in /usr/local/lib/python3.9/site-packages (from diffusers==0.14.0) (0.11.0)\n",
      "Requirement already satisfied: importlib-metadata in /usr/local/lib/python3.9/site-packages (from diffusers==0.14.0) (6.0.0)\n",
      "Requirement already satisfied: typing-extensions>=3.7.4.3 in /usr/local/lib/python3.9/site-packages (from huggingface-hub>=0.10.0->diffusers==0.14.0) (4.0.1)\n",
      "Requirement already satisfied: tqdm in /usr/local/lib/python3.9/site-packages (from huggingface-hub>=0.10.0->diffusers==0.14.0) (4.64.1)\n",
      "Requirement already satisfied: pyyaml>=5.1 in /usr/local/lib/python3.9/site-packages (from huggingface-hub>=0.10.0->diffusers==0.14.0) (6.0)\n",
      "Requirement already satisfied: packaging>=20.9 in /usr/local/lib/python3.9/site-packages (from huggingface-hub>=0.10.0->diffusers==0.14.0) (21.3)\n",
      "Requirement already satisfied: zipp>=0.5 in /usr/local/lib/python3.9/site-packages (from importlib-metadata->diffusers==0.14.0) (3.6.0)\n",
      "Requirement already satisfied: chardet<5,>=3.0.2 in /usr/local/lib/python3.9/site-packages (from requests->diffusers==0.14.0) (4.0.0)\n",
      "Requirement already satisfied: certifi>=2017.4.17 in /usr/local/lib/python3.9/site-packages (from requests->diffusers==0.14.0) (2022.12.7)\n",
      "Requirement already satisfied: idna<3,>=2.5 in /usr/local/lib/python3.9/site-packages (from requests->diffusers==0.14.0) (2.10)\n",
      "Requirement already satisfied: urllib3<1.27,>=1.21.1 in /usr/local/lib/python3.9/site-packages (from requests->diffusers==0.14.0) (1.26.2)\n",
      "Requirement already satisfied: pyparsing!=3.0.5,>=2.0.2 in /usr/local/lib/python3.9/site-packages (from packaging>=20.9->huggingface-hub>=0.10.0->diffusers==0.14.0) (3.0.9)\n",
      "Installing collected packages: diffusers\n",
      "  Attempting uninstall: diffusers\n",
      "    Found existing installation: diffusers 0.15.0.dev0\n",
      "    Uninstalling diffusers-0.15.0.dev0:\n",
      "      Successfully uninstalled diffusers-0.15.0.dev0\n",
      "\u001b[33m  DEPRECATION: Configuring installation scheme with distutils config files is deprecated and will no longer work in the near future. If you are using a Homebrew or Linuxbrew Python, please see discussion at https://github.com/Homebrew/homebrew-core/issues/76621\u001b[0m\u001b[33m\n",
      "\u001b[0m\u001b[33mDEPRECATION: Configuring installation scheme with distutils config files is deprecated and will no longer work in the near future. If you are using a Homebrew or Linuxbrew Python, please see discussion at https://github.com/Homebrew/homebrew-core/issues/76621\u001b[0m\u001b[33m\n",
      "\u001b[0mSuccessfully installed diffusers-0.14.0\n",
      "\u001b[33mWARNING: There was an error checking the latest version of pip.\u001b[0m\u001b[33m\n",
      "\u001b[0m"
     ]
    }
   ],
   "source": [
    "!pip install diffusers==0.14.0"
   ]
  },
  {
   "cell_type": "code",
   "execution_count": 1,
   "metadata": {},
   "outputs": [
    {
     "data": {
      "image/png": "[encoded data removed]",
      "text/plain": [
       "<PIL.Image.Image image mode=RGBA size=704x512>"
      ]
     },
     "metadata": {},
     "output_type": "display_data"
    }
   ],
   "source": [
    "import path\n",
    "path.setPathLocalNotebook()\n",
    "\n",
    "from diffuserslib import ( ImageProcessorPipeline, DepthEstimationProcessor, NormalEstimationProcessor, SegmentationProcessor, \n",
    "                         EdgeDetectionProcessor, StraightLineDetectionProcessor, PoseDetectionProcessor, InitImageProcessor )\n",
    "from PIL import Image\n",
    "from IPython.display import display\n",
    "\n",
    "image = Image.open(\"data/55470937_018_0a49.jpg\")\n",
    "\n",
    "geometry = ImageProcessorPipeline()\n",
    "geometry.addTask(InitImageProcessor(image))\n",
    "# geometry.addTask(DepthEstimationProcessor())\n",
    "# geometry.addTask(NormalEstimationProcessor())\n",
    "# geometry.addTask(SegmentationProcessor())\n",
    "# geometry.addTask(EdgeDetectionProcessor())\n",
    "# geometry.addTask(StraightLineDetectionProcessor())\n",
    "geometry.addTask(PoseDetectionProcessor())\n",
    "\n",
    "image = geometry()\n",
    "display(image)"
   ]
  }
 ],
 "metadata": {
  "kernelspec": {
   "display_name": "Python 3",
   "language": "python",
   "name": "python3"
  },
  "language_info": {
   "codemirror_mode": {
    "name": "ipython",
    "version": 3
   },
   "file_extension": ".py",
   "mimetype": "text/x-python",
   "name": "python",
   "nbconvert_exporter": "python",
   "pygments_lexer": "ipython3",
   "version": "3.9.13"
  },
  "orig_nbformat": 4,
  "vscode": {
   "interpreter": {
    "hash": "aee8b7b246df8f9039afb4144a1f6fd8d2ca17a180786b69acc140d282b71a49"
   }
  }
 },
 "nbformat": 4,
 "nbformat_minor": 2
}
