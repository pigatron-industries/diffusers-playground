{
 "cells": [
  {
   "cell_type": "code",
   "execution_count": null,
   "metadata": {},
   "outputs": [],
   "source": [
    "import path\n",
    "path.setPathLocalNotebook()\n",
    "\n",
    "from diffuserslib import GeometryPipeline, DrawRegularShape, DrawCheckerboard, Symmetrize, Spiralize, RandomPositionArgument, RandomNumberArgument, RandomStringArgument\n",
    "from PIL import Image, ImageDraw\n",
    "from IPython.display import display\n",
    "\n",
    "geometry = GeometryPipeline(size=(512, 768))\n",
    "geometry.addTask(DrawCheckerboard(\n",
    "    size = (256, 384)\n",
    "))\n",
    "image = geometry()\n",
    "display(image)"
   ]
  },
  {
   "cell_type": "code",
   "execution_count": null,
   "metadata": {},
   "outputs": [],
   "source": [
    "import path\n",
    "path.setPathLocalNotebook()\n",
    "\n",
    "from diffuserslib import shapeGeometryPipeline\n",
    "from PIL import Image\n",
    "from IPython.display import display\n",
    "\n",
    "\n",
    "geom = shapeGeometryPipeline(shapes=2, maxsize = 128)\n",
    "image = geom()\n",
    "display(image)"
   ]
  },
  {
   "cell_type": "code",
   "execution_count": null,
   "metadata": {},
   "outputs": [],
   "source": [
    "import path\n",
    "path.setPathLocalNotebook()\n",
    "\n",
    "from diffuserslib import spiralGeometryPipeline\n",
    "from PIL import Image\n",
    "from IPython.display import display\n",
    "\n",
    "\n",
    "geom = spiralGeometryPipeline(shapes=2, maxsize = 96)\n",
    "image = geom()\n",
    "display(image)"
   ]
  },
  {
   "cell_type": "code",
   "execution_count": null,
   "metadata": {},
   "outputs": [],
   "source": [
    "import path\n",
    "path.setPathLocalNotebook()\n",
    "\n",
    "from diffuserslib import checkerboardGeometryPipeline\n",
    "from PIL import Image\n",
    "from IPython.display import display\n",
    "\n",
    "\n",
    "geom = checkerboardGeometryPipeline(size=(512, 768), background=\"lightgreen\", foreground=\"magenta\", blocksize=(512//3, 768//3), start = \"white\")\n",
    "image = geom()\n",
    "display(image)"
   ]
  },
  {
   "cell_type": "code",
   "execution_count": null,
   "metadata": {},
   "outputs": [],
   "source": [
    "import path\n",
    "path.setPathLocalNotebook()\n",
    "\n",
    "from diffuserslib import GeometryPipeline, SimpleTransformTask, DrawImageTask\n",
    "from PIL import Image\n",
    "from IPython.display import display\n",
    "\n",
    "image = Image.open(\"data/test.png\")\n",
    "\n",
    "geometry = GeometryPipeline(size=image.size)\n",
    "geometry.addTask(DrawImageTask(image))\n",
    "geometry.addTask(SimpleTransformTask(type=\"rotate90\"))\n",
    "\n",
    "image = geometry()\n",
    "display(image)\n"
   ]
  }
 ],
 "metadata": {
  "kernelspec": {
   "display_name": "Python 3",
   "language": "python",
   "name": "python3"
  },
  "language_info": {
   "codemirror_mode": {
    "name": "ipython",
    "version": 3
   },
   "file_extension": ".py",
   "mimetype": "text/x-python",
   "name": "python",
   "nbconvert_exporter": "python",
   "pygments_lexer": "ipython3",
   "version": "3.9.13"
  },
  "orig_nbformat": 4,
  "vscode": {
   "interpreter": {
    "hash": "aee8b7b246df8f9039afb4144a1f6fd8d2ca17a180786b69acc140d282b71a49"
   }
  }
 },
 "nbformat": 4,
 "nbformat_minor": 2
}
