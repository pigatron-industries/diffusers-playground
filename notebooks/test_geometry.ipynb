{
 "cells": [
  {
   "cell_type": "code",
   "execution_count": 2,
   "metadata": {},
   "outputs": [
    {
     "name": "stdout",
     "output_type": "stream",
     "text": [
      "Requirement already satisfied: flask in /Users/roberte/miniconda3/lib/python3.9/site-packages (2.1.2)\n",
      "Requirement already satisfied: click>=8.0 in /Users/roberte/miniconda3/lib/python3.9/site-packages (from flask) (8.1.3)\n",
      "Requirement already satisfied: Werkzeug>=2.0 in /Users/roberte/miniconda3/lib/python3.9/site-packages (from flask) (2.1.2)\n",
      "Requirement already satisfied: itsdangerous>=2.0 in /Users/roberte/miniconda3/lib/python3.9/site-packages (from flask) (2.1.2)\n",
      "Requirement already satisfied: Jinja2>=3.0 in /Users/roberte/miniconda3/lib/python3.9/site-packages (from flask) (3.1.2)\n",
      "Requirement already satisfied: importlib-metadata>=3.6.0 in /Users/roberte/miniconda3/lib/python3.9/site-packages (from flask) (6.0.0)\n",
      "Requirement already satisfied: zipp>=0.5 in /Users/roberte/miniconda3/lib/python3.9/site-packages (from importlib-metadata>=3.6.0->flask) (3.12.1)\n",
      "Requirement already satisfied: MarkupSafe>=2.0 in /Users/roberte/miniconda3/lib/python3.9/site-packages (from Jinja2>=3.0->flask) (2.1.2)\n",
      "\n",
      "\u001b[1m[\u001b[0m\u001b[34;49mnotice\u001b[0m\u001b[1;39;49m]\u001b[0m\u001b[39;49m A new release of pip available: \u001b[0m\u001b[31;49m22.1.2\u001b[0m\u001b[39;49m -> \u001b[0m\u001b[32;49m23.0.1\u001b[0m\n",
      "\u001b[1m[\u001b[0m\u001b[34;49mnotice\u001b[0m\u001b[1;39;49m]\u001b[0m\u001b[39;49m To update, run: \u001b[0m\u001b[32;49mpip install --upgrade pip\u001b[0m\n"
     ]
    }
   ],
   "source": [
    "!pip install flask"
   ]
  },
  {
   "cell_type": "code",
   "execution_count": null,
   "metadata": {},
   "outputs": [],
   "source": [
    "import path\n",
    "path.setPathLocalNotebook()\n",
    "\n",
    "from diffuserslib import GeometryPipeline, DrawRegularShape, DrawCheckerboard, Symmetrize, Spiralize, RandomPositionArgument, FillBackgroundTask\n",
    "from PIL import Image, ImageDraw\n",
    "from IPython.display import display\n",
    "\n",
    "geometry = GeometryPipeline(size=(512, 768))\n",
    "geometry.addTask(DrawCheckerboard(\n",
    "    size = (256, 384)\n",
    "))\n",
    "geometry.addTask(FillBackgroundTask(background = \"white\"))\n",
    "image = geometry()\n",
    "display(image)"
   ]
  },
  {
   "cell_type": "code",
   "execution_count": null,
   "metadata": {},
   "outputs": [],
   "source": [
    "import path\n",
    "path.setPathLocalNotebook()\n",
    "\n",
    "from diffuserslib import shapeGeometryPipeline, RandomChoiceArgument\n",
    "from PIL import Image\n",
    "from IPython.display import display\n",
    "\n",
    "\n",
    "geom = shapeGeometryPipeline(size=(512, 768), background=\"lightgrey\", shapes=2, foreground=RandomChoiceArgument([\"black\", \"darkgrey\"]), symmetry=\"none\")\n",
    "image = geom()\n",
    "display(image)"
   ]
  },
  {
   "cell_type": "code",
   "execution_count": null,
   "metadata": {},
   "outputs": [],
   "source": [
    "import path\n",
    "path.setPathLocalNotebook()\n",
    "\n",
    "from diffuserslib import spiralGeometryPipeline\n",
    "from PIL import Image\n",
    "from IPython.display import display\n",
    "\n",
    "\n",
    "geom = spiralGeometryPipeline(shapes=2, maxsize = 96)\n",
    "image = geom()\n",
    "display(image)"
   ]
  },
  {
   "cell_type": "code",
   "execution_count": null,
   "metadata": {},
   "outputs": [],
   "source": [
    "import path\n",
    "path.setPathLocalNotebook()\n",
    "\n",
    "from diffuserslib import checkerboardGeometryPipeline, SaturationTask, GaussianBlurTask, GaussianNoiseTask\n",
    "from PIL import Image\n",
    "from IPython.display import display\n",
    "\n",
    "\n",
    "geom = checkerboardGeometryPipeline(size=(512, 768), background=\"lightgreen\", foreground=\"magenta\", blocksize=(512//3, 768//3), start = \"white\")\n",
    "geom.addTask(SaturationTask(saturation=-0.5))\n",
    "geom.addTask(GaussianNoiseTask(sigma=10))\n",
    "geom.addTask(GaussianBlurTask(radius=2))\n",
    "image = geom()\n",
    "display(image)"
   ]
  },
  {
   "cell_type": "code",
   "execution_count": null,
   "metadata": {},
   "outputs": [],
   "source": [
    "import path\n",
    "path.setPathLocalNotebook()\n",
    "\n",
    "from diffuserslib import GeometryPipeline, SimpleTransformTask, InitImageTask\n",
    "from PIL import Image\n",
    "from IPython.display import display\n",
    "\n",
    "image = Image.open(\"data/test.png\")\n",
    "\n",
    "geometry = GeometryPipeline()\n",
    "geometry.addTask(InitImageTask(image))\n",
    "geometry.addTask(SimpleTransformTask(type=\"rotate90\"))\n",
    "\n",
    "image = geometry()\n",
    "display(image)\n"
   ]
  }
 ],
 "metadata": {
  "kernelspec": {
   "display_name": "Python 3",
   "language": "python",
   "name": "python3"
  },
  "language_info": {
   "codemirror_mode": {
    "name": "ipython",
    "version": 3
   },
   "file_extension": ".py",
   "mimetype": "text/x-python",
   "name": "python",
   "nbconvert_exporter": "python",
   "pygments_lexer": "ipython3",
   "version": "3.9.12"
  },
  "orig_nbformat": 4,
  "vscode": {
   "interpreter": {
    "hash": "aee8b7b246df8f9039afb4144a1f6fd8d2ca17a180786b69acc140d282b71a49"
   }
  }
 },
 "nbformat": 4,
 "nbformat_minor": 2
}
