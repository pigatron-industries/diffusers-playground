{
 "cells": [
  {
   "cell_type": "code",
   "execution_count": null,
   "metadata": {},
   "outputs": [],
   "source": [
    "import path\n",
    "path.setPathLocalNotebook()\n",
    "\n",
    "from PIL import Image\n",
    "\n",
    "from diffuserslib import ImageTools\n",
    "\n",
    "tools = ImageTools()\n",
    "tools.loadClipInterrogator(\"ViT-L-14/openai\")\n"
   ]
  },
  {
   "cell_type": "code",
   "execution_count": null,
   "metadata": {},
   "outputs": [],
   "source": [
    "image = Image.open(\"test.png\").convert('RGB')\n",
    "print(tools.cipInterrogate(image))\n"
   ]
  }
 ],
 "metadata": {
  "kernelspec": {
   "display_name": "base",
   "language": "python",
   "name": "python3"
  },
  "language_info": {
   "codemirror_mode": {
    "name": "ipython",
    "version": 3
   },
   "file_extension": ".py",
   "mimetype": "text/x-python",
   "name": "python",
   "nbconvert_exporter": "python",
   "pygments_lexer": "ipython3",
   "version": "3.9.12"
  },
  "orig_nbformat": 4,
  "vscode": {
   "interpreter": {
    "hash": "72fa5da807d66e755d9910dad0a1729879db0cdcf07f547d81c7ed591edcf3d8"
   }
  }
 },
 "nbformat": 4,
 "nbformat_minor": 2
}
