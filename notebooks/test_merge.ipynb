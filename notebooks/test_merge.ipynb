{
 "cells": [
  {
   "cell_type": "code",
   "execution_count": null,
   "metadata": {},
   "outputs": [],
   "source": [
    "import path\n",
    "path.setPathLocalNotebook()\n",
    "\n",
    "from diffuserslib import chdirDiffuserScripts, mergeModels\n",
    "\n",
    "folder = \"/Users/rob/workspace/sdcheckpoints\";\n",
    "mergedFilename = mergeModels(folder, \"f222.ckpt\", \"uberRealisticPornMergev11.ckpt\", 1.0, True)\n",
    "dumpFolder = mergedFilename[:-5]\n",
    "\n",
    "chdirDiffuserScripts()\n",
    "!python convert_original_stable_diffusion_to_diffusers.py --checkpoint_path $mergedFilename --dump_path $dumpFolder --extract_ema\n"
   ]
  },
  {
   "cell_type": "code",
   "execution_count": 3,
   "metadata": {},
   "outputs": [
    {
     "name": "stdout",
     "output_type": "stream",
     "text": [
      "global_step key not found in model\n",
      "\u001b[31m╭─\u001b[0m\u001b[31m────────────────────\u001b[0m\u001b[31m \u001b[0m\u001b[1;31mTraceback \u001b[0m\u001b[1;2;31m(most recent call last)\u001b[0m\u001b[31m \u001b[0m\u001b[31m─────────────────────\u001b[0m\u001b[31m─╮\u001b[0m\n",
      "\u001b[31m│\u001b[0m \u001b[2;33m/Users/rob/workspace/projects/diffusers-playground/workspace/src/diffusers/s\u001b[0m \u001b[31m│\u001b[0m\n",
      "\u001b[31m│\u001b[0m \u001b[2;33mcripts/\u001b[0m\u001b[1;33mconvert_original_stable_diffusion_to_diffusers.py\u001b[0m:\u001b[94m966\u001b[0m in \u001b[92m<module>\u001b[0m     \u001b[31m│\u001b[0m\n",
      "\u001b[31m│\u001b[0m                                                                              \u001b[31m│\u001b[0m\n",
      "\u001b[31m│\u001b[0m   \u001b[2m 963 \u001b[0m\u001b[2m│   │   \u001b[0mcheckpoint, unet_config, path=args.checkpoint_path, extract_e \u001b[31m│\u001b[0m\n",
      "\u001b[31m│\u001b[0m   \u001b[2m 964 \u001b[0m\u001b[2m│   \u001b[0m)                                                                 \u001b[31m│\u001b[0m\n",
      "\u001b[31m│\u001b[0m   \u001b[2m 965 \u001b[0m\u001b[2m│   \u001b[0m                                                                  \u001b[31m│\u001b[0m\n",
      "\u001b[31m│\u001b[0m \u001b[31m❱ \u001b[0m 966 \u001b[2m│   \u001b[0munet.load_state_dict(converted_unet_checkpoint)                   \u001b[31m│\u001b[0m\n",
      "\u001b[31m│\u001b[0m   \u001b[2m 967 \u001b[0m\u001b[2m│   \u001b[0m                                                                  \u001b[31m│\u001b[0m\n",
      "\u001b[31m│\u001b[0m   \u001b[2m 968 \u001b[0m\u001b[2m│   \u001b[0m\u001b[2m# Convert the VAE model.\u001b[0m                                          \u001b[31m│\u001b[0m\n",
      "\u001b[31m│\u001b[0m   \u001b[2m 969 \u001b[0m\u001b[2m│   \u001b[0mvae_config = create_vae_diffusers_config(original_config, image_s \u001b[31m│\u001b[0m\n",
      "\u001b[31m│\u001b[0m                                                                              \u001b[31m│\u001b[0m\n",
      "\u001b[31m│\u001b[0m \u001b[2;33m/usr/local/lib/python3.9/site-packages/torch/nn/modules/\u001b[0m\u001b[1;33mmodule.py\u001b[0m:\u001b[94m1671\u001b[0m in    \u001b[31m│\u001b[0m\n",
      "\u001b[31m│\u001b[0m \u001b[92mload_state_dict\u001b[0m                                                              \u001b[31m│\u001b[0m\n",
      "\u001b[31m│\u001b[0m                                                                              \u001b[31m│\u001b[0m\n",
      "\u001b[31m│\u001b[0m   \u001b[2m1668 \u001b[0m\u001b[2m│   │   │   │   │   │   \u001b[0m\u001b[33m'\u001b[0m\u001b[33m, \u001b[0m\u001b[33m'\u001b[0m.join(\u001b[33m'\u001b[0m\u001b[33m\"\u001b[0m\u001b[33m{}\u001b[0m\u001b[33m\"\u001b[0m\u001b[33m'\u001b[0m.format(k) \u001b[94mfor\u001b[0m k \u001b[95min\u001b[0m missing_k \u001b[31m│\u001b[0m\n",
      "\u001b[31m│\u001b[0m   \u001b[2m1669 \u001b[0m\u001b[2m│   │   \u001b[0m                                                              \u001b[31m│\u001b[0m\n",
      "\u001b[31m│\u001b[0m   \u001b[2m1670 \u001b[0m\u001b[2m│   │   \u001b[0m\u001b[94mif\u001b[0m \u001b[96mlen\u001b[0m(error_msgs) > \u001b[94m0\u001b[0m:                                       \u001b[31m│\u001b[0m\n",
      "\u001b[31m│\u001b[0m \u001b[31m❱ \u001b[0m1671 \u001b[2m│   │   │   \u001b[0m\u001b[94mraise\u001b[0m \u001b[96mRuntimeError\u001b[0m(\u001b[33m'\u001b[0m\u001b[33mError(s) in loading state_dict for \u001b[0m\u001b[33m{}\u001b[0m \u001b[31m│\u001b[0m\n",
      "\u001b[31m│\u001b[0m   \u001b[2m1672 \u001b[0m\u001b[2m│   │   │   │   │   │   │      \u001b[0m\u001b[96mself\u001b[0m.\u001b[91m__class__\u001b[0m.\u001b[91m__name__\u001b[0m, \u001b[33m\"\u001b[0m\u001b[33m\\n\u001b[0m\u001b[33m\\t\u001b[0m\u001b[33m\"\u001b[0m.join(e \u001b[31m│\u001b[0m\n",
      "\u001b[31m│\u001b[0m   \u001b[2m1673 \u001b[0m\u001b[2m│   │   \u001b[0m\u001b[94mreturn\u001b[0m _IncompatibleKeys(missing_keys, unexpected_keys)       \u001b[31m│\u001b[0m\n",
      "\u001b[31m│\u001b[0m   \u001b[2m1674 \u001b[0m                                                                      \u001b[31m│\u001b[0m\n",
      "\u001b[31m╰──────────────────────────────────────────────────────────────────────────────╯\u001b[0m\n",
      "\u001b[1;91mRuntimeError: \u001b[0m\u001b[1;35mError\u001b[0m\u001b[1m(\u001b[0ms\u001b[1m)\u001b[0m in loading state_dict for UNet2DConditionModel:\n",
      "        Missing \u001b[1;35mkey\u001b[0m\u001b[1m(\u001b[0ms\u001b[1m)\u001b[0m in state_dict: \u001b[32m\"up_blocks.0.upsamplers.0.conv.weight\"\u001b[0m, \n",
      "\u001b[32m\"up_blocks.0.upsamplers.0.conv.bias\"\u001b[0m, \u001b[32m\"up_blocks.1.upsamplers.0.conv.weight\"\u001b[0m, \n",
      "\u001b[32m\"up_blocks.1.upsamplers.0.conv.bias\"\u001b[0m, \u001b[32m\"up_blocks.2.upsamplers.0.conv.weight\"\u001b[0m, \n",
      "\u001b[32m\"up_blocks.2.upsamplers.0.conv.bias\"\u001b[0m. \n",
      "        Unexpected \u001b[1;35mkey\u001b[0m\u001b[1m(\u001b[0ms\u001b[1m)\u001b[0m in state_dict: \u001b[32m\"up_blocks.0.attentions.2.conv.bias\"\u001b[0m, \n",
      "\u001b[32m\"up_blocks.0.attentions.2.conv.weight\"\u001b[0m. \n"
     ]
    }
   ],
   "source": [
    "import path\n",
    "path.setPathLocalNotebook()\n",
    "\n",
    "from diffuserslib import chdirDiffuserScripts\n",
    "\n",
    "folder = \"/Users/rob/workspace/sdcheckpoints\";\n",
    "ckpt_filename = \"uberRealisticPornMergev11.ckpt\"\n",
    "ckptFolder = f\"{folder}/{ckpt_filename}\"\n",
    "dumpFolder = ckptFolder[:-5]\n",
    "\n",
    "chdirDiffuserScripts()\n",
    "!python convert_original_stable_diffusion_to_diffusers.py --checkpoint_path $ckptFolder --dump_path $dumpFolder --extract_ema"
   ]
  },
  {
   "cell_type": "code",
   "execution_count": null,
   "metadata": {},
   "outputs": [],
   "source": [
    "import path\n",
    "path.setPathLocalNotebook()\n",
    "\n",
    "from diffuserslib import downloadModel, convertToDiffusers\n",
    "\n",
    "downloadModel(\"https://test/test.ckpt\")\n",
    "convertToDiffusers('test.ckpt')"
   ]
  },
  {
   "cell_type": "code",
   "execution_count": null,
   "metadata": {},
   "outputs": [],
   "source": [
    "import path\n",
    "path.setPathLocalNotebook()\n",
    "\n",
    "from diffuserslib import convertSafetensorsToCkpt\n",
    "\n",
    "folder = \"/Users/rob/workspace/sdcheckpoints\";\n",
    "model = \"artEros\"\n",
    "convertSafetensorsToCkpt(model, folder)"
   ]
  }
 ],
 "metadata": {
  "kernelspec": {
   "display_name": "Python 3",
   "language": "python",
   "name": "python3"
  },
  "language_info": {
   "codemirror_mode": {
    "name": "ipython",
    "version": 3
   },
   "file_extension": ".py",
   "mimetype": "text/x-python",
   "name": "python",
   "nbconvert_exporter": "python",
   "pygments_lexer": "ipython3",
   "version": "3.9.13 (main, May 24 2022, 21:28:31) \n[Clang 13.1.6 (clang-1316.0.21.2)]"
  },
  "orig_nbformat": 4,
  "vscode": {
   "interpreter": {
    "hash": "aee8b7b246df8f9039afb4144a1f6fd8d2ca17a180786b69acc140d282b71a49"
   }
  }
 },
 "nbformat": 4,
 "nbformat_minor": 2
}
