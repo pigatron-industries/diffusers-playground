{
 "cells": [
  {
   "cell_type": "code",
   "execution_count": null,
   "metadata": {},
   "outputs": [],
   "source": [
    "import path\n",
    "path.setPathLocalNotebook()\n",
    "\n",
    "from diffuserslib import chdirDiffuserScripts, mergeModels\n",
    "\n",
    "folder = \"/Users/rob/workspace/sdcheckpoints\";\n",
    "mergedFilename = mergeModels(folder, \"model1.ckpt\", \"model2.ckpt\", 0.1, True)\n",
    "dumpFolder = mergedFilename[:-5]\n",
    "\n",
    "chdirDiffuserScripts()\n",
    "!python convert_original_stable_diffusion_to_diffusers.py --checkpoint_path $mergedFilename --dump_path $dumpFolder --extract_ema\n"
   ]
  },
  {
   "cell_type": "code",
   "execution_count": null,
   "metadata": {},
   "outputs": [],
   "source": [
    "import path\n",
    "path.setPathLocalNotebook()\n",
    "\n",
    "from diffuserslib import chdirDiffuserScripts\n",
    "\n",
    "folder = \"/Users/rob/workspace/sdcheckpoints\";\n",
    "ckpt_filename = \"model.ckpt\"\n",
    "ckptFolder = f\"{folder}/{ckpt_filename}\"\n",
    "dumpFolder = ckptFolder[:-5]\n",
    "\n",
    "chdirDiffuserScripts()\n",
    "!python convert_original_stable_diffusion_to_diffusers.py --checkpoint_path $ckptFolder --dump_path $dumpFolder --extract_ema"
   ]
  }
 ],
 "metadata": {
  "kernelspec": {
   "display_name": "Python 3",
   "language": "python",
   "name": "python3"
  },
  "language_info": {
   "codemirror_mode": {
    "name": "ipython",
    "version": 3
   },
   "file_extension": ".py",
   "mimetype": "text/x-python",
   "name": "python",
   "nbconvert_exporter": "python",
   "pygments_lexer": "ipython3",
   "version": "3.10.6 (main, Aug 30 2022, 04:58:14) [Clang 13.1.6 (clang-1316.0.21.2.5)]"
  },
  "orig_nbformat": 4,
  "vscode": {
   "interpreter": {
    "hash": "b0fa6594d8f4cbf19f97940f81e996739fb7646882a419484c72d19e05852a7e"
   }
  }
 },
 "nbformat": 4,
 "nbformat_minor": 2
}
