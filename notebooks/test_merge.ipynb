{
 "cells": [
  {
   "cell_type": "code",
   "execution_count": null,
   "metadata": {},
   "outputs": [],
   "source": [
    "import path\n",
    "path.setPathLocalNotebook()\n",
    "\n",
    "from diffuserslib import chdirDiffuserScripts, mergeModels\n",
    "\n",
    "folder = \"/Users/rob/workspace/sdcheckpoints\";\n",
    "mergedFilename = mergeModels(folder, \"f222.ckpt\", \"protogenV22.ckpt\", 0.5, True)\n",
    "dumpFolder = mergedFilename[:-5]\n",
    "\n",
    "chdirDiffuserScripts()\n",
    "!python convert_original_stable_diffusion_to_diffusers.py --checkpoint_path $mergedFilename --dump_path $dumpFolder --extract_ema\n"
   ]
  },
  {
   "cell_type": "code",
   "execution_count": null,
   "metadata": {},
   "outputs": [],
   "source": [
    "import path\n",
    "path.setPathLocalNotebook()\n",
    "\n",
    "from diffuserslib import chdirDiffuserScripts\n",
    "\n",
    "folder = \"/Users/rob/workspace/sdcheckpoints\";\n",
    "ckpt_filename = \"pfg_111.ckpt\"\n",
    "ckptFolder = f\"{folder}/{ckpt_filename}\"\n",
    "dumpFolder = ckptFolder[:-5]\n",
    "\n",
    "chdirDiffuserScripts()\n",
    "!python convert_original_stable_diffusion_to_diffusers.py --checkpoint_path $ckptFolder --dump_path $dumpFolder --extract_ema"
   ]
  },
  {
   "cell_type": "code",
   "execution_count": 1,
   "metadata": {},
   "outputs": [
    {
     "name": "stdout",
     "output_type": "stream",
     "text": [
      "\n"
     ]
    },
    {
     "name": "stderr",
     "output_type": "stream",
     "text": [
      "Traceback (most recent call last):\n",
      "  File \"/Users/roberte/workspace_home/projects/diffusers-playground/workspace/src/diffusers/scripts/convert_original_stable_diffusion_to_diffusers.py\", line 25, in <module>\n",
      "    from omegaconf import OmegaConf\n",
      "ModuleNotFoundError: No module named 'omegaconf'\n",
      "\n",
      "During handling of the above exception, another exception occurred:\n",
      "\n",
      "Traceback (most recent call last):\n",
      "  File \"/Users/roberte/workspace_home/projects/diffusers-playground/workspace/src/diffusers/scripts/convert_original_stable_diffusion_to_diffusers.py\", line 27, in <module>\n",
      "    raise ImportError(\n",
      "ImportError: OmegaConf is required to convert the LDM checkpoints. Please install it with `pip install OmegaConf`.\n"
     ]
    }
   ],
   "source": [
    "import path\n",
    "path.setPathLocalNotebook()\n",
    "\n",
    "from diffuserslib import downloadModel, convertToDiffusers\n",
    "\n",
    "downloadModel(\"https://test/test.ckpt\")\n",
    "convertToDiffusers('test.ckpt')"
   ]
  }
 ],
 "metadata": {
  "kernelspec": {
   "display_name": "base",
   "language": "python",
   "name": "python3"
  },
  "language_info": {
   "codemirror_mode": {
    "name": "ipython",
    "version": 3
   },
   "file_extension": ".py",
   "mimetype": "text/x-python",
   "name": "python",
   "nbconvert_exporter": "python",
   "pygments_lexer": "ipython3",
   "version": "3.9.12"
  },
  "orig_nbformat": 4,
  "vscode": {
   "interpreter": {
    "hash": "72fa5da807d66e755d9910dad0a1729879db0cdcf07f547d81c7ed591edcf3d8"
   }
  }
 },
 "nbformat": 4,
 "nbformat_minor": 2
}
