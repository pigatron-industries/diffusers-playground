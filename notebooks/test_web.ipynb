{
 "cells": [
  {
   "cell_type": "code",
   "execution_count": null,
   "metadata": {},
   "outputs": [],
   "source": [
    "!pip install -r ../requirements.txt"
   ]
  },
  {
   "cell_type": "code",
   "execution_count": 1,
   "metadata": {},
   "outputs": [
    {
     "name": "stdout",
     "output_type": "stream",
     "text": [
      "{'id': 'stabilityai/stable-diffusion-2-1', 'revision': 'fp16', 'autocast': False}\n",
      "{'id': 'stabilityai/stable-diffusion-2-1-base', 'revision': 'fp16'}\n",
      "{'id': 'runwayml/stable-diffusion-v1-5', 'revision': 'fp16'}\n",
      "{'id': 'Aybeeceedee/knollingcase', 'vae': 'stabilityai/sd-vae-ft-mse', 'phrase': 'knollingcase'}\n",
      "{'id': 'dreamlike-art/dreamlike-diffusion-1.0', 'vae': 'stabilityai/sd-vae-ft-mse', 'phrase': 'dreamlikeart'}\n",
      "{'id': 'dreamlike-art/dreamlike-photoreal-2.0', 'vae': 'stabilityai/sd-vae-ft-mse', 'phrase': 'dreamlikeart'}\n",
      "{'id': 'Fictiverse/Stable_Diffusion_PaperCut_Model', 'vae': 'stabilityai/sd-vae-ft-mse', 'phrase': 'papercut'}\n",
      "{'id': 'Fictiverse/Stable_Diffusion_Microscopic_model', 'vae': 'stabilityai/sd-vae-ft-mse', 'phrase': 'microscopic'}\n",
      "{'id': 'hassanblend/HassanBlend1.5.1.2', 'vae': 'stabilityai/sd-vae-ft-mse'}\n",
      "{'id': 'johnslegers/hasdx', 'vae': 'stabilityai/sd-vae-ft-mse'}\n",
      "{'id': 'nitrosocke/redshift-diffusion', 'vae': 'stabilityai/sd-vae-ft-mse', 'phrase': 'redshift style'}\n",
      "{'id': 'plasmo/woolitize', 'vae': 'stabilityai/sd-vae-ft-mse', 'phrase': 'woolitize', 'revision': 'fp16'}\n",
      "{'id': 'prompthero/openjourney', 'vae': 'stabilityai/sd-vae-ft-mse', 'phrase': 'mdjrny-v4 style'}\n",
      "{'id': 'wavymulder/Analog-Diffusion', 'vae': 'stabilityai/sd-vae-ft-mse', 'phrase': 'analog style'}\n",
      "{'id': 'stabilityai/stable-diffusion-2-inpainting', 'revision': 'fp16'}\n",
      "{'id': 'runwayml/stable-diffusion-inpainting', 'vae': 'stabilityai/sd-vae-ft-mse', 'revision': 'fp16'}\n",
      "{'id': 'timbrooks/instruct-pix2pix'}\n",
      "{'id': 'lambdalabs/sd-image-variations-diffusers', 'revision': 'v2.0'}\n",
      " * Serving Flask app 'diffuserslib.Web' (lazy loading)\n",
      " * Environment: production\n",
      "\u001b[31m   WARNING: This is a development server. Do not use it in a production deployment.\u001b[0m\n",
      "\u001b[2m   Use a production WSGI server instead.\u001b[0m\n",
      " * Debug mode: off\n"
     ]
    },
    {
     "name": "stderr",
     "output_type": "stream",
     "text": [
      " * Running on http://127.0.0.1:5000 (Press CTRL+C to quit)\n"
     ]
    }
   ],
   "source": [
    "import path\n",
    "path.setPathLocalNotebook()\n",
    "\n",
    "from diffuserslib import DiffusersView, DiffusersPipelines, startWebServer\n",
    "\n",
    "pipelines = DiffusersPipelines(device = \"mps\", safety_checker=True)\n",
    "pipelines.loadPresetFile(\"../modelconfig.yml\")\n",
    "# pipelines.addPresets(getHuggingFacePresetsList())\n",
    "pipelines.createTextToImagePipeline('runwayml/stable-diffusion-v1-5')\n",
    "# pipelines.createImageToImagePipeline('runwayml/stable-diffusion-v1-5')\n",
    "# pipelines.createDepthToImagePipeline()\n",
    "# pipelines.createInpaintPipeline()\n",
    "\n",
    "DiffusersView.pipelines = pipelines\n",
    "\n",
    "startWebServer()\n"
   ]
  }
 ],
 "metadata": {
  "kernelspec": {
   "display_name": "Python 3",
   "language": "python",
   "name": "python3"
  },
  "language_info": {
   "codemirror_mode": {
    "name": "ipython",
    "version": 3
   },
   "file_extension": ".py",
   "mimetype": "text/x-python",
   "name": "python",
   "nbconvert_exporter": "python",
   "pygments_lexer": "ipython3",
   "version": "3.9.13"
  },
  "orig_nbformat": 4,
  "vscode": {
   "interpreter": {
    "hash": "aee8b7b246df8f9039afb4144a1f6fd8d2ca17a180786b69acc140d282b71a49"
   }
  }
 },
 "nbformat": 4,
 "nbformat_minor": 2
}
