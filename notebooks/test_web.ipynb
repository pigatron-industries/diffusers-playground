{
 "cells": [
  {
   "cell_type": "code",
   "execution_count": null,
   "metadata": {},
   "outputs": [],
   "source": [
    "!pip install -r ../requirements.txt"
   ]
  },
  {
   "cell_type": "code",
   "execution_count": null,
   "metadata": {},
   "outputs": [],
   "source": [
    "import path\n",
    "path.setPathLocalNotebook()\n",
    "\n",
    "from diffuserslib import DiffusersView, DiffusersPipelines, startWebServer, DiffusersBaseModel, AUTOENCODER_MODEL_1_5\n",
    "\n",
    "local_weight_dir = '/Users/rob/GoogleDrive/stable-diffusion/weights'\n",
    "learned_embeds_path = \"/Users/rob/GoogleDrive/stable-diffusion/embeds\"\n",
    "\n",
    "pipelines = DiffusersPipelines(localmodelpath=local_weight_dir, device = \"mps\", safety_checker=False)\n",
    "pipelines.loadPresetFile(\"../modelconfig.yml\")\n",
    "pipelines.addPresetImage('f222', DiffusersBaseModel.sd_1_5, revision='fp16', vae=AUTOENCODER_MODEL_1_5, location='local')\n",
    "pipelines.loadTextEmbeddings(learned_embeds_path)\n",
    "\n",
    "DiffusersView.pipelines = pipelines\n",
    "\n",
    "startWebServer()\n"
   ]
  }
 ],
 "metadata": {
  "kernelspec": {
   "display_name": "Python 3",
   "language": "python",
   "name": "python3"
  },
  "language_info": {
   "codemirror_mode": {
    "name": "ipython",
    "version": 3
   },
   "file_extension": ".py",
   "mimetype": "text/x-python",
   "name": "python",
   "nbconvert_exporter": "python",
   "pygments_lexer": "ipython3",
   "version": "3.9.13"
  },
  "orig_nbformat": 4,
  "vscode": {
   "interpreter": {
    "hash": "aee8b7b246df8f9039afb4144a1f6fd8d2ca17a180786b69acc140d282b71a49"
   }
  }
 },
 "nbformat": 4,
 "nbformat_minor": 2
}
