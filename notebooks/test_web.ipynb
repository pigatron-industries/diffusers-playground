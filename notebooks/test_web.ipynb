{
 "cells": [
  {
   "cell_type": "code",
   "execution_count": 2,
   "metadata": {},
   "outputs": [
    {
     "name": "stdout",
     "output_type": "stream",
     "text": [
      "Requirement already satisfied: huggingface_hub==0.11.0 in /Users/roberte/miniconda3/lib/python3.9/site-packages (from -r ../requirements.txt (line 2)) (0.11.0)\n",
      "Requirement already satisfied: diffusers==0.10.2 in /Users/roberte/miniconda3/lib/python3.9/site-packages (from -r ../requirements.txt (line 3)) (0.10.2)\n",
      "Requirement already satisfied: transformers==4.25.1 in /Users/roberte/miniconda3/lib/python3.9/site-packages (from -r ../requirements.txt (line 4)) (4.25.1)\n",
      "Requirement already satisfied: accelerate==0.14.0 in /Users/roberte/miniconda3/lib/python3.9/site-packages (from -r ../requirements.txt (line 5)) (0.14.0)\n",
      "Requirement already satisfied: ftfy==6.1.1 in /Users/roberte/miniconda3/lib/python3.9/site-packages (from -r ../requirements.txt (line 6)) (6.1.1)\n",
      "Collecting torchvision==0.14.1\n",
      "  Downloading torchvision-0.14.1-cp39-cp39-macosx_11_0_arm64.whl (1.3 MB)\n",
      "\u001b[2K     \u001b[90m━━━━━━━━━━━━━━━━━━━━━━━━━━━━━━━━━━━━━━━━\u001b[0m \u001b[32m1.3/1.3 MB\u001b[0m \u001b[31m12.8 MB/s\u001b[0m eta \u001b[36m0:00:00\u001b[0m00:01\u001b[0m00:01\u001b[0m\n",
      "\u001b[?25hCollecting ipywidgets==8.0.3\n",
      "  Downloading ipywidgets-8.0.3-py3-none-any.whl (137 kB)\n",
      "\u001b[2K     \u001b[90m━━━━━━━━━━━━━━━━━━━━━━━━━━━━━━━━━━━━━━━\u001b[0m \u001b[32m137.9/137.9 kB\u001b[0m \u001b[31m3.0 MB/s\u001b[0m eta \u001b[36m0:00:00\u001b[0ma \u001b[36m0:00:01\u001b[0m\n",
      "\u001b[?25hCollecting timm==0.6.12\n",
      "  Downloading timm-0.6.12-py3-none-any.whl (549 kB)\n",
      "\u001b[2K     \u001b[90m━━━━━━━━━━━━━━━━━━━━━━━━━━━━━━━━━━━━━━\u001b[0m \u001b[32m549.1/549.1 kB\u001b[0m \u001b[31m13.4 MB/s\u001b[0m eta \u001b[36m0:00:00\u001b[0m00:01\u001b[0m\n",
      "\u001b[?25hCollecting fairscale==0.4.13\n",
      "  Downloading fairscale-0.4.13.tar.gz (266 kB)\n",
      "\u001b[2K     \u001b[90m━━━━━━━━━━━━━━━━━━━━━━━━━━━━━━━━━━━━━━━\u001b[0m \u001b[32m266.3/266.3 kB\u001b[0m \u001b[31m9.1 MB/s\u001b[0m eta \u001b[36m0:00:00\u001b[0m\n",
      "\u001b[?25h  Installing build dependencies ... \u001b[?25ldone\n",
      "\u001b[?25h  Getting requirements to build wheel ... \u001b[?25ldone\n",
      "\u001b[?25h  Installing backend dependencies ... \u001b[?25ldone\n",
      "\u001b[?25h  Preparing metadata (pyproject.toml) ... \u001b[?25ldone\n",
      "\u001b[?25hRequirement already satisfied: requests in /Users/roberte/miniconda3/lib/python3.9/site-packages (from huggingface_hub==0.11.0->-r ../requirements.txt (line 2)) (2.27.1)\n",
      "Requirement already satisfied: filelock in /Users/roberte/miniconda3/lib/python3.9/site-packages (from huggingface_hub==0.11.0->-r ../requirements.txt (line 2)) (3.8.0)\n",
      "Requirement already satisfied: pyyaml>=5.1 in /Users/roberte/miniconda3/lib/python3.9/site-packages (from huggingface_hub==0.11.0->-r ../requirements.txt (line 2)) (6.0)\n",
      "Requirement already satisfied: packaging>=20.9 in /Users/roberte/miniconda3/lib/python3.9/site-packages (from huggingface_hub==0.11.0->-r ../requirements.txt (line 2)) (21.3)\n",
      "Requirement already satisfied: typing-extensions>=3.7.4.3 in /Users/roberte/miniconda3/lib/python3.9/site-packages (from huggingface_hub==0.11.0->-r ../requirements.txt (line 2)) (4.2.0)\n",
      "Requirement already satisfied: tqdm in /Users/roberte/miniconda3/lib/python3.9/site-packages (from huggingface_hub==0.11.0->-r ../requirements.txt (line 2)) (4.64.0)\n",
      "Requirement already satisfied: importlib-metadata in /Users/roberte/miniconda3/lib/python3.9/site-packages (from diffusers==0.10.2->-r ../requirements.txt (line 3)) (4.11.4)\n",
      "Requirement already satisfied: numpy in /Users/roberte/miniconda3/lib/python3.9/site-packages (from diffusers==0.10.2->-r ../requirements.txt (line 3)) (1.22.3)\n",
      "Requirement already satisfied: Pillow in /Users/roberte/miniconda3/lib/python3.9/site-packages (from diffusers==0.10.2->-r ../requirements.txt (line 3)) (9.3.0)\n",
      "Requirement already satisfied: regex!=2019.12.17 in /Users/roberte/miniconda3/lib/python3.9/site-packages (from diffusers==0.10.2->-r ../requirements.txt (line 3)) (2022.10.31)\n",
      "Requirement already satisfied: tokenizers!=0.11.3,<0.14,>=0.11.1 in /Users/roberte/miniconda3/lib/python3.9/site-packages (from transformers==4.25.1->-r ../requirements.txt (line 4)) (0.13.2)\n",
      "Requirement already satisfied: torch>=1.4.0 in /Users/roberte/miniconda3/lib/python3.9/site-packages (from accelerate==0.14.0->-r ../requirements.txt (line 5)) (1.13.0)\n",
      "Requirement already satisfied: psutil in /Users/roberte/miniconda3/lib/python3.9/site-packages (from accelerate==0.14.0->-r ../requirements.txt (line 5)) (5.9.4)\n",
      "Requirement already satisfied: wcwidth>=0.2.5 in /Users/roberte/miniconda3/lib/python3.9/site-packages (from ftfy==6.1.1->-r ../requirements.txt (line 6)) (0.2.5)\n",
      "Collecting jupyterlab-widgets~=3.0\n",
      "  Downloading jupyterlab_widgets-3.0.4-py3-none-any.whl (384 kB)\n",
      "\u001b[2K     \u001b[90m━━━━━━━━━━━━━━━━━━━━━━━━━━━━━━━━━━━━━━\u001b[0m \u001b[32m384.3/384.3 kB\u001b[0m \u001b[31m13.3 MB/s\u001b[0m eta \u001b[36m0:00:00\u001b[0m\n",
      "\u001b[?25hRequirement already satisfied: ipykernel>=4.5.1 in /Users/roberte/miniconda3/lib/python3.9/site-packages (from ipywidgets==8.0.3->-r ../requirements.txt (line 8)) (6.9.1)\n",
      "Requirement already satisfied: traitlets>=4.3.1 in /Users/roberte/miniconda3/lib/python3.9/site-packages (from ipywidgets==8.0.3->-r ../requirements.txt (line 8)) (5.4.0)\n",
      "Requirement already satisfied: ipython>=6.1.0 in /Users/roberte/miniconda3/lib/python3.9/site-packages (from ipywidgets==8.0.3->-r ../requirements.txt (line 8)) (8.3.0)\n",
      "Collecting widgetsnbextension~=4.0\n",
      "  Downloading widgetsnbextension-4.0.4-py3-none-any.whl (2.0 MB)\n",
      "\u001b[2K     \u001b[90m━━━━━━━━━━━━━━━━━━━━━━━━━━━━━━━━━━━━━━━━\u001b[0m \u001b[32m2.0/2.0 MB\u001b[0m \u001b[31m20.7 MB/s\u001b[0m eta \u001b[36m0:00:00\u001b[0m00:01\u001b[0m00:01\u001b[0m\n",
      "\u001b[?25hRequirement already satisfied: appnope in /Users/roberte/miniconda3/lib/python3.9/site-packages (from ipykernel>=4.5.1->ipywidgets==8.0.3->-r ../requirements.txt (line 8)) (0.1.2)\n",
      "Requirement already satisfied: jupyter-client<8.0 in /Users/roberte/miniconda3/lib/python3.9/site-packages (from ipykernel>=4.5.1->ipywidgets==8.0.3->-r ../requirements.txt (line 8)) (7.2.2)\n",
      "Requirement already satisfied: nest-asyncio in /Users/roberte/miniconda3/lib/python3.9/site-packages (from ipykernel>=4.5.1->ipywidgets==8.0.3->-r ../requirements.txt (line 8)) (1.5.5)\n",
      "Requirement already satisfied: debugpy<2.0,>=1.0.0 in /Users/roberte/miniconda3/lib/python3.9/site-packages (from ipykernel>=4.5.1->ipywidgets==8.0.3->-r ../requirements.txt (line 8)) (1.5.1)\n",
      "Requirement already satisfied: tornado<7.0,>=4.2 in /Users/roberte/miniconda3/lib/python3.9/site-packages (from ipykernel>=4.5.1->ipywidgets==8.0.3->-r ../requirements.txt (line 8)) (6.1)\n",
      "Requirement already satisfied: matplotlib-inline<0.2.0,>=0.1.0 in /Users/roberte/miniconda3/lib/python3.9/site-packages (from ipykernel>=4.5.1->ipywidgets==8.0.3->-r ../requirements.txt (line 8)) (0.1.2)\n",
      "Requirement already satisfied: prompt-toolkit!=3.0.0,!=3.0.1,<3.1.0,>=2.0.0 in /Users/roberte/miniconda3/lib/python3.9/site-packages (from ipython>=6.1.0->ipywidgets==8.0.3->-r ../requirements.txt (line 8)) (3.0.20)\n",
      "Requirement already satisfied: pickleshare in /Users/roberte/miniconda3/lib/python3.9/site-packages (from ipython>=6.1.0->ipywidgets==8.0.3->-r ../requirements.txt (line 8)) (0.7.5)\n",
      "Requirement already satisfied: decorator in /Users/roberte/miniconda3/lib/python3.9/site-packages (from ipython>=6.1.0->ipywidgets==8.0.3->-r ../requirements.txt (line 8)) (5.1.1)\n",
      "Requirement already satisfied: jedi>=0.16 in /Users/roberte/miniconda3/lib/python3.9/site-packages (from ipython>=6.1.0->ipywidgets==8.0.3->-r ../requirements.txt (line 8)) (0.18.1)\n",
      "Requirement already satisfied: pygments>=2.4.0 in /Users/roberte/miniconda3/lib/python3.9/site-packages (from ipython>=6.1.0->ipywidgets==8.0.3->-r ../requirements.txt (line 8)) (2.11.2)\n",
      "Requirement already satisfied: pexpect>4.3 in /Users/roberte/miniconda3/lib/python3.9/site-packages (from ipython>=6.1.0->ipywidgets==8.0.3->-r ../requirements.txt (line 8)) (4.8.0)\n",
      "Requirement already satisfied: stack-data in /Users/roberte/miniconda3/lib/python3.9/site-packages (from ipython>=6.1.0->ipywidgets==8.0.3->-r ../requirements.txt (line 8)) (0.2.0)\n",
      "Requirement already satisfied: setuptools>=18.5 in /Users/roberte/miniconda3/lib/python3.9/site-packages (from ipython>=6.1.0->ipywidgets==8.0.3->-r ../requirements.txt (line 8)) (61.2.0)\n",
      "Requirement already satisfied: backcall in /Users/roberte/miniconda3/lib/python3.9/site-packages (from ipython>=6.1.0->ipywidgets==8.0.3->-r ../requirements.txt (line 8)) (0.2.0)\n",
      "Requirement already satisfied: pyparsing!=3.0.5,>=2.0.2 in /Users/roberte/miniconda3/lib/python3.9/site-packages (from packaging>=20.9->huggingface_hub==0.11.0->-r ../requirements.txt (line 2)) (3.0.9)\n",
      "Requirement already satisfied: zipp>=0.5 in /Users/roberte/miniconda3/lib/python3.9/site-packages (from importlib-metadata->diffusers==0.10.2->-r ../requirements.txt (line 3)) (3.8.0)\n",
      "Requirement already satisfied: charset-normalizer~=2.0.0 in /Users/roberte/miniconda3/lib/python3.9/site-packages (from requests->huggingface_hub==0.11.0->-r ../requirements.txt (line 2)) (2.0.4)\n",
      "Requirement already satisfied: certifi>=2017.4.17 in /Users/roberte/miniconda3/lib/python3.9/site-packages (from requests->huggingface_hub==0.11.0->-r ../requirements.txt (line 2)) (2022.5.18.1)\n",
      "Requirement already satisfied: urllib3<1.27,>=1.21.1 in /Users/roberte/miniconda3/lib/python3.9/site-packages (from requests->huggingface_hub==0.11.0->-r ../requirements.txt (line 2)) (1.26.9)\n",
      "Requirement already satisfied: idna<4,>=2.5 in /Users/roberte/miniconda3/lib/python3.9/site-packages (from requests->huggingface_hub==0.11.0->-r ../requirements.txt (line 2)) (3.3)\n",
      "Requirement already satisfied: parso<0.9.0,>=0.8.0 in /Users/roberte/miniconda3/lib/python3.9/site-packages (from jedi>=0.16->ipython>=6.1.0->ipywidgets==8.0.3->-r ../requirements.txt (line 8)) (0.8.3)\n",
      "Requirement already satisfied: entrypoints in /Users/roberte/miniconda3/lib/python3.9/site-packages (from jupyter-client<8.0->ipykernel>=4.5.1->ipywidgets==8.0.3->-r ../requirements.txt (line 8)) (0.4)\n",
      "Requirement already satisfied: jupyter-core>=4.9.2 in /Users/roberte/miniconda3/lib/python3.9/site-packages (from jupyter-client<8.0->ipykernel>=4.5.1->ipywidgets==8.0.3->-r ../requirements.txt (line 8)) (4.10.0)\n",
      "Requirement already satisfied: python-dateutil>=2.8.2 in /Users/roberte/miniconda3/lib/python3.9/site-packages (from jupyter-client<8.0->ipykernel>=4.5.1->ipywidgets==8.0.3->-r ../requirements.txt (line 8)) (2.8.2)\n",
      "Requirement already satisfied: pyzmq>=22.3 in /Users/roberte/miniconda3/lib/python3.9/site-packages (from jupyter-client<8.0->ipykernel>=4.5.1->ipywidgets==8.0.3->-r ../requirements.txt (line 8)) (22.3.0)\n",
      "Requirement already satisfied: ptyprocess>=0.5 in /Users/roberte/miniconda3/lib/python3.9/site-packages (from pexpect>4.3->ipython>=6.1.0->ipywidgets==8.0.3->-r ../requirements.txt (line 8)) (0.7.0)\n",
      "Requirement already satisfied: executing in /Users/roberte/miniconda3/lib/python3.9/site-packages (from stack-data->ipython>=6.1.0->ipywidgets==8.0.3->-r ../requirements.txt (line 8)) (0.8.3)\n",
      "Requirement already satisfied: pure-eval in /Users/roberte/miniconda3/lib/python3.9/site-packages (from stack-data->ipython>=6.1.0->ipywidgets==8.0.3->-r ../requirements.txt (line 8)) (0.2.2)\n",
      "Requirement already satisfied: asttokens in /Users/roberte/miniconda3/lib/python3.9/site-packages (from stack-data->ipython>=6.1.0->ipywidgets==8.0.3->-r ../requirements.txt (line 8)) (2.0.5)\n",
      "Requirement already satisfied: six>=1.5 in /Users/roberte/miniconda3/lib/python3.9/site-packages (from python-dateutil>=2.8.2->jupyter-client<8.0->ipykernel>=4.5.1->ipywidgets==8.0.3->-r ../requirements.txt (line 8)) (1.15.0)\n",
      "Building wheels for collected packages: fairscale\n",
      "  Building wheel for fairscale (pyproject.toml) ... \u001b[?25ldone\n",
      "\u001b[?25h  Created wheel for fairscale: filename=fairscale-0.4.13-py3-none-any.whl size=332113 sha256=94b099806b64b3261b1887d439f39550406a5af09996212e2353eab696cf3f67\n",
      "  Stored in directory: /Users/roberte/Library/Caches/pip/wheels/10/ea/7f/8f35af83599829bb4790bdc16949dd99aeeb62e9a1faf47d47\n",
      "Successfully built fairscale\n",
      "Installing collected packages: widgetsnbextension, jupyterlab-widgets, torchvision, fairscale, timm, ipywidgets\n",
      "  Attempting uninstall: torchvision\n",
      "    Found existing installation: torchvision 0.14.0\n",
      "    Uninstalling torchvision-0.14.0:\n",
      "      Successfully uninstalled torchvision-0.14.0\n",
      "Successfully installed fairscale-0.4.13 ipywidgets-8.0.3 jupyterlab-widgets-3.0.4 timm-0.6.12 torchvision-0.14.1 widgetsnbextension-4.0.4\n",
      "\n",
      "\u001b[1m[\u001b[0m\u001b[34;49mnotice\u001b[0m\u001b[1;39;49m]\u001b[0m\u001b[39;49m A new release of pip available: \u001b[0m\u001b[31;49m22.1.2\u001b[0m\u001b[39;49m -> \u001b[0m\u001b[32;49m22.3.1\u001b[0m\n",
      "\u001b[1m[\u001b[0m\u001b[34;49mnotice\u001b[0m\u001b[1;39;49m]\u001b[0m\u001b[39;49m To update, run: \u001b[0m\u001b[32;49mpip install --upgrade pip\u001b[0m\n"
     ]
    }
   ],
   "source": [
    "!pip install -r ../requirements.txt"
   ]
  },
  {
   "cell_type": "code",
   "execution_count": 1,
   "metadata": {},
   "outputs": [
    {
     "ename": "ModuleNotFoundError",
     "evalue": "No module named 'diffuserslib'",
     "output_type": "error",
     "traceback": [
      "\u001b[0;31m---------------------------------------------------------------------------\u001b[0m",
      "\u001b[0;31mModuleNotFoundError\u001b[0m                       Traceback (most recent call last)",
      "\u001b[1;32m/Users/roberte/workspace_home/projects/diffusers-playground/notebooks/test_web.ipynb Cell 2\u001b[0m in \u001b[0;36m<cell line: 4>\u001b[0;34m()\u001b[0m\n\u001b[1;32m      <a href='vscode-notebook-cell:/Users/roberte/workspace_home/projects/diffusers-playground/notebooks/test_web.ipynb#W1sZmlsZQ%3D%3D?line=0'>1</a>\u001b[0m \u001b[39m# import path\u001b[39;00m\n\u001b[1;32m      <a href='vscode-notebook-cell:/Users/roberte/workspace_home/projects/diffusers-playground/notebooks/test_web.ipynb#W1sZmlsZQ%3D%3D?line=1'>2</a>\u001b[0m \u001b[39m# path.setPathLocalNotebook()\u001b[39;00m\n\u001b[0;32m----> <a href='vscode-notebook-cell:/Users/roberte/workspace_home/projects/diffusers-playground/notebooks/test_web.ipynb#W1sZmlsZQ%3D%3D?line=3'>4</a>\u001b[0m \u001b[39mfrom\u001b[39;00m \u001b[39mdiffuserslib\u001b[39;00m \u001b[39mimport\u001b[39;00m DiffusersView, DiffusersPipelines, startWebServer\n\u001b[1;32m      <a href='vscode-notebook-cell:/Users/roberte/workspace_home/projects/diffusers-playground/notebooks/test_web.ipynb#W1sZmlsZQ%3D%3D?line=5'>6</a>\u001b[0m pipelines \u001b[39m=\u001b[39m DiffusersPipelines(device \u001b[39m=\u001b[39m \u001b[39m\"\u001b[39m\u001b[39mmps\u001b[39m\u001b[39m\"\u001b[39m, safety_checker\u001b[39m=\u001b[39m\u001b[39mTrue\u001b[39;00m)\n\u001b[1;32m      <a href='vscode-notebook-cell:/Users/roberte/workspace_home/projects/diffusers-playground/notebooks/test_web.ipynb#W1sZmlsZQ%3D%3D?line=6'>7</a>\u001b[0m pipelines\u001b[39m.\u001b[39mcreateTextToImagePipeline(\u001b[39m'\u001b[39m\u001b[39mrunwayml/stable-diffusion-v1-5\u001b[39m\u001b[39m'\u001b[39m)\n",
      "\u001b[0;31mModuleNotFoundError\u001b[0m: No module named 'diffuserslib'"
     ]
    }
   ],
   "source": [
    "import path\n",
    "path.setPathLocalNotebook()\n",
    "\n",
    "from diffuserslib import DiffusersView, DiffusersPipelines, startWebServer\n",
    "\n",
    "pipelines = DiffusersPipelines(device = \"mps\", safety_checker=True)\n",
    "pipelines.createTextToImagePipeline('runwayml/stable-diffusion-v1-5')\n",
    "\n",
    "DiffusersView.pipelines = pipelines\n",
    "\n",
    "startWebServer()\n"
   ]
  }
 ],
 "metadata": {
  "kernelspec": {
   "display_name": "Python 3.9.12 ('base')",
   "language": "python",
   "name": "python3"
  },
  "language_info": {
   "codemirror_mode": {
    "name": "ipython",
    "version": 3
   },
   "file_extension": ".py",
   "mimetype": "text/x-python",
   "name": "python",
   "nbconvert_exporter": "python",
   "pygments_lexer": "ipython3",
   "version": "3.9.12"
  },
  "orig_nbformat": 4,
  "vscode": {
   "interpreter": {
    "hash": "72fa5da807d66e755d9910dad0a1729879db0cdcf07f547d81c7ed591edcf3d8"
   }
  }
 },
 "nbformat": 4,
 "nbformat_minor": 2
}
