{
 "cells": [
  {
   "cell_type": "code",
   "execution_count": null,
   "metadata": {},
   "outputs": [],
   "source": [
    "!pip install -r ../requirements.txt"
   ]
  },
  {
   "cell_type": "code",
   "execution_count": 1,
   "metadata": {},
   "outputs": [
    {
     "name": "stdout",
     "output_type": "stream",
     "text": [
      "{'id': 'stabilityai/stable-diffusion-2-1', 'revision': 'fp16', 'autocast': False}\n",
      "{'id': 'stabilityai/stable-diffusion-2-1-base', 'revision': 'fp16'}\n",
      "{'id': 'runwayml/stable-diffusion-v1-5', 'revision': 'fp16'}\n",
      "{'id': 'Aybeeceedee/knollingcase', 'vae': 'stabilityai/sd-vae-ft-mse', 'phrase': 'knollingcase'}\n",
      "{'id': 'dreamlike-art/dreamlike-diffusion-1.0', 'vae': 'stabilityai/sd-vae-ft-mse', 'phrase': 'dreamlikeart'}\n",
      "{'id': 'dreamlike-art/dreamlike-photoreal-2.0', 'vae': 'stabilityai/sd-vae-ft-mse', 'phrase': 'dreamlikeart'}\n",
      "{'id': 'Fictiverse/Stable_Diffusion_PaperCut_Model', 'vae': 'stabilityai/sd-vae-ft-mse', 'phrase': 'papercut'}\n",
      "{'id': 'Fictiverse/Stable_Diffusion_Microscopic_model', 'vae': 'stabilityai/sd-vae-ft-mse', 'phrase': 'microscopic'}\n",
      "{'id': 'hassanblend/HassanBlend1.4', 'vae': 'stabilityai/sd-vae-ft-mse'}\n",
      "{'id': 'hassanblend/HassanBlend1.5.1.2', 'vae': 'stabilityai/sd-vae-ft-mse'}\n",
      "{'id': 'johnslegers/hasdx', 'vae': 'stabilityai/sd-vae-ft-mse'}\n",
      "{'id': 'nitrosocke/redshift-diffusion', 'vae': 'stabilityai/sd-vae-ft-mse', 'phrase': 'redshift style'}\n",
      "{'id': 'plasmo/woolitize', 'vae': 'stabilityai/sd-vae-ft-mse', 'phrase': 'woolitize', 'revision': 'fp16'}\n",
      "{'id': 'prompthero/openjourney', 'vae': 'stabilityai/sd-vae-ft-mse', 'phrase': 'mdjrny-v4 style'}\n",
      "{'id': 'SG161222/Realistic_Vision_V1.3_Fantasy.ai', 'vae': 'stabilityai/sd-vae-ft-mse'}\n",
      "{'id': 'SY573M404/f222-diffusers', 'vae': 'stabilityai/sd-vae-ft-mse'}\n",
      "{'id': 'wavymulder/Analog-Diffusion', 'vae': 'stabilityai/sd-vae-ft-mse', 'phrase': 'analog style'}\n",
      "{'id': 'windwhinny/chilloutmix', 'vae': 'stabilityai/sd-vae-ft-mse'}\n",
      "{'id': 'XpucT/Deliberate', 'vae': 'stabilityai/sd-vae-ft-mse'}\n",
      "{'id': 'stabilityai/stable-diffusion-2-inpainting', 'revision': 'fp16'}\n",
      "{'id': 'runwayml/stable-diffusion-inpainting', 'vae': 'stabilityai/sd-vae-ft-mse', 'revision': 'fp16'}\n",
      "{'id': 'ghunkins/stable-diffusion-liberty-inpainting', 'vae': 'stabilityai/sd-vae-ft-mse'}\n",
      "{'id': 'parlance/dreamlike-diffusion-1.0-inpainting', 'vae': 'stabilityai/sd-vae-ft-mse'}\n",
      "{'id': 'saik0s/realistic_vision_inpainting', 'vae': 'stabilityai/sd-vae-ft-mse'}\n",
      "{'id': 'lllyasviel/sd-controlnet-canny'}\n",
      "{'id': 'lllyasviel/sd-controlnet-depth'}\n",
      "{'id': 'lllyasviel/sd-controlnet-hed'}\n",
      "{'id': 'lllyasviel/sd-controlnet-mlsd'}\n",
      "{'id': 'lllyasviel/sd-controlnet-normal'}\n",
      "{'id': 'lllyasviel/sd-controlnet-openpose'}\n",
      "{'id': 'lllyasviel/sd-controlnet-scribble'}\n",
      "{'id': 'lllyasviel/sd-controlnet-seg'}\n",
      "{'id': 'timbrooks/instruct-pix2pix'}\n",
      "{'id': 'lambdalabs/sd-image-variations-diffusers', 'revision': 'v2.0'}\n",
      "Loading text embeddings for base sd_1_5 from path /Users/rob/GoogleDrive/stable-diffusion/embeds/sd_1_5/\n",
      "Loaded embedding token <blackpinkmechanist1000> from file /Users/rob/GoogleDrive/stable-diffusion/embeds/sd_1_5/object-<blackpinkmechanist1000>-4-1000.bin with 4 vectors\n",
      "Loaded embedding token <metalmachine1000> from file /Users/rob/GoogleDrive/stable-diffusion/embeds/sd_1_5/object-<metalmachine1000>-tiny_shiny_metal_machine-4-1000.bin.bin with 4 vectors\n",
      "Loaded embedding token <woodcarving1000> from file /Users/rob/GoogleDrive/stable-diffusion/embeds/sd_1_5/object-<woodcarving1000>-painted-wood-relief-carving-4-1000.bin.bin with 4 vectors\n",
      "Loaded embedding token <door> from file /Users/rob/GoogleDrive/stable-diffusion/embeds/sd_1_5/object_door_obj_1000.bin with 1 vectors\n",
      "Loaded embedding token <glow> from file /Users/rob/GoogleDrive/stable-diffusion/embeds/sd_1_5/person-<glow>-1-1000.bin with 1 vectors\n",
      "Loaded embedding token <alice> from file /Users/rob/GoogleDrive/stable-diffusion/embeds/sd_1_5/person_<alice>-1-1000.bin with 1 vectors\n",
      "Loaded embedding token <bella> from file /Users/rob/GoogleDrive/stable-diffusion/embeds/sd_1_5/person_<bella>-1-1000.bin with 1 vectors\n",
      "Loaded embedding token <bellap> from file /Users/rob/GoogleDrive/stable-diffusion/embeds/sd_1_5/person_<bellap>-1-1000.bin with 1 vectors\n",
      "Loaded embedding token <chloe> from file /Users/rob/GoogleDrive/stable-diffusion/embeds/sd_1_5/person_<chloe>-1-1000.bin with 1 vectors\n",
      "Loaded embedding token <frivvy1000> from file /Users/rob/GoogleDrive/stable-diffusion/embeds/sd_1_5/person_<frivvy1000>-beautiful-cute-woman-girl-4-1000.bin with 4 vectors\n",
      "Loaded embedding token <frivvy500> from file /Users/rob/GoogleDrive/stable-diffusion/embeds/sd_1_5/person_<frivvy500>-beautiful-cute-woman-girl-4-500.bin with 4 vectors\n",
      "Loaded embedding token <frivvy> from file /Users/rob/GoogleDrive/stable-diffusion/embeds/sd_1_5/person_<frivvy>-1-1000.bin with 1 vectors\n",
      "Loaded embedding token <iulje> from file /Users/rob/GoogleDrive/stable-diffusion/embeds/sd_1_5/person_<iulje>.pt with 2 vectors\n",
      "Loaded embedding token <jazmin1000> from file /Users/rob/GoogleDrive/stable-diffusion/embeds/sd_1_5/person_<jazmin1000>-4-1000.bin with 4 vectors\n",
      "Loaded embedding token <jazmin> from file /Users/rob/GoogleDrive/stable-diffusion/embeds/sd_1_5/person_<jazmin>-1-1000.bin with 1 vectors\n",
      "Loaded embedding token <jenfox> from file /Users/rob/GoogleDrive/stable-diffusion/embeds/sd_1_5/person_<jenfox>-1-1000.bin with 1 vectors\n",
      "Loaded embedding token <maimy> from file /Users/rob/GoogleDrive/stable-diffusion/embeds/sd_1_5/person_<maimy>-1-1000.bin with 1 vectors\n",
      "Loaded embedding token <minnijo> from file /Users/rob/GoogleDrive/stable-diffusion/embeds/sd_1_5/person_<minnijo>-1-1000.bin with 1 vectors\n",
      "Loaded embedding token <poppy> from file /Users/rob/GoogleDrive/stable-diffusion/embeds/sd_1_5/person_<poppy>-1-1000.bin with 1 vectors\n",
      "Loaded embedding token <skin> from file /Users/rob/GoogleDrive/stable-diffusion/embeds/sd_1_5/person_<skin>-1-1000.bin with 1 vectors\n",
      "Loaded embedding token <suzy> from file /Users/rob/GoogleDrive/stable-diffusion/embeds/sd_1_5/person_<suzy>-1-1000.bin with 1 vectors\n",
      "Loaded embedding token <veronica> from file /Users/rob/GoogleDrive/stable-diffusion/embeds/sd_1_5/person_<veronica>-1-1000.bin with 1 vectors\n",
      "Loaded embedding token <vina> from file /Users/rob/GoogleDrive/stable-diffusion/embeds/sd_1_5/person_<vina>-1-1000.bin with 1 vectors\n",
      "Loaded embedding token <blackpink1000> from file /Users/rob/GoogleDrive/stable-diffusion/embeds/sd_1_5/style_<blackpink1000>-4-1000.bin with 4 vectors\n",
      "Loaded embedding token <deformed1000> from file /Users/rob/GoogleDrive/stable-diffusion/embeds/sd_1_5/style_<deformed1000>-4-1000.bin with 4 vectors\n",
      "Loaded embedding token <deformed500> from file /Users/rob/GoogleDrive/stable-diffusion/embeds/sd_1_5/style_<deformed500>-4-500.bin with 4 vectors\n",
      "Loaded embedding token <redgiant1000> from file /Users/rob/GoogleDrive/stable-diffusion/embeds/sd_1_5/style_<redgiant1000>-4-1000.bin with 4 vectors\n",
      "Loaded embedding token <redgiant500> from file /Users/rob/GoogleDrive/stable-diffusion/embeds/sd_1_5/style_<redgiant500>-4-500.bin with 4 vectors\n",
      "Loaded embedding token <redpaint> from file /Users/rob/GoogleDrive/stable-diffusion/embeds/sd_1_5/style_<redpaint>-1-1000.bin with 1 vectors\n",
      "Loaded embedding token <surrealpencil1000> from file /Users/rob/GoogleDrive/stable-diffusion/embeds/sd_1_5/style_<surrealpencil1000>-4-1000.bin with 4 vectors\n",
      "Loaded embedding token <doorstyle> from file /Users/rob/GoogleDrive/stable-diffusion/embeds/sd_1_5/style_doorstyle_1000.bin with 1 vectors\n",
      "Loading text embeddings for base sd_2_1_512 from path /Users/rob/GoogleDrive/stable-diffusion/embeds/sd_2_1_512/\n",
      "Loaded embedding token <hyperreal> from file /Users/rob/GoogleDrive/stable-diffusion/embeds/sd_2_1_512/embed_style_hyperreal_1000.bin with 1 vectors\n",
      "Loading text embeddings for base sd_2_1_768 from path /Users/rob/GoogleDrive/stable-diffusion/embeds/sd_2_1_768/\n",
      "Loaded embedding token <kipaki> from file /Users/rob/GoogleDrive/stable-diffusion/embeds/sd_2_1_768/<kipaki>-100.pt with 8 vectors\n",
      "Loaded embedding token <vintage> from file /Users/rob/GoogleDrive/stable-diffusion/embeds/sd_2_1_768/VintageHelper_<vintage>.pt with 8 vectors\n",
      " * Serving Flask app 'diffuserslib.Web' (lazy loading)\n",
      " * Environment: production\n",
      "\u001b[31m   WARNING: This is a development server. Do not use it in a production deployment.\u001b[0m\n",
      "\u001b[2m   Use a production WSGI server instead.\u001b[0m\n",
      " * Debug mode: off\n"
     ]
    },
    {
     "name": "stderr",
     "output_type": "stream",
     "text": [
      " * Running on http://127.0.0.1:5000 (Press CTRL+C to quit)\n"
     ]
    }
   ],
   "source": [
    "import path\n",
    "path.setPathLocalNotebook()\n",
    "\n",
    "from diffuserslib import DiffusersView, DiffusersPipelines, startWebServer, DiffusersBaseModel, AUTOENCODER_MODEL_1_5\n",
    "\n",
    "local_weight_dir = '/Users/rob/GoogleDrive/stable-diffusion/weights'\n",
    "learned_embeds_path = \"/Users/rob/GoogleDrive/stable-diffusion/embeds\"\n",
    "\n",
    "pipelines = DiffusersPipelines(localmodelpath=local_weight_dir, device = \"mps\", safety_checker=False)\n",
    "pipelines.loadPresetFile(\"../modelconfig.yml\")\n",
    "# pipelines.addPresetImage('f222', DiffusersBaseModel.sd_1_5, revision='fp16', vae=AUTOENCODER_MODEL_1_5, location='local')\n",
    "pipelines.loadTextEmbeddings(learned_embeds_path)\n",
    "\n",
    "DiffusersView.pipelines = pipelines\n",
    "\n",
    "startWebServer()\n"
   ]
  }
 ],
 "metadata": {
  "kernelspec": {
   "display_name": "Python 3",
   "language": "python",
   "name": "python3"
  },
  "language_info": {
   "codemirror_mode": {
    "name": "ipython",
    "version": 3
   },
   "file_extension": ".py",
   "mimetype": "text/x-python",
   "name": "python",
   "nbconvert_exporter": "python",
   "pygments_lexer": "ipython3",
   "version": "3.9.13"
  },
  "orig_nbformat": 4,
  "vscode": {
   "interpreter": {
    "hash": "aee8b7b246df8f9039afb4144a1f6fd8d2ca17a180786b69acc140d282b71a49"
   }
  }
 },
 "nbformat": 4,
 "nbformat_minor": 2
}
