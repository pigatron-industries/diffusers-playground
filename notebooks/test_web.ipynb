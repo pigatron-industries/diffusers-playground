{
 "cells": [
  {
   "cell_type": "code",
   "execution_count": null,
   "metadata": {},
   "outputs": [],
   "source": [
    "!pip install -r ../requirements.txt"
   ]
  },
  {
   "cell_type": "code",
   "execution_count": null,
   "metadata": {},
   "outputs": [],
   "source": [
    "import path\n",
    "path.setPathLocalNotebook()\n",
    "\n",
    "from diffuserslib import DiffusersView, DiffusersPipelines, startWebServer\n",
    "\n",
    "pipelines = DiffusersPipelines(device = \"mps\", safety_checker=True)\n",
    "pipelines.createTextToImagePipeline('runwayml/stable-diffusion-v1-5')\n",
    "\n",
    "DiffusersView.pipelines = pipelines\n",
    "\n",
    "startWebServer()\n"
   ]
  }
 ],
 "metadata": {
  "kernelspec": {
   "display_name": "base",
   "language": "python",
   "name": "python3"
  },
  "language_info": {
   "codemirror_mode": {
    "name": "ipython",
    "version": 3
   },
   "file_extension": ".py",
   "mimetype": "text/x-python",
   "name": "python",
   "nbconvert_exporter": "python",
   "pygments_lexer": "ipython3",
   "version": "3.9.12"
  },
  "orig_nbformat": 4,
  "vscode": {
   "interpreter": {
    "hash": "72fa5da807d66e755d9910dad0a1729879db0cdcf07f547d81c7ed591edcf3d8"
   }
  }
 },
 "nbformat": 4,
 "nbformat_minor": 2
}
